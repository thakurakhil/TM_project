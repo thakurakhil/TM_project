{
 "cells": [
  {
   "cell_type": "code",
   "execution_count": 1,
   "id": "c820d356",
   "metadata": {},
   "outputs": [],
   "source": [
    "import pandas as pd\n",
    "import numpy as np\n",
    "import matplotlib.pyplot as plt\n",
    "import requests\n",
    "from bs4 import BeautifulSoup\n",
    "from newsapi import NewsApiClient\n",
    "import os\n",
    "from sklearn.feature_extraction.text import CountVectorizer, TfidfVectorizer\n",
    "import pandas as pd\n",
    "import re\n",
    "current_directory = os.getcwd()\n",
    "\n",
    "#topics = ['gun ownership', 'mass shooting', 'hunting', 'second amendment','freedom']\n",
    "\n",
    "pos_topics = [\n",
    "    'Self-defense', 'Second Amendment rights', 'personal freedom', 'home protection', 'sport shooting', 'hunting'\n",
    "]\n",
    "\n",
    "neg_topics = [\n",
    "    'Gun violence', 'mass shootings', 'accidental shootings', 'crime', 'suicide', 'gun control', 'public safety'\n",
    "]\n",
    "\n",
    "topics = pos_topics + neg_topics"
   ]
  },
  {
   "cell_type": "code",
   "execution_count": 3,
   "id": "29e85996",
   "metadata": {},
   "outputs": [],
   "source": [
    "non_related_topics = ['ice-cream','honey','flowers','simming','library','snow']"
   ]
  },
  {
   "cell_type": "code",
   "execution_count": 3,
   "id": "735c20ba",
   "metadata": {},
   "outputs": [],
   "source": [
    "from nltk.stem import WordNetLemmatizer \n",
    "LEMMER = WordNetLemmatizer() \n",
    "\n",
    "from nltk.stem.porter import PorterStemmer\n",
    "STEMMER=PorterStemmer()\n",
    "\n",
    "def MY_STEMMER(str_input):\n",
    "    words = re.sub(r\"[^A-Za-z\\-]\", \" \", str_input).lower().split()\n",
    "    words = [STEMMER.stem(word) for word in words]\n",
    "    return words\n",
    "\n",
    "def MY_LEMMER(str_input):\n",
    "    words = re.sub(r\"[^A-Za-z\\-]\", \" \", str_input).lower().split()\n",
    "    words = [LEMMER.lemmatize(word) for word in words]\n",
    "    return words"
   ]
  },
  {
   "cell_type": "code",
   "execution_count": 7,
   "id": "c1d7eba2",
   "metadata": {},
   "outputs": [],
   "source": []
  },
  {
   "cell_type": "code",
   "execution_count": 7,
   "id": "2677c5f2",
   "metadata": {},
   "outputs": [
    {
     "name": "stdout",
     "output_type": "stream",
     "text": [
      "/home/akhil/CUB/Spring 2023/TM/TM_project/part3\n"
     ]
    }
   ],
   "source": [
    "print(current_directory)"
   ]
  },
  {
   "cell_type": "code",
   "execution_count": 3,
   "id": "9b5fa94b",
   "metadata": {
    "scrolled": false
   },
   "outputs": [
    {
     "data": {
      "text/plain": [
       "['Self-defense',\n",
       " 'Second Amendment rights',\n",
       " 'personal freedom',\n",
       " 'home protection',\n",
       " 'sport shooting',\n",
       " 'hunting',\n",
       " 'Gun violence',\n",
       " 'mass shootings',\n",
       " 'accidental shootings',\n",
       " 'crime',\n",
       " 'suicide',\n",
       " 'gun control',\n",
       " 'public safety']"
      ]
     },
     "execution_count": 3,
     "metadata": {},
     "output_type": "execute_result"
    }
   ],
   "source": [
    "topics"
   ]
  },
  {
   "cell_type": "code",
   "execution_count": 2,
   "id": "a3fdc81d",
   "metadata": {},
   "outputs": [],
   "source": [
    "newsapi = NewsApiClient(api_key='76acda18a67042c3b2e0568a00b9d8cf')\n"
   ]
  },
  {
   "cell_type": "code",
   "execution_count": 3,
   "id": "dcb28a10",
   "metadata": {},
   "outputs": [],
   "source": [
    "from GoogleNews import GoogleNews\n",
    "googlenews = GoogleNews(lang='en', region='US',start='01/01/2023',end='02/01/2023')"
   ]
  },
  {
   "cell_type": "code",
   "execution_count": 9,
   "id": "f2a0ec64",
   "metadata": {
    "scrolled": true
   },
   "outputs": [
    {
     "name": "stdout",
     "output_type": "stream",
     "text": [
      "https://news.google.com/search?q=Self-defense&hl=en\n",
      "https://news.google.com/search?q=Second%2BAmendment%2Brights&hl=en\n",
      "https://news.google.com/search?q=personal%2Bfreedom&hl=en\n",
      "https://news.google.com/search?q=home%2Bprotection&hl=en\n",
      "https://news.google.com/search?q=sport%2Bshooting&hl=en\n",
      "https://news.google.com/search?q=hunting&hl=en\n",
      "https://news.google.com/search?q=Gun%2Bviolence&hl=en\n",
      "https://news.google.com/search?q=mass%2Bshootings&hl=en\n",
      "https://news.google.com/search?q=accidental%2Bshootings&hl=en\n",
      "https://news.google.com/search?q=crime&hl=en\n",
      "https://news.google.com/search?q=suicide&hl=en\n",
      "https://news.google.com/search?q=gun%2Bcontrol&hl=en\n",
      "https://news.google.com/search?q=public%2Bsafety&hl=en\n"
     ]
    }
   ],
   "source": [
    "all_google_results = []\n",
    "all_google_labels = []\n",
    "for topic in topics:\n",
    "    all_articles = newsapi.get_everything(q=topic,\n",
    "                                      page_size=100)\n",
    "    corpus_directory = os.path.join(current_directory, \"corpus\")\n",
    "    if not os.path.exists(corpus_directory):\n",
    "        os.makedirs(corpus_directory)\n",
    "    corpus_directory = os.path.join(corpus_directory, topic)\n",
    "    if not os.path.exists(corpus_directory):\n",
    "        os.makedirs(corpus_directory)\n",
    "    file_count = 0\n",
    "    for article in all_articles['articles']:\n",
    "        description = article['description']\n",
    "        if description:\n",
    "            all_google_results.append(description)\n",
    "        file_count += 1\n",
    "        filename= topic+str(file_count)+\".txt\"\n",
    "        MyFile=open(corpus_directory + \"/\" + filename,\"w+\")\n",
    "        MyFile.write(description or \"\")\n",
    "        MyFile.close()\n",
    "    googlenews.get_news(topic)\n",
    "    google_results = googlenews.get_texts()\n",
    "    all_google_results.extend(google_results)\n",
    "    #all_google_labels.extend([topic]*len(google_results))\n",
    "    \n",
    "    o_file_count = 0\n",
    "    for article in google_results:\n",
    "        if o_file_count == 200:\n",
    "            break\n",
    "        description = article\n",
    "        file_count += 1\n",
    "        o_file_count+= 1\n",
    "        filename= topic+str(file_count)+\".txt\"\n",
    "        MyFile=open(corpus_directory + \"/\" + filename,\"w+\")\n",
    "        MyFile.write(description or \"\")\n",
    "        MyFile.close()"
   ]
  },
  {
   "cell_type": "code",
   "execution_count": 6,
   "id": "867e2d12",
   "metadata": {},
   "outputs": [],
   "source": [
    "from sklearn.model_selection import train_test_split"
   ]
  },
  {
   "cell_type": "code",
   "execution_count": 16,
   "id": "3c581793",
   "metadata": {},
   "outputs": [
    {
     "name": "stderr",
     "output_type": "stream",
     "text": [
      "2023-05-02 11:57:07.945337: W tensorflow/stream_executor/platform/default/dso_loader.cc:64] Could not load dynamic library 'libcudart.so.11.0'; dlerror: libcudart.so.11.0: cannot open shared object file: No such file or directory\n",
      "2023-05-02 11:57:07.945357: I tensorflow/stream_executor/cuda/cudart_stub.cc:29] Ignore above cudart dlerror if you do not have a GPU set up on your machine.\n"
     ]
    }
   ],
   "source": [
    "from tensorflow.keras.preprocessing.text import Tokenizer\n"
   ]
  },
  {
   "cell_type": "code",
   "execution_count": 10,
   "id": "83f4049e",
   "metadata": {},
   "outputs": [],
   "source": [
    "# Set the path to the directory containing the subdirectories of text files\n",
    "directory_path = \"/home/akhil/CUB/Spring 2023/TM/TM_project/part3/corpus\"\n",
    "\n",
    "# Create an empty list to store the data from each file\n",
    "data = []\n",
    "\n",
    "# Iterate through each subdirectory in the main directory\n",
    "for subdir in os.listdir(directory_path):\n",
    "    subdir_path = os.path.join(directory_path, subdir)\n",
    "    \n",
    "    # Iterate through each file in the subdirectory\n",
    "    for file in os.listdir(subdir_path):\n",
    "        file_path = os.path.join(subdir_path, file)\n",
    "        \n",
    "        # Read the contents of the file\n",
    "        with open(file_path, \"r\") as f:\n",
    "            contents = f.read()\n",
    "        \n",
    "        # Append the data to the list along with the label (subdirectory name)\n",
    "        data.append((subdir, contents))\n",
    "        \n",
    "# Convert the list to a DataFrame\n",
    "df_topics = pd.DataFrame(data, columns=[\"Label\", \"Post\"])"
   ]
  },
  {
   "cell_type": "code",
   "execution_count": 11,
   "id": "31937cd5",
   "metadata": {},
   "outputs": [
    {
     "data": {
      "text/html": [
       "<div>\n",
       "<style scoped>\n",
       "    .dataframe tbody tr th:only-of-type {\n",
       "        vertical-align: middle;\n",
       "    }\n",
       "\n",
       "    .dataframe tbody tr th {\n",
       "        vertical-align: top;\n",
       "    }\n",
       "\n",
       "    .dataframe thead th {\n",
       "        text-align: right;\n",
       "    }\n",
       "</style>\n",
       "<table border=\"1\" class=\"dataframe\">\n",
       "  <thead>\n",
       "    <tr style=\"text-align: right;\">\n",
       "      <th></th>\n",
       "      <th>Label</th>\n",
       "      <th>Post</th>\n",
       "    </tr>\n",
       "  </thead>\n",
       "  <tbody>\n",
       "    <tr>\n",
       "      <th>0</th>\n",
       "      <td>Self-defense</td>\n",
       "      <td>Attorneys argue soccer complex shooting was ac...</td>\n",
       "    </tr>\n",
       "    <tr>\n",
       "      <th>1</th>\n",
       "      <td>Self-defense</td>\n",
       "      <td>Town by Town: food bank road show, mother-daug...</td>\n",
       "    </tr>\n",
       "    <tr>\n",
       "      <th>2</th>\n",
       "      <td>Self-defense</td>\n",
       "      <td>'Thought police': Hunterdon Central school boa...</td>\n",
       "    </tr>\n",
       "    <tr>\n",
       "      <th>3</th>\n",
       "      <td>Self-defense</td>\n",
       "      <td>What is a 'Second Amendment Sanctuary'? Pocono...</td>\n",
       "    </tr>\n",
       "    <tr>\n",
       "      <th>4</th>\n",
       "      <td>Self-defense</td>\n",
       "      <td>Jorge Masvidal recommends celebrity lawyer for...</td>\n",
       "    </tr>\n",
       "    <tr>\n",
       "      <th>...</th>\n",
       "      <td>...</td>\n",
       "      <td>...</td>\n",
       "    </tr>\n",
       "    <tr>\n",
       "      <th>3860</th>\n",
       "      <td>public safety</td>\n",
       "      <td>Fumio Kishida said Japan must \"maximise\" secur...</td>\n",
       "    </tr>\n",
       "    <tr>\n",
       "      <th>3861</th>\n",
       "      <td>public safety</td>\n",
       "      <td>Gov. Ron DeSantis signed a bill Monday that el...</td>\n",
       "    </tr>\n",
       "    <tr>\n",
       "      <th>3862</th>\n",
       "      <td>public safety</td>\n",
       "      <td>Understanding the origin and evolutions of the...</td>\n",
       "    </tr>\n",
       "    <tr>\n",
       "      <th>3863</th>\n",
       "      <td>public safety</td>\n",
       "      <td>State's high court shoots down man's claim of ...</td>\n",
       "    </tr>\n",
       "    <tr>\n",
       "      <th>3864</th>\n",
       "      <td>public safety</td>\n",
       "      <td>After Greece shooting, lawyer explains self-de...</td>\n",
       "    </tr>\n",
       "  </tbody>\n",
       "</table>\n",
       "<p>3865 rows × 2 columns</p>\n",
       "</div>"
      ],
      "text/plain": [
       "              Label                                               Post\n",
       "0      Self-defense  Attorneys argue soccer complex shooting was ac...\n",
       "1      Self-defense  Town by Town: food bank road show, mother-daug...\n",
       "2      Self-defense  'Thought police': Hunterdon Central school boa...\n",
       "3      Self-defense  What is a 'Second Amendment Sanctuary'? Pocono...\n",
       "4      Self-defense  Jorge Masvidal recommends celebrity lawyer for...\n",
       "...             ...                                                ...\n",
       "3860  public safety  Fumio Kishida said Japan must \"maximise\" secur...\n",
       "3861  public safety  Gov. Ron DeSantis signed a bill Monday that el...\n",
       "3862  public safety  Understanding the origin and evolutions of the...\n",
       "3863  public safety  State's high court shoots down man's claim of ...\n",
       "3864  public safety  After Greece shooting, lawyer explains self-de...\n",
       "\n",
       "[3865 rows x 2 columns]"
      ]
     },
     "execution_count": 11,
     "metadata": {},
     "output_type": "execute_result"
    }
   ],
   "source": [
    "df_topics"
   ]
  },
  {
   "cell_type": "code",
   "execution_count": 12,
   "id": "ef98b92c",
   "metadata": {},
   "outputs": [],
   "source": [
    "pos_topics = [\n",
    "    'Self-defense', 'Second Amendment rights', 'personal freedom', 'home protection', 'sport shooting', 'hunting'\n",
    "]\n",
    "\n",
    "neg_topics = [\n",
    "    'Gun violence', 'mass shootings', 'accidental shootings', 'crime', 'suicide', 'gun control', 'public safety'\n",
    "]"
   ]
  },
  {
   "cell_type": "code",
   "execution_count": 13,
   "id": "e3b9040c",
   "metadata": {},
   "outputs": [],
   "source": [
    "df_topics[\"Label\"] = df_topics[\"Label\"].apply(lambda x: 1 if x in pos_topics else 0)\n"
   ]
  },
  {
   "cell_type": "code",
   "execution_count": 138,
   "id": "a33e9c54",
   "metadata": {},
   "outputs": [
    {
     "data": {
      "text/html": [
       "<div>\n",
       "<style scoped>\n",
       "    .dataframe tbody tr th:only-of-type {\n",
       "        vertical-align: middle;\n",
       "    }\n",
       "\n",
       "    .dataframe tbody tr th {\n",
       "        vertical-align: top;\n",
       "    }\n",
       "\n",
       "    .dataframe thead th {\n",
       "        text-align: right;\n",
       "    }\n",
       "</style>\n",
       "<table border=\"1\" class=\"dataframe\">\n",
       "  <thead>\n",
       "    <tr style=\"text-align: right;\">\n",
       "      <th></th>\n",
       "      <th>Label</th>\n",
       "      <th>Post</th>\n",
       "    </tr>\n",
       "  </thead>\n",
       "  <tbody>\n",
       "    <tr>\n",
       "      <th>0</th>\n",
       "      <td>1</td>\n",
       "      <td>Opinion | Germany needs to follow Japan's lead...</td>\n",
       "    </tr>\n",
       "    <tr>\n",
       "      <th>1</th>\n",
       "      <td>1</td>\n",
       "      <td>80-Year-Old Man Accused of Killing Son, Says I...</td>\n",
       "    </tr>\n",
       "    <tr>\n",
       "      <th>2</th>\n",
       "      <td>1</td>\n",
       "      <td>Missouri: Committee Hearing Public Transit Sel...</td>\n",
       "    </tr>\n",
       "    <tr>\n",
       "      <th>3</th>\n",
       "      <td>1</td>\n",
       "      <td>New Mexico State men's basketball has suspende...</td>\n",
       "    </tr>\n",
       "    <tr>\n",
       "      <th>4</th>\n",
       "      <td>1</td>\n",
       "      <td>The man's lawyer believes he should go to a me...</td>\n",
       "    </tr>\n",
       "    <tr>\n",
       "      <th>...</th>\n",
       "      <td>...</td>\n",
       "      <td>...</td>\n",
       "    </tr>\n",
       "    <tr>\n",
       "      <th>2531</th>\n",
       "      <td>0</td>\n",
       "      <td>We outline the panel’s conclusions regarding t...</td>\n",
       "    </tr>\n",
       "    <tr>\n",
       "      <th>2532</th>\n",
       "      <td>0</td>\n",
       "      <td>The ad was created by The Dawn Project, an org...</td>\n",
       "    </tr>\n",
       "    <tr>\n",
       "      <th>2533</th>\n",
       "      <td>0</td>\n",
       "      <td>No one hurt in ‘unplanned’ explosion of 250kg ...</td>\n",
       "    </tr>\n",
       "    <tr>\n",
       "      <th>2534</th>\n",
       "      <td>0</td>\n",
       "      <td>As trial opens in Santa Fe DJ's shooting death...</td>\n",
       "    </tr>\n",
       "    <tr>\n",
       "      <th>2535</th>\n",
       "      <td>0</td>\n",
       "      <td>Fatal shooting causes concerns about lethal se...</td>\n",
       "    </tr>\n",
       "  </tbody>\n",
       "</table>\n",
       "<p>2536 rows × 2 columns</p>\n",
       "</div>"
      ],
      "text/plain": [
       "      Label                                               Post\n",
       "0         1  Opinion | Germany needs to follow Japan's lead...\n",
       "1         1  80-Year-Old Man Accused of Killing Son, Says I...\n",
       "2         1  Missouri: Committee Hearing Public Transit Sel...\n",
       "3         1  New Mexico State men's basketball has suspende...\n",
       "4         1  The man's lawyer believes he should go to a me...\n",
       "...     ...                                                ...\n",
       "2531      0  We outline the panel’s conclusions regarding t...\n",
       "2532      0  The ad was created by The Dawn Project, an org...\n",
       "2533      0  No one hurt in ‘unplanned’ explosion of 250kg ...\n",
       "2534      0  As trial opens in Santa Fe DJ's shooting death...\n",
       "2535      0  Fatal shooting causes concerns about lethal se...\n",
       "\n",
       "[2536 rows x 2 columns]"
      ]
     },
     "execution_count": 138,
     "metadata": {},
     "output_type": "execute_result"
    }
   ],
   "source": [
    "df_topics"
   ]
  },
  {
   "cell_type": "code",
   "execution_count": 14,
   "id": "d2cb6065",
   "metadata": {},
   "outputs": [],
   "source": [
    "X = df_topics['Post']\n",
    "Y = df_topics['Label']\n",
    "sentences = X.values\n"
   ]
  },
  {
   "cell_type": "code",
   "execution_count": 17,
   "id": "4e54ff6f",
   "metadata": {},
   "outputs": [
    {
     "name": "stdout",
     "output_type": "stream",
     "text": [
      "{'the': 1, 'in': 2, 'to': 3, 'a': 4, 'of': 5, 'self': 6, 'defense': 7, 'and': 8, 'for': 9, 'amendment': 10, 'second': 11, 'on': 12, 'gun': 13, 'is': 14, 'shooting': 15, 'that': 16, 'with': 17, 'are': 18, 'was': 19, 'rights': 20, 'after': 21, 'it': 22, 'from': 23, 'at': 24, 'man': 25, 'who': 26, 'by': 27, 'as': 28, 'bill': 29, 'an': 30, 'has': 31, 'have': 32, 'new': 33, 'says': 34, 'be': 35, 'his': 36, 'he': 37, 'li': 38, 'court': 39, 'about': 40, 'but': 41, 'can': 42, 'guns': 43, 'shot': 44, 'claims': 45, 'law': 46, 'assault': 47, 'not': 48, 'police': 49, 'been': 50, 'woman': 51, 'over': 52, 'state': 53, 'county': 54, 'what': 55, 'laws': 56, 'say': 57, 'their': 58, 'public': 59, 'governor': 60, 'year': 61, 'this': 62, 'more': 63, 'people': 64, 'they': 65, 'class': 66, 'will': 67, 'into': 68, 'news': 69, 'house': 70, 'classes': 71, 'carry': 72, 'safety': 73, 'first': 74, 'school': 75, '–': 76, 'said': 77, 'shootings': 78, 'protect': 79, 'signs': 80, '…': 81, 'murder': 82, 'out': 83, 'mass': 84, 'i': 85, 'being': 86, 'killed': 87, 'bills': 88, 'supreme': 89, 'one': 90, 'or': 91, 'fatal': 92, 'may': 93, 'two': 94, 'when': 95, 'us': 96, 'old': 97, 'anti': 98, 'you': 99, 'claim': 100, 'control': 101, 's': 102, 'her': 103, '2nd': 104, 'would': 105, 'texas': 106, 'all': 107, 'violence': 108, 'judge': 109, 'crime': 110, 'case': 111, 'action': 112, 'up': 113, 'years': 114, 'against': 115, 'were': 116, 'your': 117, 'opinion': 118, 'weapons': 119, 'tennessee': 120, 'michigan': 121, 'attorney': 122, 'walgreens': 123, 'like': 124, 'u': 125, 'how': 126, 'killing': 127, 'could': 128, 'home': 129, 'week': 130, 'free': 131, 'we': 132, 'she': 133, 'teen': 134, 'women': 135, 'four': 136, 'its': 137, 'gov': 138, 'claiming': 139, 'ban': 140, 'lawyer': 141, 'accused': 142, 'guard': 143, 'get': 144, 'some': 145, 'war': 146, 'letters': 147, 'san': 148, 'off': 149, 'day': 150, 'three': 151, 'urgent': 152, 'had': 153, 'federal': 154, 'president': 155, 'most': 156, 'back': 157, 'states': 158, 'office': 159, '2023': 160, 'legislature': 161, 'again': 162, 'vote': 163, 'francisco': 164, 'prosecutors': 165, 'do': 166, 'last': 167, 'during': 168, 'other': 169, 'com': 170, 'suspect': 171, 'colorado': 172, 'go': 173, 'black': 174, 'offers': 175, 'charge': 176, '—': 177, 'daniel': 178, 'perry': 179, 'trump': 180, 'now': 181, 'republican': 182, 'act': 183, 'board': 184, 'family': 185, 'attack': 186, 'just': 187, 'program': 188, 'nra': 189, 'fight': 190, 'them': 191, 'following': 192, 'advocates': 193, 'lawmakers': 194, 'time': 195, 'no': 196, 'support': 197, 'letter': 198, 'including': 199, 'so': 200, 'reform': 201, 'rules': 202, 'former': 203, 'security': 204, 'legal': 205, 'washington': 206, 'group': 207, 'civil': 208, 'resolution': 209, 'than': 210, 'our': 211, 'nate': 212, 'diaz': 213, 'which': 214, 'general': 215, \"it's\": 216, 'charged': 217, 'protecting': 218, 'nashville': 219, 'session': 220, 'gop': 221, 'needed': 222, 'my': 223, 'deadly': 224, 'recent': 225, 'concealed': 226, 'introduce': 227, 'acted': 228, 'handgun': 229, 'indiana': 230, 'shoots': 231, 'before': 232, 'high': 233, 'illinois': 234, 'fire': 235, 'bank': 236, 'monday': 237, 'health': 238, 'defends': 239, 'delaware': 240, 'maryland': 241, '18': 242, 'tips': 243, 'constitutional': 244, 'decision': 245, 'despite': 246, 'if': 247, 'safe': 248, 'down': 249, 'multiple': 250, '1': 251, 'post': 252, '2': 253, 'missouri': 254, 'gas': 255, 'where': 256, '20': 257, 'officials': 258, 'show': 259, 'according': 260, 'ul': 261, 'term': 262, 'issues': 263, '11': 264, 'banning': 265, 'there': 266, 'latest': 267, 'smart': 268, 'road': 269, 'kids': 270, 'between': 271, 'turned': 272, 'charges': 273, 'while': 274, 'host': 275, 'outside': 276, 'special': 277, 'town': 278, 'white': 279, 'pro': 280, 'city': 281, 'same': 282, 'die': 283, 'rep': 284, 'long': 285, 'also': 286, 'justin': 287, 'suicide': 288, 'desantis': 289, 'many': 290, 'continues': 291, 'claimed': 292, 'trial': 293, 'style': 294, 'report': 295, 'why': 296, 'national': 297, 'freedom': 298, 'south': 299, 'best': 300, 'speaks': 301, 'tuesday': 302, 'next': 303, 'change': 304, 'world': 305, 'uses': 306, 'republicans': 307, 'under': 308, 'hunting': 309, 'military': 310, 'kennedy': 311, '15': 312, 'personal': 313, 'co': 314, 'ruling': 315, 'right': 316, 'maine': 317, 'death': 318, 'sales': 319, 'york': 320, 'friday': 321, 'hearing': 322, 'journal': 323, 'f': 324, 'focus': 325, 'calls': 326, '2021': 327, 'deaths': 328, 'protest': 329, 'every': 330, 'employee': 331, 'senate': 332, 'arrest': 333, 'scheduled': 334, 'these': 335, 'wake': 336, 'democratic': 337, 'told': 338, 'made': 339, 'help': 340, 'ol’': 341, \"women's\": 342, 'alleged': 343, 'allows': 344, 'become': 345, 'gives': 346, 'see': 347, 'only': 348, 'louisville': 349, 'big': 350, 'martial': 351, 'arts': 352, 'united': 353, 'pregnant': 354, 'today': 355, 'survey': 356, 'committee': 357, 'library': 358, 'face': 359, 'department': 360, 'biden': 361, 'several': 362, 'understanding': 363, 'sheriff': 364, 'editor': 365, 'station': 366, 'gianforte': 367, 'real': 368, 'live': 369, 'attacked': 370, 'sign': 371, 'injured': 372, 'lgbtq': 373, 'much': 374, 'another': 375, 'argue': 376, \"'second\": 377, 'through': 378, 'signed': 379, 'video': 380, 'because': 381, 'five': 382, 'livingston': 383, 'those': 384, 'arrested': 385, 'passes': 386, 'members': 387, 'sine': 388, \"sheriff's\": 389, 'abortion': 390, 'others': 391, 'hosts': 392, 'introduces': 393, 'using': 394, 'joe': 395, 'roundup': 396, 'decline': 397, 'defensive': 398, 'transgender': 399, 'nonbinary': 400, 'apd': 401, 'drops': 402, 'asked': 403, 'since': 404, 'force': 405, 'own': 406, 'did': 407, 'filed': 408, 'still': 409, 'evidence': 410, 'mother': 411, 'government': 412, 'children': 413, 'air': 414, 'political': 415, '000': 416, 'officers': 417, '”': 418, 'russia': 419, 'men': 420, 'experts': 421, 'thursday': 422, 'need': 423, 'community': 424, 'ar': 425, 'passed': 426, 'local': 427, 'firearm': 428, 'order': 429, 'street': 430, 'illegal': 431, 'times': 432, 'should': 433, '5': 434, 'life': 435, 'lead': 436, 'put': 437, 'ukraine': 438, 'west': 439, 'game': 440, 'it’s': 441, 'north': 442, 'incident': 443, 'keep': 444, 'ex': 445, 'sale': 446, 'jones': 447, 'taking': 448, 'does': 449, 'country': 450, 'ralph': 451, 'yarl': 452, 'make': 453, 'faces': 454, 'take': 455, 'bear': 456, 'dadeville': 457, 'him': 458, 'bans': 459, 'online': 460, 'million': 461, 'users': 462, 'rifle': 463, 'month': 464, 'called': 465, 'america': 466, 'left': 467, 'dead': 468, 'conservative': 469, 'visit': 470, 'american': 471, 'work': 472, 'wants': 473, 'automatic': 474, 'floor': 475, 'carolina': 476, 'release': 477, 'requirements': 478, 'whether': 479, 'person': 480, 'johnson': 481, 'noem': 482, 'executive': 483, 'tech': 484, '2024': 485, 'food': 486, 'accidental': 487, 'owners': 488, 'night': 489, 'standard': 490, 'fox': 491, 'red': 492, 'stand': 493, 'weapon': 494, 'university': 495, 'judiciary': 496, 'greg': 497, 'official': 498, 'fbi': 499, 'allow': 500, 'violent': 501, 'effort': 502, 'sex': 503, \"state's\": 504, 'florida': 505, 'fear': 506, 'want': 507, 'market': 508, 'de': 509, 'southern': 510, 'way': 511, 'williams': 512, 'nationwide': 513, 'semi': 514, 'six': 515, 'team': 516, '4': 517, 'waiting': 518, 'everyone': 519, 'near': 520, 'places': 521, 'seniors': 522, 'low': 523, 'additional': 524, 'ohio': 525, 'friend': 526, 'even': 527, 'such': 528, 'remove': 529, 'trans': 530, 'policy': 531, 'orders': 532, 'mobile': 533, 'expulsion': 534, 'expected': 535, 'insurance': 536, 'central': 537, 'little': 538, 'wednesday': 539, 'series': 540, 'workers': 541, 'justice': 542, 'common': 543, 'prosecution': 544, 'ground': 545, 'viral': 546, 'used': 547, 'must': 548, 'abbott': 549, 'area': 550, 'candidate': 551, 'fatally': 552, 'c': 553, 'trauma': 554, 'increase': 555, 'profile': 556, 'women’s': 557, 'ask': 558, 'addresses': 559, 'buy': 560, 'east': 561, 'charlie': 562, 'worth': 563, 'plans': 564, 'licensing': 565, 'residents': 566, 'donald': 567, 'mexico': 568, 'backlash': 569, 'loss': 570, 't': 571, 'move': 572, 'pearson': 573, 'party': 574, 'died': 575, 'allowing': 576, 'days': 577, 'found': 578, 'protester': 579, 'caught': 580, 'too': 581, \"didn't\": 582, 'efforts': 583, 'representative': 584, \"'\": 585, 'explains': 586, 'oklahoma': 587, 'hear': 588, 'responsible': 589, 'trials': 590, 'comprehensive': 591, 'don': 592, 'defend': 593, 'tells': 594, 'period': 595, 'push': 596, 'denied': 597, 'facing': 598, 'apparent': 599, 'christian': 600, 'dakota': 601, 'expanding': 602, \"monday's\": 603, 'impact': 604, 'mental': 605, 'related': 606, 'bar': 607, 'prosecutor': 608, 'considered': 609, 'sentenced': 610, 'any': 611, 'kirk': 612, 'ron': 613, 'company': 614, 'talk': 615, 'stop': 616, 'vehicle': 617, 'd': 618, 'connection': 619, 'months': 620, 'read': 621, 'event': 622, 'ol': 623, 'never': 624, 'data': 625, 'daughter': 626, 'drawn': 627, 'looked': 628, 'troops': 629, 'car': 630, 'garrett': 631, 'foster': 632, 'permitless': 633, 'weekend': 634, 'slain': 635, 'brown': 636, 'declared': 637, 'flag': 638, 'place': 639, 'here': 640, 'conflict': 641, 'killer': 642, 'lawsuit': 643, 'appearance': 644, 'short': 645, 'pardon': 646, 'explain': 647, 'australian': 648, '22': 649, 'inslee': 650, 'promises': 651, 'andrew': 652, 'argument': 653, 'hour': 654, 'sees': 655, 'number': 656, 'colleagues': 657, 'racism': 658, 'block': 659, 'ramaswamy': 660, 'exchange': 661, 'meet': 662, 'legislative': 663, 'resources': 664, 'send': 665, 'strengthening': 666, 'arms': 667, 'irish': 668, \"won't\": 669, 'coast': 670, 'officer': 671, 'april': 672, 'highly': 673, 'apply': 674, 'manhattan': 675, 'minnesota': 676, 'available': 677, 'child': 678, 'popular': 679, 'kill': 680, 'attorneys': 681, 'complex': 682, 'covenant': 683, 'christians': 684, 'supporting': 685, 'set': 686, 'pretty': 687, 'hosting': 688, 'moore': 689, 'speaker': 690, 'china': 691, 'around': 692, 'presidential': 693, 'village': 694, 'use': 695, 'history': 696, 'got': 697, 'simple': 698, 'mistake': 699, 'peace': 700, 'entirely': 701, 'tragedy': 702, 'fighter': 703, 'transit': 704, \"aren't\": 705, 'expert': 706, 'past': 707, 'running': 708, 'japanese': 709, 'required': 710, 'nomination': 711, 'harris': 712, 'spring': 713, 'listen': 714, 'course': 715, '72': 716, 'courts': 717, 'premier': 718, 'vivek': 719, 'lemon': 720, 'include': 721, 'means': 722, 'statewide': 723, 'dependent': 724, 'acquisition': 725, 'controversial': 726, 'judicial': 727, 'historical': 728, 'estate': 729, 'agents': 730, 'morning': 731, 'bitter': 732, 'feud': 733, 'written': 734, 'beauty': 735, '35': 736, 'alert': 737, 'each': 738, 'scored': 739, 'shares': 740, 'surviving': 741, 'aged': 742, 'entitled': 743, 'fought': 744, 'proposal': 745, 'flip': 746, 'planning': 747, 'reeves': 748, 'nature': 749, 'far': 750, 'launching': 751, 'plant': 752, 'attempt': 753, 'democrats': 754, 'enforce': 755, \"country's\": 756, 'domestic': 757, 'ottawa': 758, 'commissioners': 759, 'due': 760, 'announced': 761, 'changed': 762, 'article': 763, 'congressman': 764, 'extreme': 765, 'app': 766, 'race': 767, 'ai': 768, 'schools': 769, 'lee': 770, 'choice': 771, 'protection': 772, 'saturday': 773, 'students': 774, '2020': 775, 'mom': 776, 'panthers': 777, 'lives': 778, 'marijuana': 779, 'wait': 780, 'per': 781, 'good': 782, 'star': 783, 'starts': 784, 'sf': 785, 'contact': 786, 'warrant': 787, 'greece': 788, '101': 789, 'attempted': 790, 'church': 791, 'sheriff’s': 792, 'thomas': 793, '16': 794, 'investigating': 795, 'behind': 796, 'stands': 797, 'oppose': 798, 'sb': 799, 'respect': 800, 'tucker': 801, 'carlson': 802, 'author': 803, 'grapple': 804, 'launches': 805, 'families': 806, 'um': 807, 'murphy': 808, 'reciprocity': 809, 'based': 810, 'lawyers': 811, 'criminal': 812, 'least': 813, 'modern': 814, 'heated': 815, 'sensitive': 816, 'learn': 817, 'deadline': 818, 'stay': 819, 'origin': 820, 'iron': 821, 'funding': 822, 'constitution': 823, 'dispute': 824, 'slave': 825, '’': 826, 'pain': 827, 'continue': 828, 'part': 829, 'license': 830, 'criticized': 831, 'carroll': 832, 'james': 833, 'announces': 834, '1500': 835, 'border': 836, 'protections': 837, 'teaching': 838, 'austin': 839, 'bashed': 840, 'fossil': 841, 'halt': 842, 'attacker': 843, 'abusers': 844, 'homicide': 845, 'folks': 846, 'defendant': 847, 'saving': 848, 'staying': 849, 'considers': 850, 'expect': 851, 'rejects': 852, 'protective': 853, 'end': 854, 'suicides': 855, 'kentucky': 856, 'yet': 857, 'recently': 858, 'across': 859, 'british': 860, 'uk': 861, 'without': 862, 'facial': 863, 'soccer': 864, 'clinic': 865, \"'thought\": 866, \"police'\": 867, 'hunterdon': 868, \"sanctuary'\": 869, 'pocono': 870, 'counties': 871, 'declare': 872, 'jorge': 873, 'masvidal': 874, 'recommends': 875, 'celebrity': 876, '‘it': 877, 'defen…': 878, 'concerns': 879, 'immigrant': 880, 'covered': 881, '8th': 882, 'cir': 883, 'cites': 884, \"florida's\": 885, 'discharge': 886, 'strengthens': 887, \"alpena's\": 888, 'woodstock': 889, 'nyc': 890, 'stabber': 891, 'dale': 892, 'detroit': 893, 'guru': 894, 'shoplifting': 895, 'shows': 896, 'louisiana': 897, 'confiscation': 898, 'pleas': 899, 'already': 900, 'detective': 901, 'intersection': 902, 'lay': 903, 'stab': 904, 'supremacy': 905, 'working': 906, 'known': 907, \"'woke'\": 908, \"generations'\": 909, 'resist': 910, 'darien': 911, 'blm': 912, 'jeannette': 913, \"'constitutional\": 914, \"county'\": 915, 'cemetery': 916, \"'acted\": 917, 'lockportjournal': 918, 'girlfriend': 919, 'marshall': 920, 'clyde': 921, 'truman': 922, 'provenza': 923, 'apologizes': 924, 'acquitted': 925, 'maplewood': 926, 'triple': 927, 'kanawha': 928, 'amid': 929, 'large': 930, 'clarence': 931, 'rewrote': 932, 'jeopardy': 933, 'detectives': 934, '10': 935, 'assembly': 936, 'adjourns': 937, 'begole': 938, 'defending': 939, 'candidates': 940, 'ket': 941, 'few': 942, 'kc': 943, '30a': 944, 'tanker': 945, 'jets': 946, 'conduct': 947, 'refueling': 948, 'palm': 949, 'shaky': 950, 'arizona': 951, 'assaults': 952, 'stepfather': 953, 'away': 954, 'uncertainty': 955, 'plagues': 956, 'crapo': 957, 'idahoans’': 958, 'hb': 959, '824': 960, \"mitchell's\": 961, 'pursues': 962, 'jcsd': 963, 'spd': 964, 'rad': 965, 'pct': 966, 'deputies': 967, 'hirschfield': 968, 'graham': 969, 'vermont': 970, 'boost': 971, 'confidence': 972, 'jiu': 973, 'jitsu': 974, 'academy': 975, 'flint': 976, 'professor': 977, 'teaches': 978, 'lgbtqia': 979, 'sweeny': 980, 'thefacts': 981, 'promote': 982, \"suspect's\": 983, 'proves': 984, 'yale': 985, 'antisubordinating': 986, 'hosted': 987, 'edinburg': 988, 'flash': 989, 'minority': 990, 'prioritizing': 991, 'empowerment': 992, 'accessibility': 993, 'jody': 994, 'armour': 995, 'went': 996, 'altercation': 997, 'holmes': 998, 'adjourned': 999, 'extinction': 1000, 'rebirth': 1001, 'angers': 1002, \"'rights'\": 1003, 'columbia': 1004, \"court's\": 1005, 'construct': 1006, \"petitioner's\": 1007, \"spouse's\": 1008, \"missouri's\": 1009, 'preservation': 1010, \"'raising\": 1011, \"cane'\": 1012, 'unexpected': 1013, 'mistaken': 1014, 'renew': 1015, 'elections': 1016, 'wide': 1017, 'nevada': 1018, 'kalamazoo': 1019, 'enterprise': 1020, 'empowered': 1021, 'evolutions': 1022, 'ludicrous': 1023, 'antique': 1024, 'adopts': 1025, \"'cocktails\": 1026, 'kicking': 1027, \"butt'\": 1028, 'springs': 1029, 'workshop': 1030, 'empowers': 1031, '15s': 1032, 'mma': 1033, 'schilling': 1034, \"'never\": 1035, \"white'\": 1036, 'sparks': 1037, 'surrenders': 1038, 'brawl': 1039, 'ellsworthamerican': 1040, \"defendant's\": 1041, 'opposes': 1042, 'denying': 1043, 'tiktoks': 1044, 'zachary': 1045, 'latham': 1046, '‘self': 1047, 'aspen': 1048, 'apartments': 1049, \"gavarone's\": 1050, \"'turning\": 1051, \"power'\": 1052, 'mmiw': 1053, 'enjoined': 1054, 'wisconsin': 1055, '“emergency': 1056, 'always': 1057, 'find': 1058, 't…': 1059, 'bruen’s': 1060, 'ricochet': 1061, 'violate': 1062, 'cite': 1063, \"'unfortunately'\": 1064, \"montanans'\": 1065, 'previewing': 1066, 'persons': 1067, '‘a': 1068, 'kill’': 1069, \"man's\": 1070, '265': 1071, 'plano': 1072, 'lewisville': 1073, 'zone': 1074, 'greektown': 1075, 'peltola': 1076, 'dc': 1077, 'walk': 1078, 'toledo': 1079, 'deterrent': 1080, 'carmichaels': 1081, 'resident': 1082, 'broke': 1083, \"cousette's\": 1084, 'transient': 1085, 'commish': 1086, 'crowbar': 1087, \"'self\": 1088, \"defense'\": 1089, \"khp's\": 1090, \"'two\": 1091, \"step'\": 1092, 'technique': 1093, 'searches': 1094, 'boyfriend': 1095, '360': 1096, 'provides': 1097, 'oldest': 1098, 'allegedly': 1099, 'retreating': 1100, \"'unconstitutional\": 1101, \"japan's\": 1102, 'arm': 1103, 'oregon': 1104, 'omnibus': 1105, 'tampa': 1106, 'appeals': 1107, 'plus': 1108, 'ag': 1109, 'joins': 1110, 'obstacle': 1111, 'proposing': 1112, 'sanctuary': 1113, 'tpd': 1114, 'investigator': 1115, 'dornell': 1116, 'making': 1117, 'biofire': 1118, 'yes': 1119, 'durr': 1120, 'responds': 1121, \"general's\": 1122, 'top': 1123, \"austin's\": 1124, '23rd': 1125, 'explode': 1126, 'dems': 1127, \"'gun\": 1128, \"dude'\": 1129, 'instructor': 1130, 'takes': 1131, 'bigger': 1132, \"'we\": 1133, \"lives'\": 1134, 'endorses': 1135, 'contested': 1136, '3rd': 1137, 'circuit': 1138, 'nonviolent': 1139, 'justifies': 1140, \"legislature's\": 1141, 'cato': 1142, \"teachers'\": 1143, \"'ensure\": 1144, \"safe'\": 1145, \"doj's\": 1146, 'cannabis': 1147, 'oakville': 1148, 'houghton': 1149, 'oks': 1150, 'tribal': 1151, 'markus': 1152, 'funk': 1153, 'interpreting': 1154, 'disarming': 1155, 'sanctuaries': 1156, 'gastonia': 1157, \"buddha's\": 1158, 'bazaar': 1159, 'youth': 1160, 'victims': 1161, 'march': 1162, 'young': 1163, 'nearly': 1164, 'leading': 1165, 'me': 1166, 'league': 1167, 'homes': 1168, 'recognition': 1169, 'fired': 1170, \"there's\": 1171, 'service': 1172, 'trying': 1173, 'business': 1174, 'wrong': 1175, 'might': 1176, 'love': 1177, 'failed': 1178, 'problem': 1179, 'story': 1180, 'field': 1181, 'released': 1182, 'a…': 1183, 'among': 1184, 'measures': 1185, 'training': 1186, 'books': 1187, 'rifles': 1188, 'controlled': 1189, 'birthday': 1190, 'role': 1191, 'point': 1192, 'social': 1193, 'media': 1194, 'both': 1195, 'going': 1196, 'season': 1197, 'authorities': 1198, 'challenges': 1199, 'began': 1200, 'minister': 1201, 'then': 1202, 'ago': 1203, 'calling': 1204, 'pay': 1205, 'don’t': 1206, 'district': 1207, 'industry': 1208, 'protected': 1209, 'decades': 1210, 'daily': 1211, 'firearms': 1212, 'convention': 1213, 'care': 1214, 'drag': 1215, 'sports': 1216, 'americans': 1217, 'final': 1218, 'reality': 1219, 'film': 1220, 'round': 1221, 'alabama': 1222, 'downtown': 1223, 'mayor': 1224, 'remains': 1225, 'launch': 1226, 'games': 1227, 'la': 1228, 'increasingly': 1229, 'adults': 1230, 'system': 1231, 'getting': 1232, 'ways': 1233, 'email': 1234, 'armed': 1235, 'doorbell': 1236, 'started': 1237, 'come': 1238, 'writes': 1239, 'major': 1240, 'hundreds': 1241, 'leader': 1242, 'having': 1243, 'know': 1244, 'close': 1245, 'model': 1246, 'legislation': 1247, 'often': 1248, 'along': 1249, 'faced': 1250, 's…': 1251, 'inside': 1252, 'record': 1253, 'gender': 1254, 'indianapolis': 1255, 'step': 1256, 'third': 1257, 'parents': 1258, '3': 1259, 'appeared': 1260, 'expelled': 1261, 'players': 1262, 'human': 1263, 'return': 1264, 'guards': 1265, 'toll': 1266, 'especially': 1267, 'los': 1268, 'sport': 1269, 'access': 1270, 'sunday': 1271, 'chinese': 1272, 'politics': 1273, 'review': 1274, 'shooter': 1275, '2022': 1276, 'parking': 1277, 'ever': 1278, 'certain': 1279, 'key': 1280, 'murdering': 1281, 'took': 1282, 'give': 1283, 'prime': 1284, 'hours': 1285, 'financial': 1286, 'voters': 1287, 'eight': 1288, 'taken': 1289, 'led': 1290, 'expel': 1291, 'information': 1292, 'teacher': 1293, 'things': 1294, 'study': 1295, 'middle': 1296, 'project': 1297, 'seven': 1298, 'technology': 1299, 'th…': 1300, 'the…': 1301, 'credit': 1302, 'card': 1303, '25': 1304, 'northern': 1305, 'unique': 1306, 'open': 1307, 'russian': 1308, 'staff': 1309, 'enabled': 1310, 'reports': 1311, 'february': 1312, 'intelligence': 1313, 'bit': 1314, 'threatening': 1315, 'el': 1316, 'squad': 1317, 'finally': 1318, 'powerful': 1319, 'foundation': 1320, 'politicians': 1321, '26': 1322, 'likely': 1323, 'goes': 1324, '38': 1325, 'feel': 1326, 'surprise': 1327, 'start': 1328, 'student': 1329, 'bring': 1330, 'saying': 1331, 'important': 1332, 'lot': 1333, 'store': 1334, 'create': 1335, 'reduce': 1336, 'state’s': 1337, 'true': 1338, \"trump's\": 1339, 'whose': 1340, 'spoke': 1341, \"bragg's\": 1342, 'risk': 1343, 'version': 1344, 'vice': 1345, 'speech': 1346, 'aimed': 1347, 'tiktok': 1348, 'founder': 1349, 'election': 1350, '21': 1351, 'lost': 1352, 'association': 1353, 'vowed': 1354, 'kristi': 1355, 'discovered': 1356, 'background': 1357, 'checks': 1358, 'banned': 1359, 'rates': 1360, 'reported': 1361, 'weeks': 1362, 'lawmaker': 1363, 'prison': 1364, 'devices': 1365, 'exclusive': 1366, 'money': 1367, '30': 1368, 'job': 1369, 'medical': 1370, 'almost': 1371, 'research': 1372, 'services': 1373, 'something': 1374, 'design': 1375, 'reportedly': 1376, 'later': 1377, 'overdose': 1378, 'similar': 1379, 'enforcement': 1380, 'sexual': 1381, 'campaign': 1382, 'cash': 1383, 'play': 1384, \"here's\": 1385, 'gunman': 1386, 'artificial': 1387, 'twitter': 1388, 'der': 1389, 'rising': 1390, 'crowd': 1391, 'taiwan': 1392, 'kevin': 1393, 'front': 1394, 'driving': 1395, 'convicted': 1396, 'army': 1397, 'they’ve': 1398, 'threatened': 1399, 'kaiser': 1400, 'critics': 1401, 'very': 1402, 'different': 1403, 'himself': 1404, 'options': 1405, 'door': 1406, 'pick': 1407, 'kansas': 1408, 'culture': 1409, 'clear': 1410, 'rang': 1411, 'killings': 1412, 'victim': 1413, 'bob': 1414, 'half': 1415, 'senator': 1416, 'potential': 1417, 'mark': 1418, 'power': 1419, 'leaders': 1420, 'really': 1421, 'interview': 1422, 'gang': 1423, 'meant': 1424, 'tv': 1425, 'less': 1426, 'once': 1427, 'suffered': 1428, '13': 1429, 'jail': 1430, 'call': 1431, 'willing': 1432, 'opening': 1433, 'nation': 1434, 'secretary': 1435, 'beast': 1436, 'speaking': 1437, 'affirming': 1438, 'earlier': 1439, 'plan': 1440, 'audience': 1441, 'cases': 1442, 'groups': 1443, 'removed': 1444, 'asking': 1445, 'building': 1446, 'win': 1447, 'features': 1448, 'popovich': 1449, 'spurs': 1450, 'comments': 1451, 'significant': 1452, 'well': 1453, 'comes': 1454, 'felt': 1455, 'press': 1456, 'nba': 1457, 'agency': 1458, '200': 1459, 'england': 1460, 'auto': 1461, 'companies': 1462, 'hard': 1463, 'direct': 1464, 'royal': 1465, 'issue': 1466, 'small': 1467, 'response': 1468, 'think': 1469, 'google': 1470, 'look': 1471, 'country’s': 1472, 'biometric': 1473, 'fair': 1474, 'receive': 1475, '8': 1476, 'boy': 1477, 'development': 1478, 'though': 1479, 'stolen': 1480, 'apple': 1481, 'warned': 1482, 'pub': 1483, 'drugs': 1484, 'drama': 1485, 'questions': 1486, 'serious': 1487, 'london': 1488, 'forward': 1489, 'collaboration': 1490, 'sweet': 1491, 'representatives': 1492, 'attention': 1493, 'wounded': 1494, 'dangers': 1495, 'gambling': 1496, 'aggressive': 1497, 'guilty': 1498, 'worry': 1499, 'documents': 1500, 'body': 1501, 'actually': 1502, 'kai': 1503, 'memphis': 1504, 'foot': 1505, 'yourself': 1506, '0': 1507, 'came': 1508, 'held': 1509, 'believed': 1510, 'insider': 1511, 'there’s': 1512, 'requires': 1513, 'tragedies': 1514, 'looking': 1515, 'changes': 1516, 'incidents': 1517, 'ap': 1518, 'gone': 1519, 'teenager': 1520, 'themselves': 1521, 'elon': 1522, 'european': 1523, 'confirmed': 1524, '24': 1525, 'touched': 1526, 'households': 1527, 'actions': 1528, 'line': 1529, 'floridians': 1530, 'michael': 1531, '“i': 1532, 'consider': 1533, 'conference': 1534, 'ensure': 1535, 'podcast': 1536, 'whole': 1537, 'cultural': 1538, 'activists': 1539, 'prevent': 1540, 'movie': 1541, 'received': 1542, 'hate': 1543, 'alvin': 1544, 'quelling': 1545, 'avenues': 1546, 'sue': 1547, 'science': 1548, 'montana': 1549, 'update': 1550, 'annual': 1551, 'hopefuls': 1552, 'looks': 1553, 'administration': 1554, 'wrote': 1555, 'mike': 1556, 'dark': 1557, 'main': 1558, 'light': 1559, '12': 1560, 'surrounding': 1561, 'y': 1562, 'capitol': 1563, 'list': 1564, 'friends': 1565, 'jordan': 1566, 'gets': 1567, 'coverage': 1568, 'guardian': 1569, 'search': 1570, 'updates': 1571, 'giant': 1572, 'rule': 1573, 'thought': 1574, 'leak': 1575, 'reveals': 1576, 'frank': 1577, 'cross': 1578, 'images': 1579, 'shared': 1580, 'employees': 1581, 'society': 1582, 'phone': 1583, 'attacks': 1584, 'communities': 1585, 'i’m': 1586, 'i…': 1587, 'criminals': 1588, 'income': 1589, 'emergency': 1590, 'removal': 1591, 'urged': 1592, 'avoid': 1593, 'embassy': 1594, 'models': 1595, 'sig': 1596, 'sauer': 1597, '2019': 1598, 'p320': 1599, 'marketscreener': 1600, 'content': 1601, 'chicago': 1602, 'reach': 1603, 'difficult': 1604, 'firing': 1605, 'hit': 1606, 'crisis': 1607, 'separate': 1608, 'platform': 1609, 'democrat': 1610, '43': 1611, 'jack': 1612, 'reinstated': 1613, 'language': 1614, 'single': 1615, '9': 1616, 'became': 1617, 'warning': 1618, '17': 1619, 'movies': 1620, 'kemp': 1621, 'test': 1622, 'ahead': 1623, 'monster': 1624, 'basketball': 1625, '500': 1626, 'played': 1627, 'countless': 1628, 'wild': 1629, 'gloria': 1630, \"he's\": 1631, 'settlement': 1632, 'ousted': 1633, 'l…': 1634, '16th': 1635, 'affected': 1636, 'wife': 1637, 'ncaa': 1638, 'strike': 1639, 'rocksteady': 1640, 'revealed': 1641, 'threats': 1642, 'brad': 1643, 'share': 1644, 'matter': 1645, 'intended': 1646, 'believe': 1647, 'sure': 1648, 'owner': 1649, 'dream': 1650, '100': 1651, '6': 1652, '50': 1653, 'track': 1654, 'internet': 1655, 'fast': 1656, '84': 1657, 'missing': 1658, 'carrying': 1659, 'island': 1660, 'parts': 1661, 'name': 1662, 'combat': 1663, 'sent': 1664, 'great': 1665, 'son': 1666, 'met': 1667, 'biggest': 1668, 'bed': 1669, 'check': 1670, 'w…': 1671, 'ordered': 1672, 'protests': 1673, 'jury': 1674, 'boys': 1675, 'competition': 1676, 'degree': 1677, 'mission': 1678, 'areas': 1679, 'disney': 1680, 'ceo': 1681, 'eliminates': 1682, 'network': 1683, 'x': 1684, 'greater': 1685, 'statement': 1686, '2014': 1687, 'summer': 1688, 'trio': 1689, 'here’s': 1690, 'idea': 1691, 'tool': 1692, 'iphone': 1693, 'water': 1694, 'preventing': 1695, 'century': 1696, 'title': 1697, 'deputy': 1698, 'systems': 1699, 'permit': 1700, 'finding': 1701, 'illustration': 1702, 'holding': 1703, 'desk': 1704, 'pence': 1705, 'moved': 1706, 'drug': 1707, 'biden’s': 1708, 'shotgun': 1709, 'pistol': 1710, 'given': 1711, 'they’re': 1712, 'limits': 1713, 'grand': 1714, 'organization': 1715, 'reuters': 1716, 'teams': 1717, 'n': 1718, 'that’s': 1719, 'demand': 1720, 'cost': 1721, 'closed': 1722, 'solutions': 1723, 'highlights': 1724, 'ten': 1725, 'ended': 1726, 'planned': 1727, 'spending': 1728, 'watch': 1729, 'winner': 1730, \"we've\": 1731, 'named': 1732, 'city’s': 1733, 'follow': 1734, 'un': 1735, \"they're\": 1736, 'government’s': 1737, 'fell': 1738, 'trip': 1739, 'barbican': 1740, 'trade': 1741, 'seeking': 1742, 'forced': 1743, 'original': 1744, 'doing': 1745, 'b…': 1746, 'status': 1747, 'digital': 1748, 'remain': 1749, 'until': 1750, 'welcome': 1751, 'points': 1752, 'club': 1753, 'countries': 1754, 'covid': 1755, '19': 1756, 'highway': 1757, 'thousands': 1758, 'mainly': 1759, 'august': 1760, 'run': 1761, 'pass': 1762, 'funded': 1763, 'boulder': 1764, 'teachers': 1765, 'investigation': 1766, 'columbine': 1767, 'heroin': 1768, 'coming': 1769, 'officially': 1770, 'fingerprint': 1771, 'verified': 1772, 'perhaps': 1773, 'storage': 1774, 'higher': 1775, 'programs': 1776, 'tougher': 1777, 'israeli': 1778, 'struggles': 1779, 'lower': 1780, 'stabbing': 1781, 'novel': 1782, 'living': 1783, 'serving': 1784, 'gold': 1785, 'bus': 1786, '23': 1787, 'easter': 1788, 'angeles': 1789, 'try': 1790, 'figures': 1791, 'wildlife': 1792, 'animal': 1793, 'head': 1794, 'episode': 1795, 'park': 1796, 'brand': 1797, 'ben': 1798, 'early': 1799, 'capcom': 1800, 'planet': 1801, 'matt': 1802, 'damon': 1803, 'affleck': 1804, 'account': 1805, 'creative': 1806, 'shooters': 1807, 'happen': 1808, 'brandon': 1809, 'streets': 1810, 'huge': 1811, 'legislators': 1812, 'reps': 1813, 'pushed': 1814, 'singer': 1815, 'entire': 1816, 'reel': 1817, '28': 1818, 'frequent': 1819, 'workplace': 1820, 'soon': 1821, 'everything': 1822, 'art': 1823, 'late': 1824, 'en': 1825, 'scene': 1826, 'production': 1827, 'full': 1828, 'pace': 1829, 'les': 1830, 'tournament': 1831, 'ein': 1832, 'regular': 1833, 'california': 1834, 'barack': 1835, 'obama': 1836, 'electric': 1837, 'publicly': 1838, 'male': 1839, 'surveillance': 1840, 'he’s': 1841, 'sea': 1842, 'israel': 1843, 'fears': 1844, 'further': 1845, 'stuff': 1846, '“the': 1847, 'seen': 1848, 'taylor': 1849, 'paid': 1850, 'battery': 1851, 'college': 1852, 'photo': 1853, 'stopped': 1854, 'attempting': 1855, 'purpose': 1856, 'thriller': 1857, 'stone': 1858, 'book': 1859, 'explosion': 1860, 'vaccine': 1861, 'activist': 1862, 'deeply': 1863, 'ingrained': 1864, 'someone': 1865, 'patients': 1866, 'expression': 1867, 'challenge': 1868, 'fourth': 1869, 'bloomberg': 1870, 'forces': 1871, 'ocean': 1872, 'within': 1873, 'active': 1874, 'indicted': 1875, 'm': 1876, 'handle': 1877, 'racial': 1878, 'proud': 1879, 'seek': 1880, 'western': 1881, \"russia's\": 1882, 'space': 1883, 'growing': 1884, 'effective': 1885, 'skills': 1886, 'mind': 1887, 'bad': 1888, 'robert': 1889, 'spread': 1890, 'views': 1891, 'telling': 1892, 'artillery': 1893, 'privacy': 1894, 'sentence': 1895, 'filled': 1896, 'invasion': 1897, 'musk': 1898, '2016': 1899, 'foreign': 1900, 'wish': 1901, 'widely': 1902, 'includes': 1903, 'semiautomatic': 1904, 'era': 1905, 'cleared': 1906, 'prove': 1907, 'youtube': 1908, 'gregg': 1909, 'exemplifying': 1910, 'lengths': 1911, 'discredit': 1912, 'tu…': 1913, 'writer': 1914, 'tried': 1915, 'turning': 1916, 'proposed': 1917, 'complaints': 1918, 'age': 1919, 'luis': 1920, 'i’ve': 1921, 'view': 1922, 'staunch': 1923, 'forum': 1924, 'shocking': 1925, 'let': 1926, 'legally': 1927, '›': 1928, 'example': 1929, 'today’s': 1930, 'gotten': 1931, 'targeting': 1932, 'wave': 1933, 'quietly': 1934, 'described': 1935, 'blocked': 1936, 'won': 1937, 'neighbors': 1938, 'tennessee’s': 1939, 'morgan': 1940, 'virginia': 1941, 'news18': 1942, 'sides': 1943, 'advert': 1944, 'shannon': 1945, 'watts': 1946, 'moms': 1947, 'extremism': 1948, 'generation': 1949, 'coached': 1950, '27': 1951, 'outpsoken': 1952, 'citizens': 1953, 'brutal': 1954, 'voted': 1955, 'joining': 1956, 'necessary': 1957, 'to…': 1958, 'suffer': 1959, 'providing': 1960, 'petitions': 1961, 'column': 1962, 'vulnerable': 1963, 'double': 1964, 'education': 1965, 'advocate': 1966, 'link': 1967, 'sun': 1968, 'comedy': 1969, 'talking': 1970, 'coach': 1971, 'pleaded': 1972, 'add': 1973, 'king': 1974, 'natural': 1975, 'range': 1976, 'doubtful': 1977, 'happy': 1978, 'rare': 1979, 'moment': 1980, 'blog': 1981, 'afternoon': 1982, 'emails': 1983, 'bbc': 1984, 'dazzling': 1985, 'buyers': 1986, '40': 1987, 'senior': 1988, 'result': 1989, 'pandemic': 1990, 'benefits': 1991, 'zealand': 1992, 'amazon': 1993, 'prices': 1994, 'route': 1995, 'victory': 1996, 'deaf': 1997, 'edge': 1998, 'competitive': 1999, 'retail': 2000, 'voice': 2001, 'tracking': 2002, 'baby': 2003, 'chain': 2004, 'dozen': 2005, 'signature': 2006, 'casualty': 2007, 'rural': 2008, 'lack': 2009, 'civilians': 2010, 'travel': 2011, 'numbers': 2012, 'horizon': 2013, 'privileges': 2014, 'cell': 2015, 'independent': 2016, 'wanted': 2017, 'addition': 2018, 'treated': 2019, 'badly': 2020, 'needs': 2021, 'offer': 2022, 'mostly': 2023, 'bid': 2024, 'invest': 2025, 'regulator': 2026, 'doctors': 2027, 'wh…': 2028, 'p…': 2029, 'anniversary': 2030, 'j': 2031, 'revealing': 2032, 'fleeing': 2033, 'khartoum': 2034, 'denies': 2035, 'ukrainian': 2036, 'climate': 2037, 'utah': 2038, 'sector': 2039, 'fall': 2040, 'wrongly': 2041, '377': 2042, 'reckoning': 2043, 'attackson': 2044, '37': 2045, 'member': 2046, 'percentage': 2047, 'utm': 2048, 'hype': 2049, 'biometrically': 2050, '“smart”': 2051, 'technologies': 2052, 'commercially': 2053, 'biometrics': 2054, 'id…': 2055, 'arsenal': 2056, 'trigger': 2057, 'personalized': 2058, 'center': 2059, 'sending': 2060, \"doesn't\": 2061, 'addicts': 2062, 'currently': 2063, 'custody': 2064, 'experience': 2065, 'finds': 2066, 'td': 2067, 'goal': 2068, 'cause': 2069, 'stricter': 2070, 'sometimes': 2071, 'you’re': 2072, 'canada': 2073, 'streaming': 2074, 'preparing': 2075, 'arraignment': 2076, 'bragg': 2077, 'display': 2078, 'announce': 2079, 'racist': 2080, 'strategy': 2081, 'researchers': 2082, 'indictment': 2083, 'rise': 2084, 'dolls': 2085, 'created': 2086, 'chatgpt': 2087, 'hunt': 2088, 'net': 2089, 'bryant': 2090, 'technological': 2091, 'khan': 2092, 'iconic': 2093, 'global': 2094, 'trafficking': 2095, 'beautician': 2096, 'christmas': 2097, 'elle': 2098, 'survivors': 2099, 'abuse': 2100, 'occurred': 2101, 'upcoming': 2102, 'paper': 2103, 'future': 2104, 'championship': 2105, 'occupied': 2106, '14': 2107, 'issued': 2108, 'rocket': 2109, 'nine': 2110, 'fun': 2111, 'pc': 2112, 'moves': 2113, 'quarter': 2114, 'flight': 2115, 'cruise': 2116, 'theft': 2117, 'michelle': 2118, 'break': 2119, 'interest': 2120, 'land': 2121, 'meat': 2122, 'gap': 2123, 'determined': 2124, 'againhogs': 2125, 'brown’s': 2126, 'ranchland': 2127, 'panhand…': 2128, 'mid': 2129, 'stars': 2130, 'prompted': 2131, 'delayed': 2132, 'cast': 2133, 'banks': 2134, 'policies': 2135, 'uvalde': 2136, 'ending': 2137, 'opened': 2138, 'dem': 2139, \"haven't\": 2140, 'subject': 2141, 'jackings': 2142, 'terrifying': 2143, 'process': 2144, 'participating': 2145, 'widespread': 2146, 'or…': 2147, 'bringing': 2148, 'union': 2149, 'ireland': 2150, 'del': 2151, 'thoughts': 2152, 'pop': 2153, 'happened': 2154, \"city's\": 2155, 'opera': 2156, 'yard': 2157, 'bridge': 2158, 'fentanyl': 2159, 'phil': 2160, 'ofsted': 2161, 'wird': 2162, 'warner': 2163, 'harry': 2164, 'creator': 2165, 'cleveland': 2166, 'teixeira': 2167, 'secret': 2168, 'serie': 2169, 'est': 2170, 'et': 2171, 'su': 2172, 'awards': 2173, 'grizzlies': 2174, 'player': 2175, 'philippine': 2176, 'locations': 2177, 'reflect': 2178, 'region': 2179, 'protesting': 2180, 'side': 2181, 'e': 2182, 'lies': 2183, 'kind': 2184, 'effect': 2185, 'drills': 2186, 'rally': 2187, 'driver': 2188, 'ronald': 2189, 'reagan': 2190, 'invoked': 2191, 'transformational': 2192, 'fashioned': 2193, 'trajectory': 2194, 'gipper': 2195, 'shrilling': 2196, 'corporation': 2197, 'influencer': 2198, 'switching': 2199, 'ideological': 2200, 'affilia…': 2201, 'barr': 2202, 'cover': 2203, 'compared': 2204, 'footage': 2205, 'billion': 2206, 'independence': 2207, 'mohammed': 2208, 'arab': 2209, 'raises': 2210, 'fact': 2211, 'animals': 2212, 'you’ve': 2213, 'necessity': 2214, 'keeps': 2215, 'vampire': 2216, 'straws': 2217, 'leaked': 2218, 'pentagon': 2219, 'assessments': 2220, 'debate': 2221, 'encourage': 2222, 'seriously': 2223, 'threat': 2224, 'poses': 2225, 'thank': 2226, 'loans': 2227, 'attending': 2228, 'profit': 2229, 'sgt': 2230, 'felonies': 2231, 'crew': 2232, 'aircraft': 2233, 'non': 2234, 'returned': 2235, 'battle': 2236, 'worlds': 2237, 'depths': 2238, \"i'm\": 2239, 'hero': 2240, 'strong': 2241, 'sense': 2242, 'unclear': 2243, 'factors': 2244, 'giving': 2245, 'nephew': 2246, 'jr': 2247, 'famous': 2248, 'below': 2249, 'advanced': 2250, 'increased': 2251, 'dallas': 2252, 'dropped': 2253, 'pull': 2254, 'scrutiny': 2255, 'ruled': 2256, \"people's\": 2257, 'sanctions': 2258, 'allies': 2259, 'unprecedented': 2260, 'deal': 2261, 'identified': 2262, 'ferguson': 2263, 'actor': 2264, 'heard': 2265, 'john': 2266, 'introduced': 2267, 'task': 2268, 'risks': 2269, 'liberties': 2270, 'appeal': 2271, 'truth': 2272, 'wars': 2273, 'conviction': 2274, 'row': 2275, 'fascist': 2276, 'seditious': 2277, 'forcibly': 2278, 'transfer': 2279, 'soldiers': 2280, 'enough': 2281, 'autonomous': 2282, 'tesla': 2283, 'vox': 2284, '“a': 2285, 'drive': 2286, 'level': 2287, 'request': 2288, 'serial': 2289, 'regarded': 2290, 'influential': 2291, 'gore': 2292, 'applaud': 2293, 'rifleswashington': 2294, 'jay': 2295, 'semiaut…': 2296, 'remember': 2297, 'troubled': 2298, 'twice': 2299, 'thinking': 2300, 'funeral': 2301, 'obtained': 2302, 'messages': 2303, 'turn': 2304, 'quite': 2305, 'puerto': 2306, 'putting': 2307, 'abc': 2308, 'r': 2309, 'nearing': 2310, 'pills': 2311, 'seems': 2312, 'struck': 2313, 'voting': 2314, 'g': 2315, 'rendon': 2316, 'seat': 2317, 'supporter': 2318, 'launched': 2319, 'current': 2320, 'struggling': 2321, 'mississippi': 2322, 'reelection': 2323, 'hope': 2324, 'backlog': 2325, 'ownership': 2326, 'granddaughter': 2327, 'platforms': 2328, 'write': 2329, 'restrictions': 2330, 'showing': 2331, 'campaigners': 2332, 'blocking': 2333, 'dear': 2334, 'table': 2335, 'akron': 2336, 'involved': 2337, 'ads': 2338, 'photos': 2339, 'b': 2340, 'supported': 2341, 'athletes': 2342, 'birth': 2343, 'testimony': 2344, 'implemented': 2345, 'am': 2346, 'myself': 2347, 'carried': 2348, 'finger': 2349, 'thing': 2350, 'scores': 2351, 'above': 2352, 'cnn': 2353, 'contentious': 2354, 'reflects': 2355, 'doors': 2356, 'handful': 2357, 'pony': 2358, 'beating': 2359, 'accusing': 2360, 'breaching': 2361, 'supermajority': 2362, 'african': 2363, '\\xa0': 2364, 'tested': 2365, 'benefit': 2366, 'girls': 2367, 'smith': 2368, 'upon': 2369, 'watching': 2370, 'erupted': 2371, 'particularly': 2372, 'roe': 2373, 'restricting': 2374, 'enthusiast': 2375, 'broken': 2376, 'form': 2377, 'grooming': 2378, 'puberty': 2379, 'breach': 2380, 'decorum': 2381, 'britain’s': 2382, 'abandoned': 2383, 'newsletter': 2384, 'lobby': 2385, 'purchases': 2386, 'kitchen': 2387, 'ritual': 2388, 'imposing': 2389, '70': 2390, 'homeowners': 2391, 'capital': 2392, 'creatures': 2393, 'physical': 2394, 'harm': 2395, 'catch': 2396, 'coronavirus': 2397, 'trusted': 2398, 'hungry': 2399, 'married': 2400, 'par…': 2401, 'filing': 2402, 'cameras': 2403, 'oil': 2404, 'champions': 2405, 'condition': 2406, \"you're\": 2407, 'customers': 2408, 'sites': 2409, 'collection': 2410, 'champion': 2411, 'untraceable': 2412, 'fuelling': 2413, 'activity': 2414, 'remote': 2415, 'territory': 2416, 'atlantic': 2417, 'bath': 2418, 'beyond': 2419, 'bankruptcy': 2420, 'adds': 2421, 'box': 2422, 'visited': 2423, 'beach': 2424, 'channel': 2425, 'fitness': 2426, 'completed': 2427, 'indigenous': 2428, 'tickets': 2429, 'easy': 2430, \"don't\": 2431, 'pink': 2432, 'trackers': 2433, 'majority': 2434, 'boat': 2435, 'rounds': 2436, 'sikh': 2437, 'punjab': 2438, 'explore': 2439, 'alternative': 2440, 'm…': 2441, 'headphones': 2442, 'fit': 2443, 'selective': 2444, 'elliot': 2445, 'refers': 2446, 'collar': 2447, 'potentially': 2448, 'chance': 2449, 'eu': 2450, 'seeks': 2451, 'undermine': 2452, 'international': 2453, 'ideas': 2454, 'respond': 2455, 'council': 2456, 'previously': 2457, 'gran': 2458, 'ecosystem': 2459, 'fighting': 2460, 'anyone': 2461, '7': 2462, 'camera': 2463, 'neighbours': 2464, 'afghanistan': 2465, 'mastercard': 2466, 'reaction': 2467, 'markets': 2468, 'experiencing': 2469, 'pointing': 2470, 'suella': 2471, 'braverman': 2472, 'sh…': 2473, 'readers': 2474, 'nothing': 2475, 'mit': 2476, 'openai': 2477, 'breaking': 2478, 'insects': 2479, 'year’s': 2480, 'teenager’s': 2481, 'kloepfer': 2482, 'archive': 2483, 'handguns': 2484, 'allegations': 2485, \"they've\": 2486, 'setting': 2487, 'https': 2488, 'www': 2489, 'discussions': 2490, 'electronic': 2491, 'authentication': 2492, 'closer': 2493, 'choosing': 2494, 'wayne': 2495, 'i’ll': 2496, '2017': 2497, 'brought': 2498, 'elementary': 2499, 'newport': 2500, 'simply': 2501, 'tiny': 2502, 'injuries': 2503, 'accidents': 2504, 'danger': 2505, 'province': 2506, 'rate': 2507, '255': 2508, 'teens': 2509, 'stumbled': 2510, 'fix': 2511, 'designed': 2512, 'aid': 2513, 'shape': 2514, 'arraigned': 2515, 'trending': 2516, 'jim': 2517, 'pause': 2518, \"isn't\": 2519, 'districts': 2520, 'posts': 2521, 'apparently': 2522, 'golliwog': 2523, 'essex': 2524, 'flagship': 2525, 'vanished': 2526, 'sunak': 2527, 'party’s': 2528, 'appear': 2529, 'falsifying': 2530, 'records': 2531, 'enjoy': 2532, 'invited': 2533, 'detection': 2534, 'device': 2535, 'piece': 2536, 'roll': 2537, 'recording': 2538, 'ranking': 2539, 'felony': 2540, 'isn’t': 2541, 'gathered': 2542, 'horrific': 2543, 'knew': 2544, 'surrey': 2545, 'completely': 2546, 'offered': 2547, 'businesses': 2548, 'native': 2549, 'hopes': 2550, 'headlines': 2551, 'partisan': 2552, 'capitals': 2553, 'sets': 2554, 'utilizing': 2555, 'scenes': 2556, 'connor': 2557, 'spike': 2558, 'reading': 2559, '•': 2560, 'showed': 2561, 'regulatory': 2562, 'artist': 2563, 'possible': 2564, 'manager': 2565, 'growth': 2566, 'tears': 2567, 'hasn’t': 2568, 'guide': 2569, 'established': 2570, 'exoplanet': 2571, 'indie': 2572, 'hunter': 2573, 'niantic': 2574, 'posted': 2575, 'sells': 2576, 'shop': 2577, 'android': 2578, 'brands': 2579, 'sought': 2580, 'robot': 2581, 'character': 2582, 'itself': 2583, 'arctic': 2584, 'type': 2585, 'india': 2586, 'clinical': 2587, 'photographer': 2588, 'complaint': 2589, 'demanding': 2590, 'japan': 2591, 'pair': 2592, 'suggests': 2593, 'behaviour': 2594, 'paul': 2595, 'manchester': 2596, 'andy': 2597, 'hearts': 2598, 'bought': 2599, 'hollywood': 2600, 'sized': 2601, 'alien': 2602, 'saw': 2603, 'french': 2604, 'focusing': 2605, 'returning': 2606, 'relatively': 2607, 'flat': 2608, 'machine': 2609, 'vending': 2610, 'fresh': 2611, 'kim': 2612, 'onto': 2613, 'green': 2614, 'trump’s': 2615, 'rightwing': 2616, 'proving': 2617, 'counting': 2618, 'grown': 2619, 'numb': 2620, 'musical': 2621, 'stage': 2622, 'alongside': 2623, 'album': 2624, 'tour': 2625, '86': 2626, 'supports': 2627, 'enact': 2628, 'suggested': 2629, 'reached': 2630, 'forth': 2631, 'votes': 2632, 'coordinated': 2633, 'investigators': 2634, 'acrimonious': 2635, 'lawmak…': 2636, 'revoke': 2637, 'fumio': 2638, 'kishida': 2639, 'g7': 2640, 'escaped': 2641, 'roughly': 2642, '700': 2643, 'van': 2644, '45': 2645, 'dozens': 2646, 'r…': 2647, 'speak': 2648, 'older': 2649, 'chamber': 2650, 'yesterday': 2651, 'hypocritical': 2652, 'protesters': 2653, 'ab…': 2654, 'giants': 2655, 're…': 2656, 'director': 2657, 'characters': 2658, 'super': 2659, 'watchdog': 2660, 'bomb': 2661, 'spaces': 2662, 'serve': 2663, 'success': 2664, 'cities': 2665, 'tied': 2666, 'ready': 2667, 'winning': 2668, 'breathing': 2669, 'italy': 2670, 'truly': 2671, 'titled': 2672, 'uno': 2673, 'que': 2674, 'las': 2675, 'trust': 2676, 'linked': 2677, 'describes': 2678, 'music': 2679, 'couple': 2680, 'parade': 2681, 'identity': 2682, 'rina': 2683, 'dee': 2684, 'maia': 2685, \"that's\": 2686, 'craig': 2687, 'greenberg': 2688, 'ramadan': 2689, 'negligence': 2690, 'solution': 2691, 'addressing': 2692, 'teenage': 2693, 'unidentified': 2694, 'leaving': 2695, 'metro': 2696, 'reporting': 2697, 'al': 2698, 'headteacher': 2699, 'ruth': 2700, 'auf': 2701, 'eine': 2702, 'note': 2703, 'nhs': 2704, 'studios': 2705, 'k': 2706, 'bros': 2707, 'as…': 2708, 'scotland': 2709, 'portal': 2710, 'bowser': 2711, 'calais': 2712, 'harassment': 2713, 'engineer': 2714, 'se': 2715, 'limited': 2716, 'suspected': 2717, 'detention': 2718, 'reason': 2719, 'chatbot': 2720, 'weigh': 2721, 'consultant': 2722, 'associated': 2723, 'massachusetts': 2724, 'experienced': 2725, 'bmw': 2726, 'es': 2727, 'diego': 2728, 'analysis': 2729, 'hole': 2730, 'du': 2731, 'kia': 2732, 'zu': 2733, 'kann': 2734, 'noise': 2735, 'shorts': 2736, 'und': 2737, 'hawaii': 2738, 'kelsea': 2739, 'ballerini': 2740, 'cmt': 2741, 'lakers': 2742, 'cupra': 2743, 'encryption': 2744, 'filming': 2745, 'altman': 2746, '3pm': 2747, 'motorways': 2748, 'calgary': 2749, 'july': 2750, 'window': 2751, 'motion': 2752, 'deserve': 2753, 'atlanta': 2754, 'georgia': 2755, 'tsai': 2756, 'mccarthy': 2757, 'choreographed': 2758, 'idaho': 2759, 'precision': 2760, 'strikes': 2761, 'uber': 2762, 'veteran': 2763, 'sergeant': 2764, 'ride': 2765, 'in…': 2766, 'behalf': 2767, 'defended': 2768, 'dramatic': 2769, 'delivering': 2770, 'knockout': 2771, 'target': 2772, 'reject': 2773, 'fraud': 2774, 'alasibi': 2775, 'hura': 2776, 'bedouin': 2777, 'heightened': 2778, 'tensions': 2779, 'holy': 2780, 'site': 2781, '\\xa0\\xa0': 2782, 'straw': 2783, 'tsa': 2784, 'overnight': 2785, 'quickly': 2786, 'achieve': 2787, 'kaylin': 2788, 'gillis': 2789, 'image': 2790, 'grant': 2791, 'clemency': 2792, 'someday': 2793, 'engaging': 2794, 'murderous': 2795, 'recruit': 2796, '34': 2797, 'ufc': 2798, 'orleans': 2799, 'taxes': 2800, 'chairman': 2801, 'select': 2802, 'secure': 2803, 'advocacy': 2804, 'discharged': 2805, 'patch': 2806, 'scale': 2807, 'boston': 2808, 'logan': 2809, 'airport': 2810, 'drinking': 2811, 'tip': 2812, 'items': 2813, 'dual': 2814, 'moving': 2815, 'homeowner': 2816, 'knocked': 2817, 'siblingsa': 2818, 'ringing': 2819, 'mis…': 2820, 'hawk': 2821, 'appearing': 2822, 'spotted': 2823, 'existence': 2824, 'eco': 2825, 'terrorism': 2826, 'blow': 2827, 'fiction': 2828, 'ethics': 2829, 'readiness': 2830, 'patrol': 2831, 'units': 2832, 'visitors': 2833, 'journey': 2834, 'winter': 2835, 'defenders': 2836, 'seconds': 2837, 'walking': 2838, 'ceiling': 2839, 'hannah': 2840, 'gifts': 2841, 'kindergartner': 2842, 'mistakes': 2843, 'gunshots': 2844, 'surface': 2845, 'pacific': 2846, 'equipment': 2847, 'rear': 2848, 'eyed': 2849, 'decreased': 2850, 'believes': 2851, \"abbott's\": 2852, 'troubling': 2853, 'jefferson': 2854, 'lester': 2855, 'p': 2856, 'seeing': 2857, \"europe's\": 2858, 'largest': 2859, 'revives': 2860, 'lawsthe': 2861, 'renewed': 2862, '“stand': 2863, 'ground”': 2864, 'ot…': 2865, 'injustice': 2866, 'closing': 2867, 'arguments': 2868, 'enrique': 2869, 'tarrio': 2870, 'lieutenants': 2871, \"musk's\": 2872, 'spacex': 2873, \"ukraine's\": 2874, 'korea': 2875, 'signaled': 2876, 'intentions': 2877, 'possibly': 2878, 'directly': 2879, 'allowed': 2880, 'situation': 2881, 'mitarius': 2882, 'boyd': 2883, 'travonsha': 2884, 'followed': 2885, 'outrageous': 2886, 'russia’s': 2887, 'probably': 2888, 'bennet': 2889, '“ai': 2890, 'force”': 2891, 'identify': 2892, 'drawbacks': 2893, 'disruptiv…': 2894, 'glossip': 2895, 'executed': 2896, 'hire': 2897, 'thrown': 2898, 'neo': 2899, 'group’s': 2900, 'conspiracy': 2901, 'basically': 2902, 'solved': 2903, 'q': 2904, 'portion': 2905, 'recode': 2906, 'autonomously': 2907, 'than…': 2908, 'highest': 2909, 'trend': 2910, \"hasn't\": 2911, 'starting': 2912, 'practically': 2913, 'millennia': 2914, 'podcasts': 2915, 'phenomenon': 2916, 'popularized': 2917, 'crime…': 2918, 'candy': 2919, 'montgomery': 2920, 'dramas': 2921, \"gore's\": 2922, 'confronted': 2923, 'jean': 2924, 'f…': 2925, 'courtney': 2926, 'onlyfans': 2927, 'is…': 2928, 'lori': 2929, 'raising': 2930, 'cook': 2931, 'dad': 2932, 'prankster': 2933, 'tactical': 2934, 'edc': 2935, 'apart': 2936, 'perfect': 2937, 'manufacturing': 2938, 'supply': 2939, 'talks': 2940, 'tough': 2941, 'begin': 2942, 'drawing': 2943, 'brink': 2944, 'comstock': 2945, 'legacy': 2946, 'nbsp': 2947, 'montana’s': 2948, 'nick': 2949, '—\\xa0': 2950, 'advance': 2951, 'equal': 2952, 'raab': 2953, 'defamation': 2954, 'suit': 2955, 'minimum': 2956, 'requiring': 2957, 'writing': 2958, 'anything': 2959, 'largely': 2960, 'passionate': 2961, 'either': 2962, '“gun': 2963, 'reappointed': 2964, 'leadership': 2965, 'congress': 2966, 'denver': 2967, 'confront': 2968, 'surge': 2969, 'expanded': 2970, 'booed': 2971, 'november': 2972, 'comply': 2973, 'kathleen': 2974, 'dangerous': 2975, 'noted': 2976, 'individual': 2977, 'scholars': 2978, 'gathering': 2979, '“paralyzes”': 2980, 'exercise': 2981, 'toddler': 2982, 'getty': 2983, 'provided': 2984, 'umpteenth': 2985, 'strange': 2986, 'grand…': 2987, 'unrestricted': 2988, 'pe…': 2989, 'lawsuits': 2990, 'stable': 2991, 'i’d': 2992, 'meaning': 2993, 'limit': 2994, 'affect': 2995, 'verge': 2996, 'decade': 2997, 'carl': 2998, 'bogus': 2999, 'hidden': 3000, 'justices': 3001, 'nebraska': 3002, 'victories': 3003, 'strict': 3004, 'violates': 3005, 'violating': 3006, 'decide': 3007, 'indict': 3008, 'jayland': 3009, 'walker': 3010, 'airing': 3011, 'measure': 3012, 'parental': 3013, 'slammed': 3014, \"'set\": 3015, \"up'\": 3016, 'gave': 3017, 'consent\\xa0\\xa0fox': 3018, 'defeat': 3019, 'globalists': 3020, 'live\\xa0\\xa0cnn': 3021, 'show…': 3022, 'revive': 3023, 'antiabortion': 3024, 'communications': 3025, 'provision': 3026, 'federally': 3027, 'colleges': 3028, 'biological': 3029, 'assigned': 3030, 'compete': 3031, 'appellate': 3032, 'infrequently': 3033, 'conceal': 3034, 'everyday': 3035, 'dying': 3036, 'hides': 3037, 'guise': 3038, \"delgado's\": 3039, 'rightward': 3040, 'lurch': 3041, 'florida’s': 3042, 'all…': 3043, 'founders': 3044, 'sued': 3045, 'tactics': 3046, 'cannot': 3047, '‘tennessee': 3048, 'three’': 3049, '‘decorum’': 3050, 'disobedience': 3051, 'resisting': 3052, 'tyrannythis': 3053, 'democr…': 3054, \"he'll\": 3055, 'association’s': 3056, 'costs': 3057, 'aim': 3058, 'militia': 3059, 'structure': 3060, 'competing': 3061, 'surpassed': 3062, 'billionaire': 3063, 'titan': 3064, 'ann': 3065, 'lesley': 3066, 'arrival': 3067, 'showcase': 3068, 'unconstitutional': 3069, 'jennifer': 3070, 'minors': 3071, 'cert': 3072, 'highlight': 3073, 'representing': 3074, 'v': 3075, 'wade': 3076, 'repeal': 3077, 'wing': 3078, 'holes': 3079, 'promoting': 3080, 'blockers': 3081, 'hormones': 3082, 'surgeries': 3083, 'lockdown': 3084, 'ran': 3085, 'show’s': 3086, 'hadn’t': 3087, 'stronger': 3088, 'miss': 3089, 'contest': 3090, 'courting': 3091, \"us's\": 3092, 'leg': 3093, 'performances': 3094, 'requirement': 3095, '1998': 3096, 'worrying': 3097, 'bridges': 3098, 'camping': 3099, 'outdoors': 3100, 'environmental': 3101, 'italian': 3102, 'bet': 3103, 'spent': 3104, 'build': 3105, 'neighbourhood': 3106, 'delhi': 3107, 'shown': 3108, 'eastern': 3109, 'dwelling': 3110, 'riders': 3111, 'manchester’s': 3112, 'cotton': 3113, 'slavery': 3114, 'voices': 3115, 'joy': 3116, 'abduction': 3117, 'devastation': 3118, 'australia': 3119, 'radio': 3120, 'treaty': 3121, 'risky': 3122, 'bundled': 3123, 'products': 3124, 'orlando': 3125, \"what's\": 3126, 'marriage': 3127, 'concrete': 3128, 'importantkaushik': 3129, 'retailer': 3130, 'chapter': 3131, 'jersey': 3132, 'setup': 3133, 'interested': 3134, 'fields': 3135, 'chelsea’s': 3136, 'celebrated': 3137, 'barnes': 3138, 'londongianandrea': 3139, 'noseda': 3140, 'lso': 3141, 'shostakovich': 3142, 'operatic': 3143, 'wonderland': 3144, 'childrenmusic': 3145, 'truism': 3146, 'bes…': 3147, 'predict': 3148, 'corporate': 3149, '140': 3150, 'turnaround': 3151, 'attempts': 3152, 'numerous': 3153, 'gough': 3154, 'birds': 3155, 'pre': 3156, 'betting': 3157, 'raked': 3158, 'recycling': 3159, 'evacuation': 3160, 'slated': 3161, 'discuss': 3162, 'usually': 3163, 'located': 3164, 'strip': 3165, 'retailers': 3166, 'dismal': 3167, 'losses': 3168, 'stores': 3169, 'rnli': 3170, 'lifeguarded': 3171, 'islands': 3172, '2022they': 3173, 'strength': 3174, 'capability': 3175, 'tests': 3176, 'scratch': 3177, 'ranging': 3178, 'su…': 3179, 'assets': 3180, 'farmington': 3181, 'lethal': 3182, \"i've\": 3183, 'plane': 3184, 'cancel': 3185, 'added': 3186, 'dublin': 3187, 'studio': 3188, 'extended': 3189, 'cons': 3190, 'crossing': 3191, 'economic': 3192, 'admitted': 3193, 'crackdown': 3194, 'deepwater': 3195, 'company’s': 3196, 'tired': 3197, 'cards': 3198, 'elite': 3199, 'earning': 3200, 'separatist': 3201, 'revived': 3202, 'homeland': 3203, 'secession': 3204, 'lemonade': 3205, 'fearing': 3206, 'occasion': 3207, 'marathon': 3208, 'hand': 3209, 'selling': 3210, 'houses': 3211, 'neighborhood': 3212, 'generally': 3213, 'travelers': 3214, 'however': 3215, 'cheaper': 3216, 'pricing': 3217, 'burning': 3218, 'neighboring': 3219, 'deadlock': 3220, 'parliament': 3221, 'approved': 3222, 'sell': 3223, 'ring': 3224, 'existing': 3225, '‘guilty': 3226, 'proven': 3227, 'innocent’': 3228, 'investigated': 3229, 'total': 3230, '31': 3231, 'cruel': 3232, 'jackson': 3233, 'leave': 3234, 'beginning': 3235, 'ministers': 3236, 'newest': 3237, 'bonus': 3238, 'themed': 3239, 'tops': 3240, 'payments': 3241, 'levels': 3242, 'of…': 3243, 'india’s': 3244, 'suburb': 3245, 'locals': 3246, 'interesting': 3247, 'transnational': 3248, 'chaco': 3249, 'fled': 3250, 'draft': 3251, 'removing': 3252, 'o…': 3253, 'pontiff': 3254, 'charity': 3255, 'pm': 3256, 'francis': 3257, 'thanked': 3258, 'considering': 3259, 'justify': 3260, 'leaker': 3261, 'chat': 3262, 'earth': 3263, 'bike': 3264, 'insurers': 3265, 'premium': 3266, 'detained': 3267, 'removednepalese': 3268, 'airlifted': 3269, 'dete…': 3270, 'smith’s': 3271, 'authority': 3272, 'alerts': 3273, 'property': 3274, 'ethnicity': 3275, 'entertain': 3276, 'energy': 3277, 'chilling': 3278, 'cold': 3279, 'consent': 3280, \"company's\": 3281, 'refuse': 3282, 'weeds': 3283, 'chelsea': 3284, 'flower': 3285, 'optional': 3286, 'causes': 3287, 'heart': 3288, 'disease': 3289, 'cancer': 3290, '44': 3291, 'usual': 3292, 'suici…': 3293, 'seized': 3294, '59': 3295, 'dies': 3296, 'container': 3297, 'medium': 3298, 'rss': 3299, '20230421': 3300, 'accidentally': 3301, 'pulling': 3302, 'inching': 3303, 'prepares': 3304, 'deliver': 3305, 'jacinda': 3306, 'ardern': 3307, 'reasons': 3308, 'events': 3309, 'devastated': 3310, 'lapierre': 3311, 'catchy': 3312, 'lose': 3313, 'let’s': 3314, 'rodrigo': 3315, 'duterte': 3316, 'served': 3317, 'grade': 3318, \"we're\": 3319, \"biofire's\": 3320, 'answer': 3321, 'question': 3322, 'sparse': 3323, 'database': 3324, 'typically': 3325, 'striker': 3326, '80': 3327, 'pulled': 3328, 'dealing': 3329, 'tr': 3330, 'website': 3331, 'specific': 3332, 'save': 3333, '110th': 3334, 'caused': 3335, \"kloepfer's\": 3336, 'accessing': 3337, \"parents'\": 3338, 'sen': 3339, 'chris': 3340, 'restrictive': 3341, 'challenging': 3342, 'operating': 3343, 'difference': 3344, 'accountability': 3345, 'eligibility': 3346, 'poll': 3347, 'effects': 3348, 'deployed': 3349, 'former—and': 3350, 'future—american': 3351, '“potential': 3352, 'destruction”': 3353, 'benjamin': 3354, 'da': 3355, 'overall': 3356, 'robberies': 3357, \"robinson's\": 3358, 'angry': 3359, 'facebook': 3360, 'foods': 3361, 'shuttered': 3362, '“ensure': 3363, 'safety”': 3364, 'citing': 3365, 'homelessness': 3366, 'afraid': 3367, 'yorkers': 3368, 'aka': 3369, 'ayotzinapa': 3370, 'repeatedly': 3371, 'presencethe': 3372, 'mexican': 3373, 'cartel': 3374, 'abducted': 3375, 'september': 3376, 'hacked': 3377, 'fro…': 3378, 'labour': 3379, 'tackle': 3380, 'gangs': 3381, 'although': 3382, 'illness': 3383, 'friend’s': 3384, 'helped': 3385, 'messaging': 3386, 'controversy': 3387, 'presents': 3388, 'enhance': 3389, 'misdemeanor': 3390, 'takeover': 3391, 'witch': 3392, 'traced': 3393, 'ages': 3394, 'researcher': 3395, 'miami': 3396, 'commit': 3397, 'damn': 3398, 'doesn’t': 3399, 'sausage': 3400, 'mccurtain': 3401, 'reporter': 3402, 'founder’s': 3403, 'topic': 3404, 'reckon': 3405, 'withlast': 3406, 'woke': 3407, 'foun…': 3408, 'zhiyong’s': 3409, 'fate': 3410, 'ill': 3411, 'eyes': 3412, 'h…': 3413, 'seizing': 3414, 'prosecuting': 3415, 'facts': 3416, 'fabricate': 3417, 'completing': 3418, '\\xa0\\xa0reuters': 3419, 'c…': 3420, 'rcmp': 3421, 'news\\xa0\\xa0castanet': 3422, \"children's\": 3423, 'commissioner': 3424, 'guidance': 3425, '55': 3426, 'dating': 3427, 'advice': 3428, '“he': 3429, 'thief': 3430, 'truck': 3431, 'shots': 3432, 'mile': 3433, 'agreed': 3434, 'alliance': 3435, 'nca': 3436, 'meta’s': 3437, 'world’s': 3438, 'condemned': 3439, 'thanks': 3440, 'flow': 3441, 'chapman': 3442, 'wirral': 3443, 'evea': 3444, 'merseyside': 3445, 'eve': 3446, 'edwards': 3447, 'joined': 3448, 'talked': 3449, 'rival': 3450, 'eliminated': 3451, 'failing': 3452, 'mosque': 3453, 'haiti': 3454, 'luxury': 3455, 'targeted': 3456, 'steven': 3457, 'raid': 3458, 'investigations': 3459, 'londona': 3460, 'korean': 3461, 'animated': 3462, 'user': 3463, 'suggest': 3464, 'electoral': 3465, 'published': 3466, 'st': 3467, 'blast': 3468, 'wsj': 3469, 'gladys': 3470, 'kamasanyu': 3471, 'chicken': 3472, 'smaller': 3473, 'excited': 3474, 'mallory': 3475, 'sample': 3476, 'dolphin': 3477, 'contained': 3478, 'installation': 3479, 'concept': 3480, 'curiosity': 3481, 'leads': 3482, 'korda': 3483, 'chevron': 3484, 'casualties': 3485, 'gross': 3486, 'category': 3487, 'feral': 3488, 'cats': 3489, 'survival': 3490, 'fishing': 3491, 'funds': 3492, 'kingdom': 3493, 'artbook': 3494, 'switch': 3495, 'maker': 3496, 'together': 3497, 'figure': 3498, 'coronation': 3499, 'evening': 3500, 'internal': 3501, \"google's\": 3502, 'sneakers': 3503, 'talos': 3504, 'iranian': 3505, 'opportunity': 3506, 'managed': 3507, 'focused': 3508, 'gear': 3509, 'nanuq': 3510, 'marks': 3511, 'polar': 3512, 'dates': 3513, 'size': 3514, '1970s': 3515, 'sky': 3516, 'songwriter': 3517, 'musician': 3518, 'minute': 3519, 'heating': 3520, 'plays': 3521, 'disclosure': 3522, 'secrets': 3523, 'discovery': 3524, 'lifetime': 3525, 'frequently': 3526, 'towards': 3527, 'costner': 3528, 'tom': 3529, 'becoming': 3530, 'eager': 3531, 'hot': 3532, 'adding': 3533, 'accepted': 3534, 'carjackings': 3535, 'tackling': 3536, 'airtags': 3537, 'eric': 3538, 'adams': 3539, 'distributing': 3540, 'magazine': 3541, 'husband': 3542, 'ditch': 3543, 'exoprimal': 3544, 'actors': 3545, 'blew': 3546, 'pokémon': 3547, 'milan': 3548, 'questioning': 3549, 'traditional': 3550, 'combination': 3551, 'duty': 3552, 'jacket': 3553, 'eggs': 3554, 'shores': 3555, 'astronomers': 3556, 'bears': 3557, 'solo': 3558, 'olga': 3559, 'excels': 3560, 'sudan': 3561, 'sparked': 3562, 'scientists': 3563, 'disorder': 3564, \"you'll\": 3565, 'farm': 3566, 'conservation': 3567, 'lodged': 3568, 'wordle': 3569, 'professional': 3570, 'pushing': 3571, 'kemono': 3572, 'fusion': 3573, 'playstation': 3574, 'consoles': 3575, 'private': 3576, 'quoted': 3577, 'uk’s': 3578, 'leicester': 3579, 'english': 3580, 'grounds': 3581, 'concerned': 3582, 'snail': 3583, 'species': 3584, \"you've\": 3585, 'gaming': 3586, 'laptop': 3587, 'cut': 3588, 'duo': 3589, 'rather': 3590, \"jordan's\": 3591, 'andrea': 3592, 'suspended': 3593, 'female': 3594, 'woods': 3595, 'salmon': 3596, 'shut': 3597, 'successive': 3598, 'finishing': 3599, 'haaland': 3600, 'southampton': 3601, 'presumably': 3602, 'spider': 3603, 'wife’s': 3604, 'specialist': 3605, 'akita': 3606, 'locally': 3607, 'captured': 3608, 'machines': 3609, 'proved': 3610, 'object': 3611, 'tire': 3612, 'delicious': 3613, '2023’s': 3614, 'jump': 3615, 'train': 3616, 'winners': 3617, 'award': 3618, 'jamaal': 3619, 'bowman': 3620, 'screaming': 3621, 'marjorie': 3622, '“take': 3623, 'meagre': 3624, 'judges': 3625, 'adept': 3626, 'workarounds“we': 3627, 'democracy': 3628, 'comic': 3629, 'slew': 3630, 'governor’s': 3631, 'signatures': 3632, 'declined': 3633, 'stance': 3634, 'shelby': 3635, 'statehouse': 3636, 'born': 3637, 'dominion’s': 3638, 'california’s': 3639, 'superbloom': 3640, 'successful': 3641, 'unanimous': 3642, 'cruz': 3643, 'none': 3644, 'involving': 3645, 'tentative': 3646, '144': 3647, 'lasted': 3648, 'incredible': 3649, 'beloved': 3650, 'parishioner': 3651, 'fan': 3652, 'hospitalized': 3653, 'scandal': 3654, 'rages': 3655, 'onabout': 3656, 'packed': 3657, 'chapel': 3658, 'fisk': 3659, 'historically': 3660, 'sang': 3661, 'anthem': 3662, \"tennessee's\": 3663, 'tonnes': 3664, 'cocaine': 3665, 'swoop': 3666, 'latin': 3667, 'drop': 3668, 'alec': 3669, 'baldwin': 3670, 'rust': 3671, 'better': 3672, 'hailed': 3673, 'momentous': 3674, 'educational': 3675, 'overt': 3676, 'expelling': 3677, 'tightened': 3678, 'summit': 3679, 'hiroshima': 3680, 'saturdayjapan’s': 3681, 'meetings': 3682, 'unharmed': 3683, 'philadelphia': 3684, 'widening': 3685, 'disparities': 3686, 'extraordinary': 3687, 'toward': 3688, 'crucial': 3689, 'reversed': 3690, 'console': 3691, 'announcement': 3692, 'saturdaytwo': 3693, 'whitmer': 3694, 'shock': 3695, 'prevention': 3696, 'parent': 3697, 'antonio': 3698, 'mass…': 3699, 'staged': 3700, 'walkout': 3701, 'roles': 3702, 'governance': 3703, 'rushing': 3704, 'demonstrators': 3705, 'namesake': 3706, 'river': 3707, 'week’s': 3708, 'counterparts': 3709, 'shield': 3710, 'the\\xa0nashville': 3711, 'shooting\\xa0that': 3712, 'caskets': 3713, 'legislator': 3714, 'escorted': 3715, 'infant': 3716, 'casket': 3717, 'barred': 3718, 'gen': 3719, 'career': 3720, 'cilip': 3721, 'empire': 3722, 'themeslibrarians': 3723, 'censor': 3724, 'biskupic': 3725, 'assured': 3726, 'threatens': 3727, \"biden's\": 3728, 'freedoms': 3729, 'theme': 3730, 'heralded': 3731, 'attacking': 3732, 'irs': 3733, 'ruin': 3734, 'absolutely': 3735, 'matters': 3736, 'furious': 3737, 'walt': 3738, 'agenda': 3739, 'option': 3740, 'flexibility': 3741, 'loved': 3742, 'missed': 3743, 'cease': 3744, 'desist': 3745, 'hold': 3746, 'torino': 3747, 'talented': 3748, 'projects': 3749, 'classics': 3750, 'filmmaker': 3751, \"o'sullivan\": 3752, 'synthetic': 3753, 'various': 3754, 'easier': 3755, 'balance': 3756, 'aga': 3757, 'aire': 3758, 'espacio': 3759, 'como': 3760, 'más': 3761, 'serkis': 3762, 'andor': 3763, 'fans': 3764, 'wondering': 3765, 'unbanned': 3766, 'censorship': 3767, 'brooklyn': 3768, 'minds': 3769, 'normal': 3770, 'moderation': 3771, 'bias': 3772, 'consistency': 3773, 'engine': 3774, 'superintendent': 3775, 'smarter': 3776, 'zero': 3777, 'apr': 3778, '40m': 3779, 'patrick': 3780, 'understand': 3781, 'handcrafted': 3782, 'emotional': 3783, 'mikaela': 3784, '‘the': 3785, 'mother’s': 3786, 'surprising': 3787, 're': 3788, 'progress': 3789, 'follows': 3790, 'debut': 3791, '1989': 3792, 'exposed': 3793, 'developers': 3794, 'spot': 3795, 'consumer': 3796, 'fashion': 3797, 'heading': 3798, 'dissident': 3799, 'dungeons': 3800, 'dragons': 3801, 'makes': 3802, 'rodriguez': 3803, 'happens': 3804, 'featured': 3805, 'helps': 3806, 'fully': 3807, 'consistent': 3808, 'visits': 3809, 'featuring': 3810, 'marcus': 3811, \"dakota's\": 3812, 'addie': 3813, '400': 3814, 'thrilling': 3815, 'religious': 3816, 'girl': 3817, \"louisville's\": 3818, 'grieving': 3819, 'comfort': 3820, 'vigil': 3821, '911': 3822, 'moments': 3823, 'instigated': 3824, 'colleague': 3825, 'anticipate': 3826, 'engender': 3827, 'haul': 3828, 'guy': 3829, 'sound': 3830, 'abby': 3831, 'alexis': 3832, 'dowdell': 3833, 'pays': 3834, 'tribute': 3835, 'brother': 3836, 'teenagersa': 3837, 'sister’s': 3838, 'bits': 3839, 'tweets': 3840, '‘active': 3841, 'aggressor’': 3842, 'slugger': 3843, 'baseball': 3844, 'stadiumauthorities': 3845, '“multiple': 3846, 'casualties”': 3847, 'witnesses': 3848, 'ramming': 3849, 'neighbors—killing': 3850, 'boy—after': 3851, 'envision': 3852, 'confined': 3853, 'believing': 3854, 'doorsteps': 3855, 'hated': 3856, 'safer': 3857, 'triggered': 3858, 'stick': 3859, 'generals': 3860, 'prominent': 3861, 'realistic': 3862, 'possibility': 3863, 'imagine': 3864, 'knocking': 3865, 'stranger’s': 3866, 'finland': 3867, 'spain': 3868, 'canadain': 3869, 'innocent': 3870, 'purchased': 3871, 'longer': 3872, 'treatments': 3873, 'primary': 3874, '£1': 3875, 'daughters': 3876, 'britain': 3877, 'als': 3878, 'anger': 3879, 'sword': 3880, 'manhunt': 3881, 'cdc': 3882, 'rose': 3883, 'hospitals': 3884, 'plenty': 3885, 'horrors': 3886, 'uniquely': 3887, 'rizzi': 3888, 'tell': 3889, 'potter': 3890, 'titans': 3891, 'inspired': 3892, 'ryan': 3893, 'bullied': 3894, 'able': 3895, 'sacrificial': 3896, 'altar': 3897, 'heads': 3898, 'newspaper': 3899, 'armstrong': 3900, 'evans': 3901, 'universities': 3902, 'transparent': 3903, 'synthpop': 3904, 'levy': 3905, 'delay': 3906, 'chief': 3907, 'adolescents': 3908, 'à': 3909, \"'national\": 3910, \"enquirer'\": 3911, 'honored': 3912, 'jeffrey': 3913, 'governments': 3914, 'kabul': 3915, 'chaotic': 3916, 'scrum': 3917, 'rugby': 3918, 'ont': 3919, 'dans': 3920, 'une': 3921, 'nepali': 3922, 'malaysia': 3923, 'qui': 3924, 'gigazine': 3925, 'hell': 3926, 'fellow': 3927, 'theatre': 3928, 'cameron’s': 3929, 'accounts': 3930, 'discrimination': 3931, 'neighbour': 3932, 'totoro': 3933, 'hall': 3934, 'fails': 3935, 'vegas': 3936, 'clinics': 3937, 'medications': 3938, 'decisions': 3939, 'saved': 3940, 'nima': 3941, 'momeni': 3942, 'destroyed': 3943, 'researched': 3944, 'leaks': 3945, 'ky': 3946, '163': 3947, 'mitchell': 3948, 'on…': 3949, 'rampage': 3950, 'detect': 3951, 'leaking': 3952, 'shortly': 3953, 'aftermath': 3954, \"problem'\": 3955, \"week's\": 3956, 'shawn': 3957, 'coupé': 3958, 'ham': 3959, 'finish': 3960, 'cet': 3961, 'roxy': 3962, 'stinger': 3963, 'demnächst': 3964, 'deutschland': 3965, 'nicht': 3966, 'mehr': 3967, 'haben': 3968, 'sein': 3969, 'dafür': 3970, 'stellten': 3971, 'koreaner': 3972, 'kürzlich': 3973, 'ev6': 3974, 'gt': 3975, 'sportliche': 3976, 'ihres': 3977, 'elektrischen': 3978, 'brakes': 3979, 'vor': 3980, 'aber': 3981, 'elektroauto': 3982, 'emotionales': 3983, 'v6': 3984, 'sportcoupé': 3985, 'wirklich': 3986, 'ersetz…': 3987, 'tricky': 3988, 'finals': 3989, 'styles': 3990, 'sur': 3991, 'bucks': 3992, 'xavier': 3993, 'granted': 3994, 'quali': 3995, 'cockfighting': 3996, \"rupaul's\": 3997, \"goin'\": 3998, 'dillon': 3999, 'brooks': 4000, 'commonwealth': 4001, 'netball': 4002, 'suns': 4003, 'splintering': 4004, 'clippers': 4005, 'fined': 4006, 'ping': 4007, 'pong': 4008, 'tables': 4009, 'ageing': 4010, 'forty': 4011, 'huskies': 4012, \"pm's\": 4013, 'page': 4014, 'sturgeon': 4015, 'spend': 4016, 'hbo': 4017, 'path': 4018, 'injury': 4019, 'formula': 4020, 'masters': 4021, 'hollyland': 4022, 'ellie': 4023, 'ability': 4024, 'lens': 4025, 'details': 4026, 'darkrebel': 4027, 'max': 4028, '6x': 4029, 'optical': 4030, 'zoom': 4031, 'fiery': 4032, '60': 4033, \"spacex's\": 4034, 'starship': 4035, 'posed': 4036, 'technical': 4037, 'mifepristone': 4038, 'sadiq': 4039, '6bn': 4040, 'hating': 4041, 'sundar': 4042, 'pichai': 4043, 'nuclear': 4044, 'garage': 4045, 'traffic': 4046, 'recall': 4047, 'concern': 4048, 'resume': 4049, 'sam': 4050, 'gpt': 4051, 'tec…': 4052, 'eat': 4053, '4g': 4054, '5g': 4055, 'phones': 4056, 'cars': 4057, 'coroner': 4058, 'fourteen': 4059, 'doctor': 4060, 'wta': 4061, 'tournaments': 4062, 'december': 4063, 'boycott': 4064, 'buses': 4065, 'garages': 4066, 'suitable': 4067, 'mutually': 4068, 'beneficial': 4069, 'to—sites': 4070, \"china's\": 4071, 'drove': 4072, 'brutality': 4073, \"driver's\": 4074, 'david': 4075, 'kelley': 4076, 'paints': 4077, 'portrait': 4078, 'trapped': 4079, 'terrible': 4080, 'predicament': 4081, 'falcons': 4082, 'william': 4083, \"woman's\": 4084, 'lawrenceville': 4085, 'defying': 4086, \"beijing's\": 4087, 'repeated': 4088, 'ing': 4089, 'wen': 4090, 'presented': 4091, 'carefully': 4092, 'thirty': 4093, 'preparedness': 4094, '“fight”': 4095, 'wrapping': 4096, 'simulated': 4097, 'sealing': 4098, '2020a': 4099, 'undisciplined': 4100, 'unpredictable': 4101, 'testify': 4102, 'mar': 4103, 'largo': 4104, 'dep…': 4105, 'punch': 4106, 'demanded': 4107, 'reparations': 4108, 'grocery': 4109, 'herself': 4110, 'rosa': 4111, 'parks': 4112, 'cam': 4113, 'bail': 4114, 'wealthy': 4115, 'exiled': 4116, 'businessman': 4117, 'obstruct': 4118, 'simulating': 4119, 'encirclement': 4120, '“serious': 4121, 'warning”': 4122, '“defensive': 4123, 'democracy”': 4124, 'throughout': 4125, 'sponsored': 4126, 'jobs': 4127, 'barriers': 4128, 'done': 4129, 'easiest': 4130, 'mail': 4131, 'inf…': 4132, 'passenger': 4133, 'artfully': 4134, 'spokesman': 4135, '\\xa0\\xa0albuquerque': 4136, 'superiority': 4137, \"taiwan's\": 4138, 'skies': 4139, 'reignite': 4140, 'mcgillvary': 4141, 'unrelated': 4142, 'hazlewood': 4143, 'defamatory': 4144, 'mikey': 4145, 'espn': 4146, 'bond': 4147, 'defence': 4148, 'mixed': 4149, 'arising': 4150, 'from…': 4151, 'employed': 4152, 'discover': 4153, 'tax': 4154, 'software': 4155, 'grow': 4156, 'keeping': 4157, 'beijing': 4158, 'empower': 4159, 'amp': 4160, 'usfl': 4161, 'sensation': 4162, 'zena': 4163, 'dodson': 4164, 'represented': 4165, 'defunct': 4166, 'metal': 4167, 'sharpened': 4168, 'luggage': 4169, 'marketed': 4170, 'al…': 4171, 'crashed': 4172, 'objects': 4173, 'thrilled': 4174, 'neon’s': 4175, 'pipeline': 4176, 'rolling': 4177, 'film—adapted': 4178, 'andreas': 4179, 'malm': 4180, 'exercises': 4181, 'forming': 4182, 'counterattack': 4183, 'vehicles': 4184, 'witnessed': 4185, 'devoted': 4186, 'feels': 4187, 'sixth': 4188, 'dimensionin': 4189, 'co…': 4190, 'carmignani': 4191, 'spraying': 4192, 'repellent': 4193, 'homeless': 4194, 'vying': 4195, 'gonna': 4196, 'retiring': 4197, 'dennis': 4198, 'contractor': 4199, 'lifeweaver': 4200, 'overwatch': 4201, '2’s': 4202, 'skill': 4203, 'healer': 4204, 'kit': 4205, 'lifewea…': 4206, 'matthews': 4207, 'importance': 4208, 'solidarity': 4209, 'jfk': 4210, 'nominationrobert': 4211, 'scion': 4212, '69…': 4213, 'australia’s': 4214, 'recommended': 4215, 'sweeping': 4216, 'adjusts': 4217, 'feet': 4218, 'cocooned': 4219, \"navy's\": 4220, 'technologically': 4221, 'pieces': 4222, 'adm': 4223, 'jeff': 4224, 'jablon': 4225, 'markynn': 4226, 'rage': 4227, 'jin': 4228, 'shin': 4229, 'tarrant': 4230, 'exonerated': 4231, 'texas’': 4232, 'intervention': 4233, 'mo': 4234, 'grabbed': 4235, 'putin': 4236, 'wwii': 4237, 'rhetorically': 4238, 'enshrine': 4239, 'studies': 4240, 'hurting': 4241, 'intel': 4242, 'fight…': 4243, 'scrambling': 4244, 'complete': 4245, 'counteroffensive': 4246, 'exports': 4247, 'poland': 4248, 'yoon': 4249, 'suk': 4250, 'yeol': 4251, 'rotational': 4252, 'batches': 4253, 'indefinitely': 4254, 'objections': 4255, 'manhood': 4256, 'competence': 4257, 'breadth': 4258, 'the\\xa0savoir': 4259, 'faire': 4260, 'we’ll': 4261, 'republishing': 4262, 'german': 4263, 'accent': 4264, 'we’ve': 4265, 'iger': 4266, \"desantis'\": 4267, 'shareholders': 4268, 'stockpile': 4269, 'shells': 4270, 'spetsnaz': 4271, 'remorseless': 4272, 'soviet': 4273, 'terminators': 4274, 'enduring': 4275, 'galeotti': 4276, \"putin's\": 4277, '1997': 4278, 'bossthe': 4279, 'inmate': 4280, 'richard': 4281, 'attorne…': 4282, 'gepard': 4283, 'propelled': 4284, '2021ready': 4285, '“all': 4286, 'war”': 4287, 'viewed': 4288, 'clung': 4289, 'rebuffing': 4290, 'hinge': 4291, 'stall': 4292, 'arrive': 4293, 'scientist': 4294, 'oriana': 4295, 'skylar': 4296, 'mastro': 4297, 'qin': 4298, 'explicit': 4299, 'batteries': 4300, 'blasting': 4301, 'blindly': 4302, 'map': 4303, 'coordinates': 4304, 'pardons': 4305, 'horribly': 4306, 'tragic': 4307, 'betty': 4308, 'grist': 4309, '1980': 4310, 'swimsuit': 4311, 'montgo…': 4312, 'acolyte': 4313, 'franchise’s': 4314, 'republic': 4315, '8212': 4316, 'securely': 4317, 'stored': 4318, \"safety's\": 4319, 'sake': 4320, 'bulldog': 4321, 'cop': 4322, 'rape': 4323, 'accuser': 4324, 'greedy': 4325, 'mentally': 4326, 'fortunate': 4327, 'wounds': 4328, 'younger': 4329, 'brothers': 4330, 'clenney': 4331, 'obusmeli': 4332, 'dragged': 4333, \"boyfriend's\": 4334, 'tmz': 4335, \"christian's\": 4336, 'vallow': 4337, 'sister': 4338, 'jeramy': 4339, 'tanner': 4340, 'deserved': 4341, 'titanium': 4342, 'multitool': 4343, 'splits': 4344, 'cleverly': 4345, 'stand\\ufeff\\ufeff': 4346, 'anal': 4347, 'multitools': 4348, 'literally': 4349, 'conspiracya': 4350, 'argued': 4351, 'landmark': 4352, 'january': 4353, 'insurrection': 4354, 'rico': 4355, \"island's\": 4356, 'finite': 4357, 'beneficent': 4358, 'gerontocracy': 4359, 'destructive': 4360, 'valuing': 4361, 'sanctity': 4362, '“life': 4363, '37…': 4364, 'president’s': 4365, 'contrasts': 4366, 'weighs': 4367, '19th': 4368, 'prudishness': 4369, 'silly': 4370, 'bill’s': 4371, 'subtle': 4372, '419': 4373, 'tik': 4374, 'tok': 4375, 'couldn’t': 4376, 'works': 4377, 'prohibits': 4378, 'store…': 4379, 'rewrite': 4380, 'asserting': 4381, 'amendment—despite': 4382, 'plain': 4383, 'text—never': 4384, 'supposed': 4385, 'mordowanec': 4386, 'newsweek': 4387, '‘unfortunately’': 4388, 'amendment\\xa0': 4389, 'usa': 4390, 'organizational': 4391, 'exchange…': 4392, 'ratification': 4393, 'transcript': 4394, 'formal': 4395, 'dealings': 4396, 'servantsgood': 4397, 'dominic': 4398, 'sacked': 4399, 'over…': 4400, 'averting': 4401, 'blockbuster': 4402, 'dominion': 4403, 'spurious': 4404, 'minnesota’s': 4405, 'permits': 4406, 'obtaining': 4407, 'violated…': 4408, 'avoided': 4409, 'guns—being': 4410, 'unfamiliar': 4411, 'control”': 4412, '”judging': 4413, 'polling': 4414, 'peaceful': 4415, \"nra's\": 4416, 'colorado’s': 4417, 'righ…': 4418, 'state\\xa0\\xa0rolling': 4419, 'speakers': 4420, 'convention\\xa0\\xa0msnbc': 4421, 'attend': 4422, 'tennessee\\xa0\\xa0cnn': 4423, 'tate': 4424, 'strengthen': 4425, '039': 4426, 'eliminate': 4427, 'maintain': 4428, 'feder…': 4429, 'cardone': 4430, 'unimpressed': 4431, \"administration's\": 4432, 'amicus': 4433, 'briefs': 4434, 'breitbart': 4435, 'exclusively': 4436, '“scourge': 4437, 'shoot…': 4438, 'included': 4439, 'people”': 4440, '“war”': 4441, '“forever”': 4442, 'spate': 4443, 'ponysouth': 4444, 'dakota’s': 4445, 'grandchild': 4446, 'lobbying': 4447, 'leade…': 4448, 'proudly': 4449, 'shotgun\\xa0\\xa0the': 4450, 'forum\\xa0\\xa0keloland': 4451, 'conven…': 4452, '“': 4453, 'etitioner’s': 4454, 'spouse’s': 4455, 'court’s': 4456, 'bruen': 4457, 'generative': 4458, 'stability': 4459, 'makers': 4460, 'diffusion': 4461, 'particular': 4462, 'probl…': 4463, 'voter': 4464, 'registration': 4465, 'restrictionsflorida': 4466, 'passing': 4467, 'register': 4468, 'exper…': 4469, '1998—a': 4470, 'heller—prof': 4471, 'dissented': 4472, 'intervene': 4473, 'practices': 4474, 'general’s': 4475, '“in': 4476, 'detail': 4477, 'senators': 4478, 'abortions': 4479, 'stateabortion': 4480, 'notable': 4481, 'fir…': 4482, 'bud': 4483, 'folding': 4484, 'backyard': 4485, 'shreds': 4486, 'temporarily': 4487, 'placing': 4488, 'siding': 4489, 'statute': 4490, 'bettinger': 4491, 'seated': 4492, 'ballot': 4493, 'wipe': 4494, 'performers': 4495, 'impacted': 4496, 'affront': 4497, \"girls'\": 4498, 'headquarters': 4499, 'sparred': 4500, 'tiff': 4501, 'yearslong': 4502, 'saga': 4503, 'kills': 4504, 'prohibited': 4505, 'purchasing': 4506, 'used…': 4507, 'continuous': 4508, 'regulations': 4509, 'declaring': 4510, 'promoted': 4511, 'kamala': 4512, 'refamiliarize': 4513, 'bearer': 4514, 'chambered': 4515, 'loaded': 4516, \"wednesday's\": 4517, 'tpusa': 4518, 'prostitutes': 4519, 'ta…': 4520, 'suing': 4521, 'portland': 4522, 'violated': 4523, 'takers': 4524, 'sufficient': 4525, 'print': 4526, 'ridges': 4527, 'exam': 4528, 'cnn’s': 4529, 'accusation': 4530, 'indian…': 4531, 'recognized': 4532, '“well': 4533, 'regulated”': 4534, 'exercising': 4535, 'tyre': 4536, 'nichols': 4537, 'blaming': 4538, 'unit’s': 4539, 'unchec…': 4540, 'clinton': 4541, 'gaveled': 4542, 'pursue': 4543, 'thoughtful': 4544, 'practical': 4545, 'tennesseans': 4546, 'vowing': 4547, 'shootingscolorado’s': 4548, 'shooting…': 4549, '1863': 4550, 'argues': 4551, 'madison': 4552, 'regulated': 4553, 'nariman': 4554, 'basic': 4555, 'doctrine': 4556, 'ibs': 4557, 'specialty': 4558, 'diet': 4559, 'producers': 4560, 'truthful': 4561, 'consumers': 4562, 'informative': 4563, 'labeling': 4564, 'engagement': 4565, 'weeksrupert': 4566, 'murdoch’s': 4567, 'wedding': 4568, 'barely': 4569, '146th': 4570, 'attracted': 4571, 'rob…': 4572, 'camden': 4573, 'decried': 4574, 'refusing': 4575, 'cooperate': 4576, 'atf': 4577, 'discusses': 4578, 'hudson': 4579, '“mutants”': 4580, 'debating': 4581, 'curtail': 4582, '1421': 4583, 'prohibit…': 4584, 'selection': 4585, 'we’re': 4586, \"cnn's\": 4587, 'topics': 4588, 'brice': 4589, 'timmons': 4590, \"george's\": 4591, 'targets': 4592, 'wall': 4593, 'proposes': 4594, 'shatter': 4595, 'bricks': 4596, 'roster': 4597, 'flocked': 4598, 'potency': 4599, 'cori': 4600, 'bush': 4601, 'leftists': 4602, 'openly': 4603, 'conservatives': 4604, 'been…': 4605, 'commandments': 4606, 'bible': 4607, '7th': 4608, 'stories': 4609, 'pollster': 4610, 'pudding': 4611, \"'don't\": 4612, 'sa…': 4613, 'sewage': 4614, 'blighted': 4615, 'rivers': 4616, 'beaches': 4617, 'kick': 4618, 'stinkafter': 4619, 'faintly': 4620, 'rained': 4621, 'torrentially': 4622, 'beg…': 4623, 'klepper': 4624, 'trevor': 4625, 'noah’s': 4626, 'control—“but': 4627, '”in': 4628, 'alone': 4629, 'pregame': 4630, 'challengers': 4631, 'amy': 4632, 'coney': 4633, 'barrett': 4634, 'ignoring': 4635, \"year's\": 4636, 'elizabeth': 4637, 'brockway': 4638, 'opinions': 4639, 'digest': 4640, 'softwa…': 4641, 'grrrl': 4642, 'lizzo': 4643, '2our': 4644, 'knoxville': 4645, 'proceeded': 4646, 'thumb': 4647, 'nose': 4648, 'grammy': 4649, 'raise': 4650, 'segregation': 4651, 'feeling': 4652, 'racismbefore': 4653, 'ruby': 4654, 'premiere': 4655, 'martin': 4656, 'luther': 4657, 'taped': 4658, 'ad…': 4659, 'stoves': 4660, 'sleeping': 4661, 'mats': 4662, 'tents': 4663, 'supplies': 4664, 'episodes': 4665, 'succession': 4666, 'workday': 4667, 'viewers': 4668, 'spoiled': 4669, 'lifestyle': 4670, 'flatmate': 4671, 'sussex': 4672, 'residency': 4673, \"canada's\": 4674, 'derelict': 4675, 'infested': 4676, 'rodents': 4677, 'quality': 4678, 'adjusted': 4679, 'birds’': 4680, 'habitats': 4681, 'dwindle': 4682, 'rakesh': 4683, 'khatri': 4684, 'nests': 4685, 'teach': 4686, 'sameat': 4687, 'optimistically': 4688, 'gaggle': 4689, 'entranced': 4690, 'intently': 4691, 'erie': 4692, 'belonging': 4693, 'customize': 4694, '1862': 4695, 'ambivalenton': 4696, 'paper’s': 4697, 'ambas…': 4698, 'infamous': 4699, '‘imprisonment': 4700, 'protection’': 4701, 'sentencenearly': 4702, 'kenneth': 4703, 'clarke': 4704, '4’s': 4705, 'programme': 4706, '“absurd”': 4707, 'cu…': 4708, 'conserve': 4709, 'seas': 4710, 'bbnj': 4711, 'affordability': 4712, 'shrinks': 4713, 'mortgages': 4714, 'perks': 4715, 'pricey': 4716, 'refusal': 4717, 'punishment': 4718, 'ignores': 4719, 'doesmost': 4720, 'wouldn’t': 4721, 'shout': 4722, 'way”': 4723, '“that': 4724, 'indulgent”': 4725, 'accustomed': 4726, 'communicate': 4727, 'examples': 4728, 'allstate': 4729, 'outlaw': 4730, 'feeding': 4731, 'provide': 4732, 'terrorists': 4733, 'teetering': 4734, 'blink': 4735, 'doorbells': 4736, \"who've\": 4737, 'checking': 4738, 'deals': 4739, 'gadgets': 4740, 'fortune': 4741, 'siberia': 4742, 'stamford': 4743, 'bridgeas': 4744, 'roman': 4745, 'abramovich': 4746, 'appearances': 4747, 'licensed': 4748, 'agent': 4749, 'quotes': 4750, 'comparison': 4751, 'conservationists': 4752, 'brazilian': 4753, 'deforestation': 4754, 'gamechanger': 4755, 'loggingit': 4756, 'forest': 4757, 'triunfo': 4758, 'xingu': 4759, 'equivalent': 4760, 'parliamentarians': 4761, 'owneralmost': 4762, 'mps': 4763, 'peers': 4764, 'ashley’s': 4765, 'frasers': 4766, 'tycoon’s': 4767, 'portfolio': 4768, 'fraser': 4769, 'con…': 4770, 'watchful': 4771, 'eye': 4772, \"home's\": 4773, 'exterior': 4774, 'tasteless': 4775, 'entertainment': 4776, 'wimbledon': 4777, 'boris': 4778, 'becker': 4779, 'ipad': 4780, 'lightweight': 4781, 'versatile': 4782, 'yours': 4783, 'owns': 4784, 'buybuy': 4785, 'shoppers': 4786, 'ineffective': 4787, 'mistimed': 4788, 'exhausted': 4789, 'lifelines': 4790, 'deployment': 4791, 'sev…': 4792, 'sellers': 4793, 'overdue': 4794, 'coercive': 4795, 'blaze': 4796, 'plastics': 4797, 'fizzles': 4798, 'cvv': 4799, 'layer': 4800, 'embattled': 4801, 'june': 4802, 'murdered': 4803, 'disappeared': 4804, 'jailed': 4805, 'attacksa': 4806, 'reeling': 4807, 'happier': 4808, 'stays': 4809, 'balmoral': 4810, 'joke': 4811, 'accompany': 4812, 'majesty': 4813, 'discount': 4814, 'autel': 4815, 'ev': 4816, 'charger': 4817, 'extension': 4818, 'informed': 4819, 'architect': 4820, 'barragán': 4821, '1930s': 4822, 'suburbs': 4823, 'architecture': 4824, 'practice': 4825, 'mcdonnell': 4826, 'appropriately': 4827, 'stillorgan': 4828, 'cour…': 4829, \"glanceexpert's\": 4830, 'rating': 4831, 'pros': 4832, 'manages': 4833, 'login': 4834, 'credentials': 4835, 'blocks': 4836, 'subscription': 4837, 'unlock': 4838, 'rents': 4839, 'cooling': 4840, 'rent': 4841, 'apartment': 4842, 'concedes': 4843, 'substantiate': 4844, 'assertion': 4845, 'migrantsthe': 4846, 'justifications': 4847, 'crossings': 4848, 'thirteen': 4849, 'shed': 4850, '‘scorched': 4851, 'earth’': 4852, 'tacticsafter': 4853, 'chemotherapy': 4854, 'samuel': 4855, 'castleberry': 4856, 'he’d': 4857, 'trucking': 4858, 'decent': 4859, 'categories': 4860, 'indian': 4861, \"india's\": 4862, 'insurgency': 4863, \"lemonade's\": 4864, 'quoting': 4865, 'therapist': 4866, 'compassion': 4867, 'fatherthe': 4868, 'dilemma': 4869, 'runner': 4870, 'watches': 4871, 'certified': 4872, 'engadget': 4873, 'wireless': 4874, 'workout': 4875, 'raised': 4876, 'reaching': 4877, 'involves': 4878, 'africa': 4879, 'erica': 4880, 'aaron': 4881, 'parker': 4882, 'loveland': 4883, 'appraised': 4884, 'renovations': 4885, 'price': 4886, \"family's\": 4887, 'richmond': 4888, 'evacuated': 4889, 'crews': 4890, 'monitor': 4891, 'chemicals': 4892, 'collect': 4893, 'harmful': 4894, 'debris': 4895, 'resolve': 4896, 'proposals': 4897, 'overhaul': 4898, 'asylum': 4899, 'voting…': 4900, \"bluetti's\": 4901, 'ep900': 4902, 'backup': 4903, 'unused': 4904, 'electricity': 4905, 'grid': 4906, 'accessories': 4907, 'newborn’s': 4908, 'illustrates': 4909, 'treatment': 4910, 'childcare': 4911, 'decisionslast': 4912, 'temecia': 4913, 'recalled': 4914, '“sto…': 4915, 'lawdominic': 4916, 'evil': 4917, 'propagated': 4918, 'hotels': 4919, 'nights': 4920, 'platinum': 4921, 'spaceslast': 4922, 'julio': 4923, 'ramirez': 4924, 'worker': 4925, 'ritz': 4926, 'lounge': 4927, 'nautical': 4928, 'gay': 4929, 'dance': 4930, 'hell’s': 4931, 'tw…': 4932, 'sri': 4933, 'lanka': 4934, 'unable': 4935, 'crises': 4936, 'crippling': 4937, 'debtlow': 4938, 'sacrifice': 4939, 'singh': 4940, 'surrendered': 4941, 'moga': 4942, 'calmindian': 4943, 'affluent': 4944, 'westfield': 4945, 'lincolnshire': 4946, '‘illogical’': 4947, 'banksy': 4948, 'helping': 4949, 'outthe': 4950, 'vast': 4951, 'sands': 4952, 'cleethorpes': 4953, 'stretch': 4954, 'tide': 4955, 'kinds': 4956, 'hid…': 4957, 'sparsely': 4958, 'staffed': 4959, 'costly': 4960, 'journeysthousands': 4961, 'fierce': 4962, 'battles': 4963, 'sudan’s': 4964, 'borders': 4965, 'enter': 4966, 'eg…': 4967, 'dobbs': 4968, 'overturned': 4969, 'formsamuel': 4970, 'alito': 4971, '“targets': 4972, 'firm': 4973, 'immigration': 4974, 'stancepope': 4975, 'hungarians': 4976, 'welcoming': 4977, 'refugees': 4978, 'begged': 4979, 'count…': 4980, 'ftc': 4981, 'updating': 4982, 'disclose': 4983, 'biodiversity': 4984, 'connected': 4985, 'behavioral': 4986, 'impacts': 4987, 'monitors': 4988, 'nanny': 4989, 'cams': 4990, 'supervision': 4991, 'classified': 4992, 'rooms': 4993, 'worked': 4994, 'og': 4995, 'anonymous': 4996, 'teenager…': 4997, 'norwegian': 4998, 'refugee': 4999, 'forcing': 5000, 'tens': 5001, 'flee': 5002, 'discounts': 5003, 'reusable': 5004, 'bottles': 5005, 'helmets': 5006, 'galore': 5007, 'geico': 5008, 'partners': 5009, 'pet': 5010, 'cheap': 5011, 'premiums': 5012, 'essentials': 5013, 'drivers': 5014, 'closures': 5015, 'meridian': 5016, 'burger': 5017, 'restaurants': 5018, 'pixel': 5019, 'equipping': 5020, 'reliable': 5021, 'worthwhile': 5022, 'investment': 5023, 'veronika’s': 5024, 'stunned': 5025, 'missiles': 5026, 'veronika': 5027, 'left…': 5028, 'replaces': 5029, 'barclays': 5030, 'visa': 5031, 'modest': 5032, 'pure': 5033, 'entitlementthe': 5034, 'silliest': 5035, 'microsoft': 5036, 'whine': 5037, '“not': 5038, 'unelected': 5039, 'u…': 5040, '39': 5041, 'amber': 5042, 'usage': 5043, 'meter': 5044, 'inspector': 5045, 'emboldening': 5046, 'ethnic': 5047, 'groupsin': 5048, 'spectator': 5049, 'highlighting': 5050, 'pakistani': 5051, '“string': 5052, 'cases”': 5053, 'tale': 5054, 'phantoms': 5055, 'lighting': 5056, 'chill': 5057, 'bonesoccasionally': 5058, 'plot': 5059, 'ghost': 5060, 'villain': 5061, 'enjoyably': 5062, 'ni…': 5063, 'melissa': 5064, 'heikkilä': 5065, 'trained': 5066, 'stakes': 5067, 'conducting': 5068, 'probes\\xa0': 5069, 'prote…': 5070, 'buildings': 5071, 'phase': 5072, '2025': 5073, 'stove': 5074, 'hemsby': 5075, 'helpon': 5076, 'grey': 5077, 'bitterly': 5078, 'yellow': 5079, 'digger': 5080, 'smashing': 5081, 'bucket': 5082, 'bungalow': 5083, 'dunes': 5084, 'soil': 5085, 'nurture': 5086, 'showthe': 5087, 'horticultural': 5088, 'rhs': 5089, 'establishing': 5090, 'schoolteachers': 5091, 'worrisome': 5092, 'socially': 5093, 'alarming': 5094, 'gva': 5095, 'reportsthat': 5096, '305': 5097, '567': 5098, 'injure…': 5099, 'variety': 5100, 'existence—the': 5101, 'p320—and': 5102, 'results': 5103, 'discharges': 5104, 'bpd': 5105, 'responding': 5106, 'peaking': 5107, 'gunshot': 5108, 'indy\\xa0\\xa0fox': 5109, \"indy's\": 5110, 'side\\xa0\\xa0wrtv': 5111, 'shootings\\xa0\\xa0fox': 5112, 'halfway': 5113, 'shipping': 5114, 'converted': 5115, 'cramped': 5116, 'indoor': 5117, 'pistols': 5118, 'defect': 5119, '43605747': 5120, 'thus': 5121, 'futile': 5122, 'wedded': 5123, 'controls': 5124, 'backgr…': 5125, 'classroom': 5126, 'probation': 5127, 'tatanina': 5128, 'kelly': 5129, '29': 5130, 'pleading': 5131, 'endangerment': 5132, 'personalised': 5133, 'fires': 5134, '9th': 5135, 'drudge': 5136, 'feed': 5137, 'patron': 5138, 'smar…': 5139, 'valedictory': 5140, 'remembered': 5141, 'outstanding': 5142, 'unfolded': 5143, 'bloody': 5144, 'milestone': 5145, 'sidearm': 5146, 'milit…': 5147, '\\xa0\\xa0\\xa0\\xa0\\xa0\\xa0\\xa0\\xa0\\xa0\\xa0\\xa0': 5148, 'philippines': 5149, 'chest': 5150, 'richneck': 5151, 'placed': 5152, 'significantly': 5153, 'curb': 5154, 'advantages': 5155, 'dramatically': 5156, 'hampshire': 5157, 'manufacturer’s': 5158, 'nation’s': 5159, 'sold': 5160, 'malfunctions': 5161, 'perceived': 5162, 'beings': 5163, 'adult': 5164, 'caregiver': 5165, 'survive': 5166, 'blamed': 5167, 'resulting': 5168, 'probe': 5169, 'percent': 5170, 'precautions': 5171, 'accordin…': 5172, 'nova': 5173, 'scotia': 5174, 'validated': 5175, 'bec…': 5176, 'exceeds': 5177, 'countr…': 5178, 'golden': 5179, 'unloaded': 5180, 'locked': 5181, '2010': 5182, 'leased': 5183, 'bp': 5184, 'manufacturers': 5185, 'shielded': 5186, 'dudes': 5187, 'properties': 5188, 'audacity': 5189, 'conn': 5190, 'congress’': 5191, 'tweeted': 5192, 'statistic': 5193, 'loose': 5194, 'not…': 5195, 'tim': 5196, 'burchett': 5197, 'tenn': 5198, '“if': 5199, 'pr…': 5200, \"teenager's\": 5201, 'broomfield': 5202, 'reader': 5203, 'grabs': 5204, 'render': 5205, 'useless': 5206, 'affecting': 5207, 'administering': 5208, 'applying': 5209, 'pressure': 5210, 'regulating': 5211, 'institutions’': 5212, 'administr…': 5213, '“smart': 5214, 'guns”': 5215, 'gateway': 5216, 'pundit': 5217, 'alarm': 5218, 'sounding': 5219, 'departments': 5220, 'washington—but': 5221, 'rely': 5222, 'rescue': 5223, '43605741': 5224, 'costa': 5225, 'rica': 5226, 'soars\\xa0\\xa0reuters': 5227, 'committed': 5228, 'fiercely': 5229, 'nso': 5230, '“zero': 5231, 'click”': 5232, 'exploit…': 5233, '2006': 5234, 'fantasy': 5235, 'adventure': 5236, 'ferencz': 5237, 'nuremberg': 5238, '103': 5239, 'blasted': 5240, \"'soft\": 5241, \"crime'\": 5242, 'adjournment': 5243, 'ny': 5244, \"republicans'\": 5245, 'grill': 5246, 'pomerantz': 5247, 'shanquella': 5248, 'robinson': 5249, \"attorneys'\": 5250, 'offices': 5251, 'journalist': 5252, 'vladlen': 5253, 'tatarsky': 5254, 'demands': 5255, 'commentators': 5256, 'penalty': 5257, 'merciless': 5258, 'dissent': 5259, 'treason': 5260, 'charg…': 5261, 'christopher': 5262, 'ryley': 5263, 'joked': 5264, 'lynchings': 5265, 'imagespolice': 5266, 'golliwogs': 5267, 'examine': 5268, 'pub…': 5269, 'r–oh': 5270, 'cared': 5271, 'gym': 5272, \"manhattan's\": 5273, 'mansfield': 5274, 'represents': 5275, '—…': 5276, 'sunak’s': 5277, 'criminalskeir': 5278, 'starmer’s': 5279, 'opponents': 5280, 'nickname': 5281, 'sticks': 5282, '“captain': 5283, 'hindsight”': 5284, 'taskforce': 5285, '‘dog': 5286, 'whistle’': 5287, 'rhetoric': 5288, 'exploitationrishi': 5289, '“political': 5290, 'correctness”': 5291, 'get…': 5292, 'untreated': 5293, \"'prolific\": 5294, \"offenders'\": 5295, 'canadians': 5296, \"lee's\": 5297, 'ignited': 5298, 'criticism': 5299, 'policing': 5300, 'dramatised': 5301, 'heavenly': 5302, 'thrillersa': 5303, 'bludgeon': 5304, 'inspiration': 5305, 'peter': 5306, 'jackson’…': 5307, 'undertones': 5308, 'scupper': 5309, '‘fresh': 5310, 'start’the': 5311, 'labour’s': 5312, 'suggesting': 5313, 'jailing': 5314, 'domi…': 5315, 'combatting': 5316, 'grave': 5317, 'becomes': 5318, 'disguise': 5319, 'hush': 5320, 'but…': 5321, 'untested': 5322, 'presidentprosecutors': 5323, 'attorney’s': 5324, 'escalate': 5325, 'tru…': 5326, 'criticizing': 5327, 'fines': 5328, 'represent': 5329, 'disenfranchise': 5330, 'salem': 5331, 'ripper': 5332, \"humanity's\": 5333, 'historic': 5334, 'fascination': 5335, 'ethical': 5336, 'consume': 5337, 'lindsey': 5338, 'sherrill': 5339, 'ques…': 5340, 'relocated': 5341, 'anymore': 5342, 'jake': 5343, 'shields': 5344, 'freed': 5345, 'payoffs': 5346, 'obvious': 5347, 'comparisons': 5348, 'straightforward': 5349, 'cybercriminals': 5350, 'gootloader': 5351, 'malware': 5352, 'clever': 5353, 'mechanisms': 5354, '‘confident’': 5355, 'pledge': 5356, 'walesrishi': 5357, 'successfully': 5358, 'recruited': 5359, 'simi…': 5360, 'laser': 5361, 'blind': 5362, 'pilots': 5363, 'endanger': 5364, 'commercial': 5365, 'passengers': 5366, '600lb': 5367, '630kg': 5368, 'billie': 5369, 'davis': 5370, 'bloomington': 5371, \"victim's\": 5372, 'statistics': 5373, 'unsealed': 5374, 'amazing': 5375, 'ingenuity': 5376, 'tries': 5377, 'crave': 5378, 'pastry': 5379, '3am': 5380, 'extending': 5381, 'greggs’': 5382, 'problemsname': 5383, 'rolls': 5384, 'ancient': 5385, 'rome': 5386, 'cont…': 5387, 'clardy': 5388, 'recorded': 5389, 'people–a': 5390, 'gazette': 5391, 'newspaperman': 5392, 'bruce': 5393, 'willingham': 5394, 'tape': 5395, 'commi…': 5396, \"victims'\": 5397, 'sentencing': 5398, 'meaningless': 5399, 'unacceptable': 5400, 'xu': 5401, 'symbolises': 5402, 'china’s': 5403, 'fated': 5404, 'movementxu': 5405, '“beautiful': 5406, 'rebuffs': 5407, '‘catching': 5408, 'criminals’': 5409, 'hart': 5410, 'inn': 5411, 'graysessex': 5412, 'rebuked': 5413, 'producing': 5414, 'airtight': 5415, 'accurate': 5416, 'chatgpt’s': 5417, 'ends—outright': 5418, 'lying': 5419, 'generating': 5420, 'fluid': 5421, 'text': 5422, 'tasks': 5423, 'swedish': 5424, 'detains': 5425, 'terrorist': 5426, 'ample': 5427, 'impeached': 5428, 'arresting': 5429, 'persecution': 5430, 'brooke': 5431, 'jenkins': 5432, 'tweet': 5433, 'reckless': 5434, 'unveil': 5435, 'friday\\xa0\\xa0global': 5436, 'municipal': 5437, 'bc': 5438, 'an…': 5439, 'icc': 5440, 'mo—pulling': 5441, 'aside': 5442, 'unsolicited': 5443, 'uncle': 5444, 'mitch': 5445, 'fulton': 5446, 'qualified': 5447, 'sip': 5448, 'beer': 5449, 'airtag': 5450, 'confirm': 5451, 'quo': 5452, 'clearview': 5453, 'predpol': 5454, 'shotspotter': 5455, 'carolyn': 5456, \"donham's\": 5457, 'veneer': 5458, 'validity': 5459, 'shiny': 5460, 'custom': 5461, 'wilmslow': 5462, 'dry': 5463, 'upwhen': 5464, 'nadia': 5465, 'curry': 5466, '1990s': 5467, 'trave…': 5468, 'loves': 5469, 'paint': 5470, 'ridden': 5471, \"'hellhole\": 5472, 'celebration': 5473, 'reminder': 5474, 'hawaiian': 5475, 'restitution': 5476, 'encrypt': 5477, 'childrenan': 5478, 'agencies': 5479, 'interpol': 5480, 'meta…': 5481, '1996': 5482, 'maintained': 5483, 'innocencea': 5484, 'confession': 5485, 'levi': 5486, 'bellfield': 5487, 'scammer': 5488, 'parallel': 5489, 'root': 5490, 'feckless': 5491, 'lovers': 5492, 'thumbing': 5493, 'noses': 5494, 'therapy': 5495, 'trouble': 5496, 'portrayed': 5497, 'hedonistic': 5498, 'funthis': 5499, 'unamusing': 5500, 'framing': 5501, 'addict': 5502, 'george': 5503, 'web…': 5504, \"'tania\": 5505, \"head'\": 5506, 'eventually': 5507, 'poster': 5508, 'jurisdictions': 5509, 'reduced': 5510, 'clay': 5511, 'convictions': 5512, 'familylabour’s': 5513, 'refused': 5514, 'endorse': 5515, 'drawi…': 5516, 'ridership': 5517, 'overdoses': 5518, 'legendarily': 5519, 'vain': 5520, 'plutocrat': 5521, 'surrendering': 5522, 'mona': 5523, 'lisa': 5524, 'louvre': 5525, 'popped': 5526, 'rochester': 5527, 'bag': 5528, 'weed': 5529, 'your…': 5530, 'toronto': 5531, 'say\\xa0\\xa0reuters': 5532, 'elect': 5533, 'emerges': 5534, 'issue\\xa0\\xa0reuters': 5535, 'nations': 5536, 'kidnappings': 5537, 'impoverished': 5538, 'goods': 5539, 'jewelry': 5540, 'organized': 5541, 'federation': 5542, 'terrance': 5543, 'felipe': 5544, 'santos': 5545, 'collier': 5546, 'calkins': 5547, 'neither': 5548, 'leader’s': 5549, 'instructive': 5550, 'itfiona': 5551, 'ivison': 5552, 'strangled': 5553, 'battered': 5554, 'freezing': 5555, 'car…': 5556, 'soldier': 5557, 'pleads': 5558, \"'partly\": 5559, \"guilty'\": 5560, 'trial\\xa0\\xa0reuters': 5561, 'puba': 5562, 'rekindled': 5563, 'rank': 5564, 'file': 5565, 'seem': 5566, 'undeterred': 5567, 'disturbance': 5568, '56pm': 5569, 'thur…': 5570, 'supermarkets': 5571, 'deteriorating': 5572, 'conditions': 5573, 'nearby': 5574, 'docuseries': 5575, 'swatting': 5576, 'pinned': 5577, 'telegram': 5578, 'explosives': 5579, 'digitally': 5580, 'synthesized': 5581, 'quantity': 5582, 'gravity': 5583, 'ultimately': 5584, 'bury': 5585, 'chancesit': 5586, 'mugged': 5587, 'dodging': 5588, 'dri…': 5589, 'executive’s': 5590, 'shouldn’t': 5591, 'punitive': 5592, 'ramp': 5593, 'incarcerationthis': 5594, 'harold': 5595, '“crazy': 5596, 'bob”': 5597, 'pavement': 5598, 'wee': 5599, 'cafe': 5600, 'petersburg': 5601, 'blinken': 5602, 'rep…': 5603, 'changing': 5604, 'attitudes': 5605, '‘cruel’': 5606, 'rhino': 5607, 'horns': 5608, 'pangolins': 5609, 'ivorywhen': 5610, 'uganda': 5611, 'scare': 5612, 'monkey': 5613, 'honduras': 5614, 'deploys': 5615, 'crime\\xa0\\xa0reuters': 5616, 'foraging': 5617, 'mouse': 5618, 'eared': 5619, 'bats': 5620, 'easily': 5621, 'flying': 5622, 'failure': 5623, 'earned': 5624, 'eats': 5625, 'doordash': 5626, 'essentially': 5627, 'submarine': 5628, 'detectorists': 5629, 'travelogue': 5630, 'winningly': 5631, 'excitable': 5632, 'ditching': 5633, 'ganglands': 5634, 'trawl': 5635, 'mary': 5636, 'rosetwelve': 5637, 'metres': 5638, 'beneath': 5639, 'solent': 5640, 'ross': 5641, '“mallory': 5642, 'yells': 5643, 'haas…': 5644, 'offal': 5645, 'mercury': 5646, 'shifting': 5647, 'ephemeral': 5648, 'thousand': 5649, 'jihan': 5650, 'zencirli': 5651, 'geronimo': 5652, '“as': 5653, 'chien': 5654, '189': 5655, 'closes': 5656, 'birdies': 5657, 'sit': 5658, 'nelly': 5659, 'birdied': 5660, 'climb': 5661, 'fifteen': 5662, 'invaded': 5663, 'civilian': 5664, 'peoples': 5665, 'indige…': 5666, 'zealdand': 5667, 'canterbury': 5668, 'competition\\xa0unveiled': 5669, 'encouraged': 5670, '250': 5671, 'prospective': 5672, 'entrant…': 5673, 'ovens’s': 5674, 'outdoor': 5675, 'videos': 5676, 'centred': 5677, 'alberta’s': 5678, 'banff': 5679, 'parka': 5680, 'canadian': 5681, 'youtuber': 5682, 'illegally': 5683, 'telescope': 5684, 'atop': 5685, 'falcon': 5686, 'penchant': 5687, 'traded': 5688, 'bounce': 5689, 'massive': 5690, 'legend': 5691, 'zelda': 5692, 'nintendo': 5693, 'forgotten': 5694, 'subpoena': 5695, 'discord': 5696, 'mysteries': 5697, 'honjo': 5698, 'visual': 5699, 'ties': 5700, 'folktales': 5701, 'spirits': 5702, 'curses': 5703, 'ukiyoe': 5704, 'prints': 5705, 'you’ll': 5706, 'hop': 5707, 'protagonists': 5708, 'who’s': 5709, 'magical': 5710, 'trinkets': 5711, 'who’…': 5712, 'comedian': 5713, 'windsors': 5714, 'wfh': 5715, 'cafes': 5716, 'baking': 5717, 'muffins': 5718, 'doc': 5719, 'shuttles': 5720, 'yoga': 5721, 'empty': 5722, 'beancounters': 5723, 'satisfy': 5724, 'expense': 5725, 'reductions': 5726, 'sweat': 5727, 'noting…': 5728, 'cassette': 5729, 'beasts': 5730, 'catching': 5731, 'affleck’s': 5732, 'buzzy': 5733, 'nike': 5734, 'transformed': 5735, 'star“i': 5736, 'didn’t': 5737, 'recalls': 5738, 'sonny': 5739, 'vaccaro': 5740, 'had…': 5741, 'reg': 5742, \"cisco's\": 5743, 'dedicated': 5744, 'unit': 5745, 'people…': 5746, 'jonathan': 5747, 'keeper': 5748, 'armouries': 5749, 'breaks': 5750, 'weaponry': 5751, 'joel': 5752, 'ellie’s': 5753, 'makeshift': 5754, 'flamethrower': 5755, 'cyber': 5756, 'command’s': 5757, 'disruption': 5758, 'hacking': 5759, 'exposé': 5760, 'bargain': 5761, 'purchase': 5762, 'nippon': 5763, 'airways': 5764, 'ana': 5765, 'astonishingly': 5766, 'procure': 5767, 'stand…': 5768, 'troubles': 5769, 'paramilitaries': 5770, 'intimidate': 5771, 'killthe': 5772, 'warp': 5773, 'masked': 5774, 'camouflage': 5775, 'centres': 5776, 'youths': 5777, 'gather': 5778, 'petrol': 5779, 'bombs': 5780, 'hur…': 5781, 'shepherd': 5782, 'visiting': 5783, 'relatives': 5784, 'except': 5785, 'swollen': 5786, 'bite': 5787, 'seal': 5788, 'earliest': 5789, 'incarnation': 5790, '1965—a': 5791, 'computers': 5792, 'elephants': 5793, 'nerds': 5794, 'them—and': 5795, 'recognize': 5796, 'desjardins': 5797, 'acquisitions\\xa0\\xa0reuters': 5798, \"nasa's\": 5799, 'transiting': 5800, 'satellite': 5801, 'tess': 5802, 'fifth': 5803, 'scanning': 5804, 'organ': 5805, 'vocalist': 5806, 'mcmillan': 5807, 'sonic': 5808, 'collaborators': 5809, 'stefano': 5810, 'amoretti': 5811, 'wright': 5812, '“figurehead': 5813, 'lush': 5814, 'folk': 5815, 'composed': 5816, 'pools': 5817, 'uplifting': 5818, 'emotion': 5819, 'distills': 5820, 'hunts': 5821, '75': 5822, 'fights': 5823, 'newly': 5824, 'warm': 5825, 'jupiter': 5826, 'snuggle': 5827, 'matchmaker': 5828, 'identifying': 5829, 'tree': 5830, 'limb': 5831, 'lifted': 5832, 'clearly': 5833, 'sponsor': 5834, 'editorial': 5835, 'nor': 5836, 'necessarily': 5837, 'tl': 5838, 'dr': 5839, '\\xa0a': 5840, 'pack\\xa0dollar': 5841, 'subscription\\xa0is': 5842, '149': 5843, '99': 5844, 'nec…': 5845, 'portugal': 5846, 'pigeons': 5847, 'cariuma': 5848, 'peanuts': 5849, 'trophy': 5850, 'addictive': 5851, 'pastime': 5852, 'brighton': 5853, 'continued': 5854, 'qualification': 5855, 'bournemouth': 5856, 'quiet': 5857, 'icon': 5858, 'contemporary': 5859, 'willed': 5860, 'era’s': 5861, 'clark': 5862, 'gable': 5863, '“never': 5864, 'dull': 5865, 'investor': 5866, 'wood': 5867, 'favorite': 5868, 'positions': 5869, 'anders': 5870, 'besseberg': 5871, 'norway': 5872, 'biathlon’s': 5873, 'governing': 5874, '“gross': 5875, 'corruption”': 5876, 'bribe…': 5877, \"can't\": 5878, 'nazi': 5879, 'memorabilia': 5880, 'attended': 5881, \"crow's\": 5882, 'washingtonian': 5883, 'wang': 5884, 'moujin': 5885, 'drowned': 5886, 'dino': 5887, \"game's\": 5888, 'beta': 5889, 'pvp': 5890, 'thankfully': 5891, 'pve': 5892, 'modes': 5893, 'pikmin': 5894, 'bloom': 5895, 'coupling': 5896, 'color': 5897, 'alcova': 5898, 'reimagine': 5899, 'humble': 5900, 'chair': 5901, 'materials': 5902, 'infusing': 5903, 'item': 5904, 'interior': 5905, 'architect…': 5906, 'glamour': 5907, 'hailey': 5908, 'bieber': 5909, 'bomber': 5910, 'occasionsspring': 5911, 'excellent': 5912, 'lilac': 5913, 'wisteria': 5914, 'chocolate': 5915, 'holiday': 5916, 'mondays': 5917, 'respite': 5918, 'book…': 5919, 'dlc': 5920, 'apocalyptic': 5921, 'dinosaur': 5922, 'forbidden': 5923, 'lesbian': 5924, 'gamers': 5925, 'nev…': 5926, 'breakthrough': 5927, 'indirect': 5928, 'planetary': 5929, 'locate': 5930, 'distant': 5931, 'hip': 5932, '9…': 5933, 'ice': 5934, 'melts': 5935, 'apex': 5936, 'predators': 5937, 'junkyards': 5938, 'snack': 5939, 'towns': 5940, 'biologist…': 5941, 'slicker': 5942, 'wholesome': 5943, 'wellrobert': 5944, 'machoian': 5945, 'masculinity': 5946, 'lyric': 5947, 'hammersmith': 5948, 'southwark': 5949, 'playhouse': 5950, 'londoncomplicité’s': 5951, 'masterly': 5952, 'tokarczuk’s': 5953, 'unforgettable': 5954, 'rigby': 5955, 'fo’s': 5956, 'timely': 5957, 'classic': 5958, 'silvio': 5959, 'berlusconi': 5960, 'dire': 5961, 'tunesa': 5962, '60…': 5963, 'plight': 5964, 'hakki': 5965, 'pikki': 5966, 'tribe': 5967, 'detected': 5968, 'imaged': 5969, 'orbiting': 5970, 'combining': 5971, 'techniques': 5972, 'exoplanets': 5973, 'lasting': 5974, 'symptoms': 5975, 'infection': 5976, 'phoenix': 5977, \"labs'\": 5978, 'dauntless': 5979, 'surprised': 5980, 'fae': 5981, 'crocodile': 5982, 'croczilla': 5983, 'everglades': 5984, 'patience': 5985, 'gigantic': 5986, 'creature': 5987, 'pond': 5988, 'dolphins': 5989, 'salemarine': 5990, '“toxic”': 5991, 'solve': 5992, 'stuck': 5993, 'hints': 5994, 'streak': 5995, 'alive': 5996, 'aids': 5997, 'professionals': 5998, \"uk's\": 5999, 'plc': 6000, 'q1': 6001, 'core': 6002, 'expectations\\xa0\\xa0reuters': 6003, 'gig': 6004, 'boards': 6005, \"crowdstrike's\": 6006, 'cybersecurity': 6007, 'specialists': 6008, 'influencing': 6009, 'football’s': 6010, 'pyramidlet’s': 6011, 'honest': 6012, 'paolo': 6013, 'di': 6014, 'canio': 6015, 'alcock': 6016, 'backpedalling': 6017, 'd’urso': 6018, 'aleksa…': 6019, \"'good\": 6020, \"hunting'\": 6021, \"'air'\": 6022, \"ea's\": 6023, 'karakuri': 6024, 'xbox': 6025, 'jeep': 6026, 'cherokee': 6027, 'imdb': 6028, 'stock': 6029, 'stepping': 6030, 'statushere': 6031, 'equity’s': 6032, 'predicted': 6033, 'ranks': 6034, 'dechra': 6035, 'pharmaceuticals': 6036, 'veterinary': 6037, 'medicin…': 6038, 'discussing': 6039, 'word': 6040, 'zinged': 6041, 'tad': 6042, 'she’s': 6043, 'conventional': 6044, 'wisdom': 6045, 'wrongbeing': 6046, '900': 6047, 'manitoba': 6048, 'learned': 6049, 'tourists': 6050, 'themwords': 6051, 'photographs': 6052, 'zed': 6053, 'nelsonperched': 6054, 'leinster': 6055, 'ringrose': 6056, '74': 6057, 'happiest': 6058, 'organisations': 6059, 'pets': 6060, '‘prolonged’': 6061, 'deathsa': 6062, 'uproar': 6063, 'misguided': 6064, 'introduction': 6065, 'predator': 6066, 'partula': 6067, 'snails': 6068, 'driven': 6069, 'habitat': 6070, 'zoos': 6071, 'reared': 6072, 'populationswhen': 6073, 'polynesia': 6074, 'overrun': 6075, 'invasive': 6076, 'predatory': 6077, 'rosy': 6078, 'wolf': 6079, 'scoop': 6080, 'solitary': 6081, 'screen': 6082, 'mustard': 6083, 'asus': 6084, 'rog': 6085, 'zephyrus': 6086, 'displays': 6087, 'stardom': 6088, 'creation': 6089, 'jordans': 6090, 'genre': 6091, 'biopic': 6092, 'underlying': 6093, 'developing': 6094, 'augmented': 6095, 'ios': 6096, 'teamed': 6097, 'rpg': 6098, 'estimated': 6099, \"world's\": 6100, 'tigers': 6101, 'appealing': 6102, 'papia': 6103, 'trentino': 6104, 'jogging': 6105, 'pa…': 6106, 'regulators': 6107, 'fishery': 6108, 'canceled': 6109, 'owed': 6110, 'impeccable': 6111, 'timing': 6112, 'erling': 6113, 'spirited': 6114, 'woul…': 6115, 'ea’s': 6116, '6th': 6117, 'abilities': 6118, 'bette…': 6119, 'iberian': 6120, 'lynx': 6121, 'chilean': 6122, 'devil': 6123, 'ray': 6124, 'mountain': 6125, 'gorilla': 6126, 'stunning': 6127, 'photographers': 6128, 'photography': 6129, 'endangered': 6130, 'contributor…': 6131, 'statue': 6132, 'sculpture': 6133, 'mocks': 6134, 'presumed': 6135, 'extinct': 6136, 'waite': 6137, 'mod': 6138, 'tights': 6139, 'medicine': 6140, 'syringe': 6141, 'plastic': 6142, 'cupsas': 6143, 'waite’s': 6144, 'pooter': 6145, 'prefecture': 6146, 'huntersjapan': 6147, 'eclectic': 6148, 'pool': 6149, 'unlikely': 6150, 'mac…': 6151, \"italy's\": 6152, 'parents\\xa0\\xa0reuters': 6153, 'themselves—but': 6154, 'dinning': 6155, 'kestrels': 6156, 'cornwall': 6157, 'raptors': 6158, 'hovering': 6159, 'wind': 6160, 'button': 6161, 'heels': 6162, 'whaling': 6163, 'stocking': 6164, 'whale': 6165, 'snacks': 6166, 'resta…': 6167, 'storms': 6168, 'curtailed': 6169, 'darkness': 6170, 'korea’s': 6171, 'lim': 6172, 'leaderboa…': 6173, 'platypus': 6174, 'environment': 6175, 'commuters': 6176, 'superstudio': 6177, 'più': 6178, 'immersive': 6179, 'suspends': 6180, 'prototypes': 6181, 'lexus': 6182, 'amidst': 6183, 'anticipation': 6184, 'aswirl': 6185, 'showcases': 6186, 'exhibitions': 6187, 'installations': 6188, 'per…': 6189, 'worse': 6190, 'squandering': 6191, 'enemies': 6192, 'oscar': 6193, 'brock': 6194, 'housethe': 6195, 'dominated': 6196, 'demonstration': 6197, 'gu…': 6198, 'oust': 6199, 'backfired': 6200, 'spectacularly': 6201, 'outrage': 6202, 'contro…': 6203, \"'world\": 6204, \"shocked'\": 6205, \"trudeau's\": 6206, 'liberals': 6207, 'abandon': 6208, 'star\\xa0\\xa0toronto': 6209, \"'missing\": 6210, \"action'\": 6211, 'chide': 6212, 'ndp': 6213, 'noncommital': 6214, 'bill\\xa0\\xa0ctv': 6215, 'legislated': 6216, 'assaul…': 6217, 'unanimously': 6218, 'reappoint': 6219, 'tricia': 6220, 'cotham': 6221, 'mecklenburg': 6222, 'axios': 6223, 'expels': 6224, 'protest\\xa0\\xa0reuters': 6225, 'clairo': 6226, \"clairo's\": 6227, 'arrived': 6228, 'anticipated': 6229, 'sling': 6230, 'recently…': 6231, 'law\\xa0\\xa0the': 6232, 'challenge\\xa0\\xa0national': 6233, 'weapons\\xa0\\xa0cnn': 6234, '‘blueprint’': 6235, 'seemthe': 6236, 'desantis’s': 6237, 'zealously': 6238, 'subtitle': 6239, 'protests\\xa0\\xa0cbc': 6240, \"'this\": 6241, 'predominantly': 6242, 'undoing': 6243, \"democracy'\": 6244, 'jones\\xa0\\xa0msnbc': 6245, 'expe…': 6246, 'mechanically': 6247, 'improper': 6248, 'source': 6249, 'briefing': 6250, 'whip': 6251, 'vr': 6252, 'headset': 6253, 'rhythm': 6254, 'silence': 6255, 'predominately': 6256, 'nbc': 6257, 'retaliates': 6258, 'participated': 6259, 'sparedrepublican': 6260, 'chided': 6261, 'undemocratic': 6262, 'suits': 6263, 'signing': 6264, 'shadow': 6265, \"nashville's\": 6266, 'stance…': 6267, 'jeremy': 6268, 'faison': 6269, 'commentator': 6270, \"yesterdays's\": 6271, 'rallies': 6272, 'demonstrations': 6273, 'spared': 6274, 'rocketing': 6275, 'alienating': 6276, 'electionin': 6277, '41': 6278, 'yahoo': 6279, 'yougov': 6280, 'said…': 6281, 'crowdfunding': 6282, 'turret': 6283, 'meets': 6284, 'control\\xa0\\xa0reuters': 6285, 'retaliation': 6286, 'n…': 6287, 'wielding': 6288, 'chambers': 6289, 'tasers': 6290, 'stun': 6291, 'muscles': 6292, 'seize': 6293, 'induce': 6294, 'temporary': 6295, 'memory': 6296, 'shootingrepublican': 6297, 'begun': 6298, 'ho…': 6299, 'chants': 6300, 'people—three': 6301, 'adults—dead': 6302, 'ammunition': 6303, 'counter': 6304, 'offensive': 6305, 'meeting': 6306, 'fill': 6307, 'communication': 6308, 'challenging—but': 6309, 'expressing': 6310, 'desires': 6311, 'boundaries': 6312, 'overseas': 6313, 'zealand’s': 6314, 'octoberformer': 6315, 'harvard': 6316, 'position': 6317, 'campus': 6318, 'condemn': 6319, 'forbes': 6320, 'alum': 6321, 'dom…': 6322, 'prosecute': 6323, 'volunteer': 6324, 'prosecu…': 6325, 'were–as': 6326, 'howard': 6327, 'baker': 6328, 'centrist': 6329, 'embodied': 6330, 'them–like': 6331, 'lawma…': 6332, 'resemblance': 6333, 'authoritarian': 6334, 'redeemers': 6335, 'jemar': 6336, 'tisby': 6337, 'slur': 6338, 'prompting': 6339, 'repeat': 6340, 'creators': 6341, 'monica': 6342, 'huldt': 6343, 'elsa': 6344, 'rebekka': 6345, 'blue': 6346, 'zers': 6347, 'nistha': 6348, 'dube': 6349, 'nontraditional': 6350, 'neuroscience': 6351, 'joan': 6352, 'delivers': 6353, 'reshape': 6354, 'americajoan': 6355, 'analyst': 6356, 'pulitzer': 6357, 'finalist': 6358, 'biographer': 6359, 'sense…': 6360, 'specifically': 6361, 'transparency': 6362, \"americans'\": 6363, 'intense': 6364, 'scofflaw': 6365, 'rider': 6366, 'paris': 6367, 'escape': 6368, 'classification‘she': 6369, 'riding': 6370, 'bikers': 6371, 'gangster': 6372, 'lola': 6373, 'quivoron': 6374, 'talk…': 6375, 'accounting': 6376, 'leonard': 6377, 'leo’s': 6378, 'businessesleonard': 6379, 'leo': 6380, '73m': 6381, 'nonprofit': 6382, 'diverting': 6383, 'illega…': 6384, 'throwers': 6385, 'scenario': 6386, 'biden\\xa0formally': 6387, '“finish': 6388, 'job”': 6389, 'standing': 6390, '40th': 6391, 'commemorates': 6392, 'islanders': 6393, 'diedlifesize': 6394, 'silhouetted': 6395, 'personnel': 6396, 'falklands': 6397, 'installed': 6398, 'tvboy': 6399, 'artistic': 6400, 'pseudonym': 6401, 'salvatore': 6402, 'benintende': 6403, 'garnered': 6404, 'daring': 6405, 'evocative': 6406, 'creations': 6407, 'delve': 6408, 'renowned': 6409, 'ripped': 6410, 'thru': 6411, 'directional': 6412, 'brings': 6413, 'invisible': 6414, 'decoropen': 6415, 'arrangements': 6416, 'warding': 6417, 'distractions': 6418, 'blaise': 6419, 'ingoglia': 6420, 'affects': 6421, \"park's\": 6422, 'bottom': 6423, 'willingness': 6424, 'leverage': 6425, 'perpetuating': 6426, 'mcdonald’s': 6427, 'zooey': 6428, 'zephyr': 6429, '‘blood': 6430, 'hands’': 6431, 'careprotesters': 6432, 'lea…': 6433, 'tides': 6434, 'landscape': 6435, 'hybrid': 6436, 'workforce': 6437, 'emerged': 6438, 'compelling': 6439, 'worldwide': 6440, 'offering': 6441, 'unparalleled': 6442, 'savings': 6443, 'wonder': 6444, 'mor…': 6445, 'deliberately': 6446, 'blinded': 6447, 'defiance': 6448, 'boss': 6449, \"succession's\": 6450, 'gerri': 6451, 'kellman': 6452, 'dresses': 6453, 'indicator': 6454, 'trends': 6455, 'spots': 6456, 'wasted': 6457, 'bankrupting': 6458, 'slowing': 6459, 'hood': 6460, 'marketing': 6461, 'promotions': 6462, \"she'd\": 6463, 'lured': 6464, 'presence': 6465, 'fastest': 6466, 'decorated': 6467, 'assemble': 6468, 'hopkinton': 6469, '127th': 6470, 'prince': 6471, 'nominees': 6472, 'queen’s': 6473, 'investmentsprince': 6474, 'shareholdings': 6475, 'backed': 6476, 'shell': 6477, 'neom': 6478, 'bin': 6479, \"salman's\": 6480, 'trillion': 6481, 'dollar': 6482, 'combine': 6483, 'totalitarian': 6484, 'dreaming': 6485, 'xochitl': 6486, 'gonzalez': 6487, 'ricans': 6488, 'nelson': 6489, 'denis': 6490, 'rican': 6491, 'movements': 6492, 'palimpsest': 6493, 'mirror': 6494, 'respon…': 6495, 'mean': 6496, 'reformeda': 6497, 'throw': 6498, 'struggle': 6499, 'opponentswhen': 6500, 'landed': 6501, 'tense…': 6502, 'hands': 6503, 'rest': 6504, 'declares': 6505, 'eren': 6506, 'yeager': 6507, 'in\\xa0': 6508, 'rumbling': 6509, 'begins': 6510, 'those…': 6511, 'aoirostudio0417—23': 6512, 'captivating': 6513, 'miracles': 6514, 'sony': 6515, 'pictures': 6516, 'unveiled': 6517, 'teaser': 6518, 'trailer': 6519, 'miracle': 6520, 'thaddeus': 6521, 'festivals': 6522, 'spc': 6523, 'releasing': 6524, 'anyway': 6525, 'institutions': 6526, 'polish': 6527, 'scams': 6528, 'employ': 6529, 'snapchat': 6530, 'fake': 6531, \"hostages'\": 6532, 'adviser': 6533, 'freelancer': 6534, 'repetitive': 6535, 'outlets': 6536, 'captain': 6537, 'marissa': 6538, 'callaghan': 6539, 'express': 6540, 'ourselves': 6541, \"thursday's\": 6542, 'friendly': 6543, 'wales': 6544, 'backing': 6545, 'alex': 6546, 'mooney': 6547, 'manchin': 6548, 'pioneer': 6549, 'ejército': 6550, 'entrenador': 6551, 'pilatus': 6552, 'curso': 6553, 'sustituía': 6554, 'casa': 6555, 'acaba': 6556, 'llegar': 6557, 'horas': 6558, 'vuelo': 6559, 'academia': 6560, 'ellas': 6561, 'kino': 6562, 'loy': 6563, \"we'll\": 6564, 'librarians': 6565, 'volunteers': 6566, 'spearhead': 6567, 'initiative': 6568, 'ny—brooklyn': 6569, 'bpl': 6570, 'negative': 6571, 'wishers': 6572, 'lined': 6573, 'glimpse': 6574, 'rematch': 6575, 'value': 6576, 'forefront': 6577, 'leaders’': 6578, 'fad': 6579, 'disappear': 6580, '“back': 6581, \"youtube's\": 6582, 'balancing': 6583, 'minimizing': 6584, 'aries': 6585, 'pisces': 6586, 'postwar': 6587, 'brain': 6588, 'drain': 6589, 'collaborations': 6590, 'larry': 6591, 'lessig’s': 6592, 'copyright': 6593, 'corruption': 6594, 'tremendously': 6595, 'educator': 6596, 'statutes': 6597, 'directives': 6598, '“personal': 6599, 'views”': 6600, 'manage': 6601, 'debt': 6602, 'introductory': 6603, 'advantage': 6604, 'bjp': 6605, 'involvement': 6606, 'gandhi’s': 6607, 'queries': 6608, 'industrialist': 6609, 'narendra': 6610, 'modi': 6611, 'wider': 6612, 'rivalsfor': 6613, 'murray': 6614, 'runs': 6615, 'startup': 6616, 'exciting': 6617, 'universe': 6618, 'startups': 6619, 'venture': 6620, 'bartlett': 6621, 'z': 6622, 'managers': 6623, 'selfish': 6624, 'instant': 6625, 'gratification': 6626, 'biography': 6627, 'phillis': 6628, 'wheatley': 6629, 'poetry': 6630, 'criticize': 6631, 'limitations': 6632, 'channels': 6633, 'semafor': 6634, 'executives': 6635, 'advertisers': 6636, 'skeptical': 6637, \"owner's\": 6638, 'pursuit': 6639, 'customer': 6640, 'cx': 6641, 'strategic': 6642, 'connecting': 6643, 'pwc': 6644, 'superior': 6645, 'ex…': 6646, 'mix': 6647, 'finishes': 6648, 'touches': 6649, 'optimized': 6650, 'bellingham': 6651, 'founded': 6652, 'bts': 6653, 'multi': 6654, 'hyphenate': 6655, 'agust': 6656, 'collaborating': 6657, 'ryuichi': 6658, 'sakamoto': 6659, 'adem': 6660, 'campbell': 6661, 'fort': 6662, 'mcmurray': 6663, 'loyalties': 6664, 'essays': 6665, 'cbc': 6666, 'alberta': 6667, 'elect…': 6668, 'asia': 6669, 'momentarily': 6670, 'challies': 6671, 'memorial': 6672, 'colin': 6673, 'thubron': 6674, 'sara': 6675, 'wheeler': 6676, 'writers': 6677, 'dorset': 6678, 'literature': 6679, 'hardening': 6680, 'bordersthese': 6681, 'loach': 6682, 'steely': 6683, 'determination': 6684, 'greta’there': 6685, 'loach’s': 6686, 'mum': 6687, 'cruelly': 6688, 'chaotically': 6689, 'worseit’s': 6690, 'moral': 6691, 'decay': 6692, 'withering': 6693, 'standards': 6694, 'wellbeingif': 6695, 'onward': 6696, 'halted': 6697, 'screeched': 6698, 'reverse': 6699, 'autumn': 6700, 'discussed': 6701, 'lexicon': 6702, 'implications': 6703, 'campaigns': 6704, 'elisabeth': 6705, 'elektra': 6706, 'glasgow': 6707, 'goth': 6708, 'performer': 6709, 'silver': 6710, 'moth': 6711, 'mogwai': 6712, 'stuart': 6713, 'braithwaite': 6714, 'evi': 6715, 'vine': 6716, 'electrifying': 6717, 'elektra’s': 6718, 'labourers': 6719, 'achievers': 6720, 'countrywhen': 6721, 'curtain': 6722, 'swept': 6723, 'miraculous': 6724, 'deepest': 6725, 'differences': 6726, 'geographical': 6727, 'quit': 6728, 'pantheon': 6729, 'splc': 6730, 'designated': 6731, 'overarching': 6732, 'symbolism': 6733, \"'connor’s\": 6734, \"wedding'\": 6735, 'detailing': 6736, 'react': 6737, 'mastercards': 6738, 'score': 6739, '119': 6740, 'sting': 6741, 'genesis': 6742, 'web': 6743, 'aims': 6744, 'assistant': 6745, \"life's\": 6746, 'joys': 6747, 'romantic': 6748, 'eating': 6749, 'grew': 6750, 'churches': 6751, 'displaying': 6752, 'flowers': 6753, 'americard': 6754, 'determine': 6755, \"card's\": 6756, 'intro': 6757, 'transfers': 6758, 'worthy': 6759, 'wallet': 6760, '2024—but': 6761, 'nerve': 6762, 'disaster': 6763, '‘personal': 6764, 'freedom’': 6765, 'damage': 6766, 'depending': 6767, 'outweigh': 6768, 'downsides': 6769, 'honor': 6770, 'thieves': 6771, 'pine': 6772, 'sophia': 6773, 'lillis': 6774, 'evening—which': 6775, 'deliberate': 6776, '—trump': 6777, 'appointed': 6778, 'devout': 6779, 'jerry': 6780, 'springer': 6781, 'circus': 6782, 'dysfunctional': 6783, 'bare': 6784, '79': 6785, 'polls': 6786, 'forwar…': 6787, 'framed': 6788, 'criminalizes': 6789, 'minor': 6790, 'violators': 6791, 'technocrat': 6792, 'provocative': 6793, \"virginia's\": 6794, 'installment': 6795, 'hypebeast': 6796, 'heron': 6797, 'preston': 6798, 'homecoming': 6799, 'fw23': 6800, 'nyfw': 6801, \"designer's\": 6802, 'approaches': 6803, 'thr…': 6804, 'religiously': 6805, 'motivated': 6806, 'types': 6807, 'societies': 6808, 'religions—to': 6809, 'detriment': 6810, 'religion': 6811, 'oppress': 6812, 'partic…': 6813, 'streams': 6814, 'revenue': 6815, 'passive': 6816, 'lumina': 6817, 'bund': 6818, 'shanghai': 6819, 'tezign': 6820, 'diverse': 6821, 'management': 6822, 'methods': 6823, 'define': 6824, 'everywhere': 6825, 'regardless': 6826, 'afford': 6827, 'missi…': 6828, 'novelist’s': 6829, 'meditation': 6830, 'authenticity': 6831, 'freedoman': 6832, 'obsession': 6833, 'simultaneously': 6834, 'frees': 6835, 'thread': 6836, 'xiaolu': 6837, 'guo’s': 6838, '2007': 6839, 'concise': 6840, 'ch…': 6841, 'silva’s': 6842, 'metaphor': 6843, 'creepy': 6844, 'stupid': 6845, 'movementit': 6846, 'wasn’t': 6847, 'initially': 6848, 'silva': 6849, 'divorce': 6850, 'file…': 6851, 'omdurman': 6852, 'ceasefire': 6853, 'calm': 6854, 'indiscriminately': 6855, 'injuring': 6856, 'netanyahu': 6857, 'intensive': 6858, 'carethe': 6859, 'sisters': 6860, \"'use\": 6861, 'bully': 6862, 'roxanne': 6863, 'lessons': 6864, '65': 6865, 'thirds': 6866, 'instances': 6867, 'onion': 6868, 'kings': 6869, 'finnish': 6870, 'musicians': 6871, 'kaija': 6872, 'saariaho’s': 6873, 'bartok': 6874, 'performanceas': 6875, 'immobilised': 6876, 'scarcely': 6877, 'stirred': 6878, 'for…': 6879, 'escalating': 6880, 'territories': 6881, 'backdrop': 6882, 'celebrations': 6883, 'muslims': 6884, 'passover': 6885, 'jews': 6886, '30pm': 6887, 'stationfour': 6888, 'psycho': 6889, 'louis': 6890, 'singletary': 6891, 'hunted': 6892, 'entered': 6893, 'retrieve': 6894, 'bounced': 6895, 'strikingly': 6896, 'new…': 6897, 'erikjohn93': 6898, 'sketch': 6899, 'fyp': 6900, '♬': 6901, 'erik': 6902, \"punch's\": 6903, 'reminds': 6904, 'perception': 6905, 'banner': 6906, 'zwerner': 6907, 'files': 6908, 'leadershipthe': 6909, 'abi…': 6910, 'nickolas': 6911, 'wilt': 6912, 'rookie': 6913, \"america's\": 6914, 'dettelbach': 6915, \"'zero\": 6916, \"tolerance'\": 6917, 'shops': 6918, 'barreled': 6919, 'starry': 6920, 'caper': 6921, 'borrows': 6922, 'resplendent': 6923, 'tone': 6924, 'morals': 6925, 'offthe': 6926, '1988': 6927, 'vampire’s': 6928, 'kiss': 6929, 'lonely': 6930, 'lothario': 6931, 'delusions': 6932, 'vampirism': 6933, 'resold': 6934, 'chase': 6935, 'disrupting': 6936, 'grabbing': 6937, 'officer’s': 6938, 'aqsa': 6939, 'beit': 6940, 'ummara': 6941, 'escalation': 6942, 'protested': 6943, 'molesters': 6944, 'violenc…': 6945, 'perpetually': 6946, 'pissed': 6947, 'lauren': 6948, 'boebert': 6949, 'defund': 6950, 'er': 6951, 'oh': 6952, 'npr': 6953, 'inflation': 6954, 'lucy': 6955, '48': 6956, 'daughtersthousands': 6957, 'mourners': 6958, 'ea…': 6959, 'upstage': 6960, 'udpates': 6961, 'operation': 6962, 'derry': 6963, 'tha…': 6964, 'deja': 6965, 'teachera': 6966, 'januar…': 6967, 'mary’s': 6968, '‘britain’s': 6969, 'bollard’': 6970, 'sociable': 6971, 'trafficin': 6972, 'terraced': 6973, 'oxford': 6974, 'nationally': 6975, 'divisive': 6976, 'acts': 6977, 'arson': 6978, 'vandalism': 6979, 'br…': 6980, \"'otxo'\": 6981, 'twin': 6982, 'revenge': 6983, 'expertly': 6984, 'improvisational': 6985, 'continuing': 6986, 'embassies': 6987, 'antónio': 6988, 'guterres': 6989, 'warns': 6990, 'unrecord': 6991, 'puts': 6992, 'buttons': 6993, 'delivered': 6994, 'inbox': 6995, 'cop…': 6996, 'supporters': 6997, 'clubs': 6998, 'tearing': 6999, 'intervenedby': 7000, 'sanderson': 7001, 'networkin': 7002, 'football': 7003, 'there…': 7004, 'militias': 7005, 'warehouses': 7006, 'darfur': 7007, 'cowering': 7008, 'dealer': 7009, 'qongressman': 7010, 'gaetz': 7011, \"shouldn't\": 7012, 'blame': 7013, 'carnage': 7014, 'medication': 7015, 'gqp': 7016, 'budget': 7017, 'unsustainable': 7018, 'blockbusters': 7019, 'expensive': 7020, 'microsoft’s': 7021, 'activision': 7022, 'blizzard': 7023, 'profits': 7024, 'tothirteen': 7025, 'suicidal': 7026, 'overwhelming': 7027, 'feelings': 7028, 'guilt': 7029, 'healthcare': 7030, 'nigh': 7031, 'impossible': 7032, 'critically': 7033, 'transgen…': 7034, 'judgement': 7035, 'berkshire': 7036, 'perrya': 7037, 'donate': 7038, 'pledging': 7039, 'inspectorate': 7040, 'acc…': 7041, 'fathers': 7042, 'formed': 7043, 'dads': 7044, 'awarenesswhen': 7045, 'palmer': 7046, 'lifts': 7047, 'doling': 7048, 'out…': 7049, 'drone': 7050, 'operators': 7051, 'repel': 7052, 'aggression': 7053, 'werbung': 7054, 'gedachte': 7055, 'gameplay': 7056, 'präsentation': 7057, 'hat': 7058, 'sehr': 7059, 'negativ': 7060, 'reagiert': 7061, 'nun': 7062, 'das': 7063, 'superhelden': 7064, 'spiel': 7065, 'verschoben': 7066, 'spiele': 7067, \"'rot\": 7068, \"hell'\": 7069, 'vented': 7070, 'note\\xa0\\xa0toronto': 7071, 'note\\xa0\\xa0ctv': 7072, 'idaho’s': 7073, 'criminalizing': 7074, 'sentences': 7075, 'samurai': 7076, 'classmate': 7077, 'kidnapped': 7078, 'confederation’s': 7079, 'patient': 7080, '‘put': 7081, 'risk’': 7082, 'strikeleaders': 7083, 'trusts': 7084, 'nurses’': 7085, 'e…': 7086, 'reflective': 7087, 'ram': 7088, 'rev': 7089, 'ces': 7090, 'performance’this': 7091, 'adam': 7092, 'broomberg': 7093, '2021…': 7094, 'responded': 7095, 'physically': 7096, 'orientation': 7097, 'swat': 7098, 'valley': 7099, 'blackface': 7100, 'seemed': 7101, 'okay': 7102, 'cringe': 7103, 'yanked': 7104, 'syndication': 7105, \"it'll\": 7106, 'game…': 7107, '“moonbin': 7108, 'suddenly': 7109, 'suffers': 7110, 'degenerative': 7111, 'palliative': 7112, 'realise': 7113, 'neededmolly': 7114, 'meacher': 7115, 'commons': 7116, 'inquiry': 7117, 'dylan': 7118, 'mulvaney': 7119, '21st': 7120, 'pivoted': 7121, 'theater': 7122, \"she's\": 7123, 'sponsorships': 7124, 'fame': 7125, 'interviewing': 7126, 'preside…': 7127, 'vargas': 7128, 'roberts': 7129, 'ayón': 7130, 'rivas': 7131, 'britten': 7132, 'sinfonia': 7133, 'rara': 7134, 'saverio': 7135, 'mercadante’s': 7136, 'triangle': 7137, '17th': 7138, 'conducted': 7139, 'carlo': 7140, 'heroine': 7141, 'beautifully': 7142, 'sung': 7143, 'irene': 7144, 'robertsopera': 7145, 'rara’s': 7146, 'disinterrin…': 7147, 'cope': 7148, 'hyper': 7149, 'societybefore': 7150, 'excerpt': 7151, 'lucinda': 7152, 'williams’s': 7153, 'memoir': 7154, '“don’t': 7155, 'anybody': 7156, 'poet': 7157, 'stanford': 7158, 'wb': 7159, 'quidditch': 7160, 'hogwarts': 7161, 'publisher': 7162, 'billing': 7163, '“fast': 7164, 'paced': 7165, 'multiplayer”': 7166, 'clears': 7167, 'band’s': 7168, 'recordings': 7169, \"singer's\": 7170, 'shadows': 7171, 'raged': 7172, \"dc's\": 7173, 'cameo': 7174, 'traveling': 7175, 'multiverse': 7176, 'gar': 7177, 'transdimensional': 7178, 'other…': 7179, 'dubbed': 7180, \"'facebook\": 7181, \"rapist'\": 7182, 'bester': 7183, '2012': 7184, 'hoax': 7185, 'ahmed': 7186, 'farah': 7187, 'shifts': 7188, 'the\\xa0suicide': 7189, 'squad\\xa0into': 7190, '\\xa0suicide': 7191, 'league\\xa0has': 7192, 'bros…': 7193, 'gary': 7194, 'aftermarket': 7195, 'modding': 7196, 'unwittingly': 7197, 'nintendo’s': 7198, 'antagonists': 7199, 'proverbial': 7200, 'look…': 7201, 'kiln': 7202, 'almeida': 7203, 'dorfman': 7204, 'londonin': 7205, 'quickfire': 7206, 'boys…': 7207, 'cameron': 7208, 'buzzes': 7209, 'deborah': 7210, 'bruce’s': 7211, 'surprisesi': 7212, 'assumed…': 7213, 'terry': 7214, 'badger': 7215, 'iii': 7216, \"wasn't\": 7217, 'implement': 7218, 'apps': 7219, '31st': 7220, 'updated': 7221, 'via': 7222, 'techcrunch': 7223, 'prohibit': 7224, 'lending': 7225, 'applications': 7226, 'ac…': 7227, 'hemubhai': 7228, 'makwana': 7229, 'hansaben': 7230, 'gujarat': 7231, 'homemade': 7232, 'guillotine': 7233, 'prepared': 7234, 'gui…': 7235, 'october': 7236, 'difficulties': 7237, '88': 7238, 'transparentalmost': 7239, '90': 7240, 'australians': 7241, 'procedures': 7242, 'surgeons': 7243, 'waits': 7244, 'decisionstwo': 7245, 'kavitha': 7246, 'sivasamy': 7247, 'articulate': 7248, 'elegant': 7249, 'canberra': 7250, 'und…': 7251, '150': 7252, 'refer': 7253, 'pronouns': 7254, 'override': 7255, 'dea': 7256, 'telehealth': 7257, 'prescriptions': 7258, 'spurred': 7259, 'careerwith': 7260, 'wayward': 7261, 'wildly': 7262, 'soft': 7263, 'crafted': 7264, 'sounds': 7265, '80s': 7266, 'hits': 7267, 'tainted': 7268, 'hello': 7269, 'goo…': 7270, 'felicia': 7271, 'loalbo': 7272, 'melendez': 7273, 'audio': 7274, 'declining': 7275, 'advent': 7276, 'smartphones': 7277, '‘affordability': 7278, 'checks’': 7279, 'reforms': 7280, 'outlining': 7281, 'reform…': 7282, 'igor': 7283, 'shkurko': 7284, 'yakutskenergo': 7285, 'ed': 7286, \"yakutsk's\": 7287, 'punishing': 7288, 'selon': 7289, 'nombreux': 7290, 'psychologues': 7291, \"l'algorithme\": 7292, 'pourrait': 7293, 'pousser': 7294, 'vulnérables': 7295, 'donner': 7296, 'mort': 7297, 'twisting': 7298, 'stretching': 7299, 'traditions': 7300, 'tabloids': 7301, 'pedophile': 7302, 'epst…': 7303, 'responsibility': 7304, 'abandoning': 7305, 'afghan': 7306, 'talibanthe': 7307, 'accompanying': 7308, 'nationals': 7309, 'numbe…': 7310, '‘take': 7311, 'out’': 7312, 'opens': 7313, 'ospreys': 7314, 'harri': 7315, 'taliban': 7316, 'isis': 7317, 'mastermind': 7318, 'bombing': 7319, 'abbey': 7320, 'gate': 7321, 'gangnam': 7322, 'seoul': 7323, 'moderately': 7324, 'autism': 7325, 'spectrum': 7326, 'tap': 7327, 'lithium': 7328, 'caution': 7329, 'alleging': 7330, 'severe': 7331, 'burns': 7332, 'mounts': 7333, 'headteacher’s': 7334, 'bids': 7335, 'inconsistencies': 7336, 'rulings': 7337, 'watchdogsenior': 7338, 'dix': 7339, 'sept': 7340, 'personnes': 7341, 'aussi': 7342, 'été': 7343, 'blessées': 7344, 'lundi': 7345, 'attaque': 7346, 'revendiquée': 7347, 'après': 7348, 'plusieurs': 7349, 'heures': 7350, 'migrant': 7351, 'abroad': 7352, 'gulf': 7353, 'liveswhen': 7354, 'pawan': 7355, 'kumari’s': 7356, 'kuwait': 7357, 'le': 7358, 'cas': 7359, 'squad\\xa0': 7360, 'confirme': 7361, 'fois': 7362, 'des': 7363, 'modèles': 7364, 'économiques': 7365, 'abusifs': 7366, 'il': 7367, 'faut': 7368, 'arrêter': 7369, 'jeux': 7370, 'n’en': 7371, 'pas': 7372, 'besoin': 7373, 'khalid': 7374, 'aydd': 7375, 'ahmad': 7376, 'jabouri': 7377, 'europethe': 7378, 'syria': 7379, 'islamic': 7380, 'europe': 7381, '名前：：2023': 7382, '04': 7383, '03': 7384, '月': 7385, 'id': 7386, 'xhgl6lxq0': 7387, '対話型aiに気候変動を止めるために自分を犠牲にするよう言われた男性が自殺、生前最後にaiと交わした生々しい会話も報じられるhttps': 7388, 'qrged8cts2—': 7389, 'ギガジン': 7390, 'ones': 7391, 'grieve': 7392, 'endedthe': 7393, 'checkpoints': 7394, 'patrols': 7395, 'watchtowers': 7396, 'geoff': 7397, 'knupfer': 7398, 'surveys': 7399, 'bogs': 7400, 'ireland’s': 7401, 'borderlands': 7402, 'decriminalise': 7403, 'attempts\\xa0\\xa0reuters': 7404, 'rumores': 7405, 'eran': 7406, 'ciertos': 7407, 'decidieron': 7408, 'retrasar': 7409, 'lanzamiento': 7410, '\\u200csuicide': 7411, 'juego': 7412, 'por': 7413, 'algún': 7414, 'tiempo': 7415, 'fue': 7416, 'esperados': 7417, 'hará': 7418, 'esperar': 7419, 'hasta': 7420, 'febrero': 7421, 'previo': 7422, 'este': 7423, 'hack': 7424, 'mortal': 7425, 'sin': 7426, 'soul': 7427, 'straight': 7428, 'forever': 7429, 'confess': 7430, 'sins': 7431, 'priest': 7432, 'beforehand': 7433, 'sol…': 7434, 'poised': 7435, 'downloads': 7436, 'ignite': 7437, 'precarious': 7438, 'anthony': 7439, 'comstock’s': 7440, 'crusade': 7441, 'gained': 7442, 'moniker': 7443, '‘moral': 7444, 'eunuch’': 7445, 'zealots': 7446, 'footstepsanthony': 7447, 'ser…': 7448, 'apollo': 7449, 'londonunderneath': 7450, 'abundance': 7451, 'experiences': 7452, 'beliefs': 7453, 'shaped': 7454, 'themryan': 7455, 'eliza': 7456, 'feature': 7457, 'sad': 7458, 'hook': 7459, 'addictionin': 7460, 'addiction': 7461, 'gamble': 7462, 'findings': 7463, 'desperately': 7464, 'bullying': 7465, 'brigade': 7466, 'distressing…': 7467, 'dispatched': 7468, 'nathan': 7469, 'pelham': 7470, '“wellness': 7471, 'check”': 7472, 'father': 7473, 'devastating': 7474, 'sheehy': 7475, 'millfield': 7476, 'midlands': 7477, 'whywhen': 7478, 'inspectors': 7479, 'perry’s…': 7480, 'millions': 7481, 'debilitating': 7482, 'fatigue': 7483, 'difficulty': 7484, 'winds': 7485, 'streetcar': 7486, 'desire': 7487, 'prima': 7488, 'facie': 7489, 'albert': 7490, 'ceremonyjack': 7491, 'beanstalk': 7492, 'palladiummy': 7493, 'son’s': 7494, 'queer': 7495, 'gar…': 7496, 'scars': 7497, 'developer': 7498, 'address': 7499, 'smartphone': 7500, 'pocket•': 7501, 'tighten': 7502, 'awaited': 7503, 'reviewwhen': 7504, 'knees': 7505, 'desperate': 7506, 'he…': 7507, 'kept': 7508, '‘i': 7509, '’”': 7510, 'danielle': 7511, 'ruhl': 7512, 'pausing': 7513, 'tonight\\xa0i': 7514, 'noose': 7515, 'praying': 7516, 'won’t': 7517, 'terrified': 7518, 'afghanistanthe': 7519, 'deferred': 7520, 'terminally': 7521, 'disabilities': 7522, 'coerced': 7523, 'assisted': 7524, 'rumored': 7525, 'deadliest': 7526, '‘arsenal': 7527, 'weapons’': 7528, 'say\\xa0\\xa0al': 7529, 'jazeera': 7530, 'document': 7531, 'say\\xa0\\xa0cbc': 7532, 'guardsman': 7533, \"'murder\": 7534, 'ma…': 7535, 'publishing': 7536, 'wartime': 7537, 'secrecy': 7538, 'eitherthere': 7539, 'whistleblowing': 7540, 'responsibly': 7541, 'positioned': 7542, 'indication': 7543, 'impose': 7544, 'controlthe': 7545, 'yearly': 7546, 'event…': 7547, 'pace\\xa0\\xa0the': 7548, 'pressview': 7549, 'mistreated': 7550, 'exploited': 7551, 'perpetrator': 7552, 'alaska': 7553, 'watley': 7554, 'illustrating': 7555, 'children’s': 7556, 'cute': 7557, 'pairs': 7558, 'transphobic': 7559, 'notes': 7560, \"teen's\": 7561, 'outbreak': 7562, 'payton': 7563, 'washington’s': 7564, 'pace\\xa0\\xa0vox': 7565, 'shootings\\xa0\\xa0firstpost': 7566, 'bloodshed': 7567, 'tx': 7568, 'suspect…': 7569, 'agitated': 7570, 'porch': 7571, 'honduran': 7572, '‘illegal': 7573, 'immigrants’as': 7574, 'reward': 7575, 'capture': 7576, 'compla…': 7577, 'lately': 7578, 'regularly': 7579, 'stalled': 7580, '146': 7581, '130': 7582, 'motive': 7583, 'spiritual': 7584, 'beshear': 7585, 'gunfire': 7586, 'crimes': 7587, 'keene': 7588, 'regrets': 7589, 'assignment': 7590, 'casting': 7591, 'spotlight': 7592, 'systema': 7593, 'obituaries': 7594, 'camp…': 7595, 'amassed': 7596, 'debated': 7597, 'suv': 7598, '“assassination': 7599, 'sleep': 7600, 'explosions': 7601, 'glued': 7602, 'screens': 7603, 'chaos': 7604, 'unfurl': 7605, 'narrative': 7606, 'nashville’s': 7607, 'span': 7608, '25\\xa0mass': 7609, 'shootings—including': 7610, 'louisville—have': 7611, \"'targeted'\": 7612, 'coworkers': 7613, 'rebekah': 7614, 'reasonsthe': 7615, 'reignited': 7616, 'departme…': 7617, 'shooting\\xa0\\xa0cnn': 7618, 'kentucky\\xa0\\xa0cbc': 7619, 'year\\xa0\\xa0ctv': 7620, 'replaying': 7621, 'horror': 7622, 'loop': 7623, 'distributor': 7624, 'manufacturer': 7625, 'schmeisser': 7626, 'worcester': 7627, 'houston': 7628, 'unwind': 7629, 'texas’s': 7630, 'elected': 7631, 'tribune': 7632, '“is': 7633, 'clearance': 7634, 'problematic': 7635, 'suspension': 7636, \"you'd\": 7637, 'peppered': 7638, 'bulletsthat': 7639, 'normally': 7640, 'journalists': 7641, 'downt…': 7642, \"'a\": 7643, 'speech\\xa0\\xa0cnn': 7644, 'reacted': 7645, 'convention\\xa0\\xa0cnn': 7646, 'shred': 7647, \"'bogus'\": 7648, 'charges\\xa0\\xa0fox': 7649, \"'mental\": 7650, 'speech\\xa0\\xa0nbc': 7651, 'hop…': 7652, 'ky—in': 7653, 'lone': 7654, 'individuals': 7655, 'routinely': 7656, 'occurs': 7657, 'concluded': 7658, 'mon…': 7659, 'mourning': 7660, 'inaction': 7661, '“we': 7662, 'lectures': 7663, 'abiding': 7664, 'photograph': 7665, \"photographer's\": 7666, 'workplaces': 7667, 'shows\\xa0\\xa0abc': 7668, 'seventh': 7669, 'jones\\xa0\\xa0mother': 7670, 'what’s': 7671, 'audrey': 7672, 'hale': 7673, 'nra’s': 7674, 'kicked': 7675, 'organization’s': 7676, 'mine': 7677, '160': 7678, 'odd': 7679, '20s': 7680, 'modelo': 7681, 'atípico': 7682, 'gama': 7683, 'poco': 7684, 'toda': 7685, 'hecho': 7686, 'así': 7687, 'entre': 7688, 'tourer': 7689, 'escasos': 7690, 'monovolúmenes': 7691, 'sobreviven': 7692, 'mercado': 7693, 'abiertamente': 7694, 'deportivo': 7695, 'serie…': 7696, 'florent': 7697, 'ibenge': 7698, 'reunited': 7699, 'cannier': 7700, 'counted': 7701, 'dreadful': 7702, 'mediocre': 7703, 'boxes': 7704, 'mugen': 7705, 'souls': 7706, 'before\\xa0zelda': 7707, 'else': 7708, 'eshop': 7709, 'wallets': 7710, 'we…': 7711, \"dallas'\": 7712, 'undermined': 7713, 'integrity': 7714, \"men's\": 7715, 'matchup': 7716, 'canadians’': 7717, 'polytechnique': 7718, '69': 7719, 'rahm': 7720, 'koepka': 7721, 'mickelson': 7722, 'joint': 7723, 'jokes': 7724, 'liv': 7725, 'golfers': 7726, 'inability': 7727, 'appropriate': 7728, '“my': 7729, 'intent': 7730, 'barber': 7731, '“it’s': 7732, 'motherwell': 7733, 'veen': 7734, 'celtic’s': 7735, 'equaliser': 7736, 'parkhead': 7737, 'callum': 7738, 'mcgregor': 7739, 'celtic': 7740, 'deflected': 7741, 'consecutive': 7742, 'do…': 7743, 'sponsorisé': 7744, 'par': 7745, 'quelle': 7746, 'recette': 7747, 'parfaite': 7748, 'tenue': 7749, 'confort': 7750, 'technicité': 7751, 'voici': 7752, 'inédite': 7753, 'rassemble': 7754, 'ce': 7755, 'idéal': 7756, 'signé': 7757, 'mizuno': 7758, 'madmoizelle': 7759, \"l'a\": 7760, 'testé': 7761, 'art…': 7762, 'portraits': 7763, 'splash': 7764, 'definitely': 7765, 'novelty': 7766, 'tutorial': 7767, 'hearted': 7768, 'gavi…': 7769, 'gonzaga': 7770, 'offseason': 7771, 'ronnie': 7772, 'cruises': 7773, 'emphatic': 7774, 'qualifier': 7775, 'hossein': 7776, 'vafaei': 7777, 'rejected': 7778, 'scathing': 7779, 'assessment': 7780, 'clouded': 7781, 'liberal': 7782, 'lounging': 7783, 'pants': 7784, 'athletic': 7785, 'depends': 7786, 'lululemon': 7787, 'here’s…': 7788, 'establishment': 7789, 'principles': 7790, 'angrier': 7791, 'wheelguns': 7792, 'innovation': 7793, 'revitalized': 7794, 'designs': 7795, 'offerings': 7796, 'wherever': 7797, 'allure': 7798, 'timeless': 7799, 'captivated': 7800, \"l'actrice\": 7801, 'américaine': 7802, 'ans': 7803, \"l'affiche\": 7804, 'donjons': 7805, 'livre': 7806, 'rapport': 7807, 'au': 7808, 'corps': 7809, 'goût': 7810, 'sinner': 7811, 'jelly': 7812, 'acceptance': 7813, 'shouted': 7814, 'errors': 7815, 'incomparable': 7816, 'jimmy': 7817, 'butler': 7818, 'seeded': 7819, 'overcome': 7820, 'extra': 7821, 'europäische': 7822, 'speziell': 7823, 'deutsche': 7824, 'automarkt': 7825, 'gilt': 7826, 'einer': 7827, 'schwersten': 7828, 'welt': 7829, 'doch': 7830, 'chinesen': 7831, 'kommen': 7832, 'auch': 7833, 'weil': 7834, 'sie': 7835, 'heimat': 7836, 'ihre': 7837, 'autos': 7838, 'billig': 7839, 'dreckig': 7840, 'produzieren': 7841, 'welche': 7842, 'neuen': 7843, 'modelle': 7844, 'bald': 7845, 'bei': 7846, 'uns': 7847, 'kaufen': 7848, 'von': 7849, 'aut…': 7850, 'una': 7851, 'rapida': 7852, 'guida': 7853, 'giochi': 7854, 'siano': 7855, 'disponibili': 7856, 'netflix': 7857, 'aprile': 7858, \"com'è\": 7859, 'possibile': 7860, 'fruirne': 7861, 'oltre': 7862, 'che': 7863, 'dispositivi': 7864, '“this': 7865, 'bruyne': 7866, 'casual': 7867, 'vicinity': 7868, 'bent': 7869, 'waist': 7870, 'utterly': 7871, 'wanting': 7872, 'oxygen': 7873, 'implementing': 7874, 'blanket': 7875, 'matching': 7876, 'rapper': 7877, 'outsider': 7878, 'confessional': 7879, 'songs': 7880, 'fotografen': 7881, 'müssen': 7882, 'oft': 7883, 'schnell': 7884, 'reagieren': 7885, 'motiv': 7886, 'den': 7887, 'sensor': 7888, 'bekommen': 7889, 'dass': 7890, 'idee': 7891, 'entspricht': 7892, 'alums': 7893, 'performs': 7894, 'queens': 7895, 'harmed': 7896, 'sinco': 7897, 'kelleher': 7898, 'honolulu': 7899, 'd…': 7900, 'mikal': 7901, 'excelled': 7902, 'clashed': 7903, 'squared': 7904, 'jo': 7905, 'harten': 7906, '2018': 7907, 'retirement': 7908, 'realize': 7909, 'good—otherwise': 7910, 'humiliating': 7911, 'savannah': 7912, 'brian': 7913, 'harman': 7914, 'jumped': 7915, 'impressive': 7916, 'rbc': 7917, 'heritage': 7918, 'viktor': 7919, 'hovland': 7920, 'scraped': 7921, 'mavericks': 7922, '750k': 7923, 'rested': 7924, 'contention': 7925, 'quirky': 7926, 'peopledesigned': 7927, 'outfit': 7928, 'nedj': 7929, 'rules…': 7930, '35th': 7931, 'raring': 7932, 'golying': 7933, 'disappointing': 7934, 'reply': 7935, 'fee…': 7936, 'pakistan': 7937, 'imran': 7938, 'takeaways': 7939, 'skateboarder': 7940, 'nordberg': 7941, 'confident': 7942, 'modelling': 7943, 'nervous': 7944, 'wreck': 7945, 'seattle': 7946, 'thegrio': 7947, 'hawkins': 7948, 'battling': 7949, 'adama': 7950, 'sanogo': 7951, 'fasting': 7952, 'dan': 7953, \"hurley's\": 7954, 'shredded': 7955, 'foe': 7956, '3x3': 7957, 'coaches': 7958, 'referees': 7959, 'steamrolling': 7960, 'foes': 7961, 'vs': 7962, 'macron': 7963, '‘working': 7964, 'plan’': 7965, 'adesanya': 7966, 'belt': 7967, 'editor’s': 7968, 'guest': 7969, 'scott': 7970, \"kelby's\": 7971, 'photoshop': 7972, 'sierra': 7973, \"leone's\": 7974, 'madusu': 7975, 'koroma': 7976, 'narrowly': 7977, 'medal': 7978, 'strings': 7979, 'bow': 7980, 'leeds': 7981, 'rhinos': 7982, \"england's\": 7983, 'shaping': 7984, 'unnamed': 7985, 'maverick': 7986, 'lewis': 7987, 'hamilton': 7988, 'producer': 7989, 'base': 7990, 'silverstone': 7991, 'becuase': 7992, 'concussions': 7993, 'jaw': 7994, 'dropping': 7995, 'fau': 7996, 'reminded': 7997, 'sporting': 7998, 'unvermeidbar': 7999, 'klar': 8000, 'wie': 8001, 'wenig': 8002, 'fotoszene': 8003, 'künstlich': 8004, 'generierte': 8005, 'bilder': 8006, 'vorbereitet': 8007, 'ist': 8008, 'daneben': 8009, 'gibt': 8010, 'reichlich': 8011, 'profi': 8012, 'hardware': 8013, 'etwas': 8014, 'retro': 8015, 'sporty': 8016, 'swimwear': 8017, 'kardashian': 8018, 'wrapped': 8019, 'twisty': 8020, 'underrated': 8021, 'milwaukee': 8022, 'watched': 8023, 'superstar': 8024, \"sunday's\": 8025, 'lampard': 8026, 'brentford': 8027, 'abject': 8028, 'shy': 8029, 'sideif': 8030, 'mauricio': 8031, 'pochettino': 8032, 'require': 8033, 'guarantee': 8034, 'shambles': 8035, 'inheritance': 8036, 'walter': 8037, 'iooss': 8038, \"'s\": 8039, 'graced': 8040, '300': 8041, 'illustrated': 8042, 'covers': 8043, 'spanning': 8044, 'athlete': 8045, 'muhammad': 8046, 'ali': 8047, 'pele': 8048, 'cristiano': 8049, 'ronaldo': 8050, 'phelps': 8051, 'tiger': 8052, 'serena': 8053, 'williams…': 8054, 'serenaded': 8055, 'violins': 8056, 'clinking': 8057, 'champagne': 8058, 'flutes': 8059, 'automobile': 8060, 'makuhari': 8061, 'messe': 8062, 'akin': 8063, 'photos\\xa0in': 8064, 'gallery': 8065, 'cars\\xa0that': 8066, 'piqued\\xa0my': 8067, 'inter…': 8068, 'toasters': 8069, 'physics': 8070, 'merely': 8071, 'suggestion': 8072, \"'rupaul's\": 8073, \"race'\": 8074, 'join': 8075, \"'if\": 8076, \"ireland's\": 8077, 'shane': 8078, 'lowry': 8079, 'hardest': 8080, 'restrict': 8081, 'beat': 8082, 'rugged': 8083, 'charm': 8084, 'scrambler': 8085, 'slapping': 8086, 'mounted': 8087, 'exhaust': 8088, 'tall': 8089, 'fenders': 8090, 'knobby': 8091, 'rubber': 8092, 'average': 8093, 'cruiser': 8094, 'don’t…': 8095, 'nab': 8096, 'sitting': 8097, 'randall': 8098, 'stewart': 8099, 'turns': 8100, 'hollyland’s': 8101, 'entry': 8102, 'be…': 8103, 'cosmetics': 8104, 'bug': 8105, 'fixes': 8106, 'improvements': 8107, 'shirts': 8108, 'dress': 8109, 'wreak': 8110, 'havoc': 8111, 'glass': 8112, 'knicks': 8113, 'panasonic': 8114, 'frame': 8115, 'mirrorless': 8116, 'bundle': 8117, 'deep': 8118, '87th': 8119, 'augusta': 8120, 'tradition': 8121, 'unlike': 8122, 'profiles': 8123, 'odds': 8124, 'favorites': 8125, 'contenders': 8126, 'tavascan': 8127, 'virtual': 8128, 'influence': 8129, 'dark…': 8130, 'follower': 8131, 'count': 8132, 'witty': 8133, 'comebacks': 8134, 'ad': 8135, 'coolest': 8136, 'altruism': 8137, 'positive': 8138, \"apple's\": 8139, 'ultra': 8140, 'periscope': 8141, '‘periscope': 8142, 'lens’': 8143, 'macdailyne…': 8144, 'illusion': 8145, 'competitiveness': 8146, 'fading': 8147, 'perch': 8148, 'digging': 8149, 'craven': 8150, 'cottage': 8151, '53': 8152, 'tacoma': 8153, 'mall': 8154, 'kemp’s': 8155, 'insisted': 8156, 'cellphone': 8157, 'setubal': 8158, 'lisbon': 8159, 'wilson': 8160, 'scoring': 8161, 'rebounding': 8162, 'tillman': 8163, 'stepped': 8164, 'ja': 8165, 'morant': 8166, 'tie': 8167, \"'confesses'\": 8168, 'blogger': 8169, 'waste': 8170, 'convincing': 8171, 'devin': 8172, 'booker': 8173, \"suns'\": 8174, 'attributing': 8175, 'teammate': 8176, 'durant': 8177, \"clippers'\": 8178, 'aboard': 8179, 'papal': 8180, 'facilitate': 8181, 'childre': 8182, 'consequences': 8183, 'pr': 8184, \"vehicle's\": 8185, 'rapid': 8186, 'unscheduled': 8187, 'disassembly': 8188, 'immaterial': 8189, 'tools': 8190, 'decided': 8191, 'vetting': 8192, '2000': 8193, 'rush': 8194, 'nvidia': 8195, 'foundations': 8196, 'llms': 8197, 'proprietary': 8198, 'introducing': 8199, 'nemo': 8200, 'guardrails': 8201, 'generativ…': 8202, '‘scandal’': 8203, 'worst': 8204, 'regionprivate': 8205, 'landlords': 8206, 'housing': 8207, '“non': 8208, 'decent”': 8209, 'surgeon': 8210, 'joseph': 8211, 'ladapo': 8212, 'previous': 8213, 'resistance': 8214, 'mandates': 8215, 'vaccines': 8216, 'masks': 8217, 'bernard': 8218, 'henri': 8219, 'documenting': 8220, 'risking': 8221, 'kyle': 8222, 'vogt': 8223, 'robotaxi': 8224, 'operations': 8225, 'correspondents': 8226, 'dinner': 8227, 'fuel': 8228, 'extraction': 8229, 'lands': 8230, 'remarks': 8231, 'juan': 8232, 'merchan': 8233, 'cbs': 8234, \"news'\": 8235, 'minutes': 8236, 'initial': 8237, 'publi…': 8238, 'manslaughter': 8239, 'newborn': 8240, 'dog': 8241, 'gravel': 8242, 'pit': 8243, 'resnick': 8244, 'built': 8245, 'reactor': 8246, \"parent's\": 8247, 'framework': 8248, 'concernsgoogle’s': 8249, 'awake': 8250, '“very': 8251, 'harmful”': 8252, 'wrongl…': 8253, 'initiation': 8254, 'hyundai': 8255, 'cargo': 8256, 'transported': 8257, 'facility': 8258, 'isolated': 8259, 'movement': 8260, 'oil’s': 8261, 'interventionmy': 8262, 'aunt': 8263, 'suffragette': 8264, 'imprisoned': 8265, 'throwing': 8266, 'stones': 8267, 'whitehall': 8268, 'hero’s': 8269, 'unfettered': 8270, 'scenarios': 8271, 'nightmarish': 8272, 'strands': 8273, 'present': 8274, 'economy': 8275, 'pushed…': 8276, 'peeps': 8277, 'containing': 8278, 'dye': 8279, 'purple': 8280, 'candies': 8281, 'colorant': 8282, 'burst': 8283, 'eerily': 8284, 'responses': 8285, 'lit': 8286, 'riv…': 8287, 'bluesky': 8288, \"dorsey's\": 8289, 'invitation': 8290, 'arriving': 8291, 'functions': 8292, 'letting': 8293, 'user…': 8294, 'whatsapp': 8295, 'signal': 8296, 'rethink': 8297, 'osb': 8298, 'message': 8299, 'sender': 8300, 'achieving': 8301, 'liftoff': 8302, 'heavy': 8303, 'booster': 8304, '“for': 8305, 'courage': 8306, 'dedication': 8307, 'rspca’s': 8308, 'viewing': 8309, 'statisticsit': 8310, 'edged': 8311, 'horse': 8312, 'races': 8313, 'nat…': 8314, 'cinematographer': 8315, 'rehearsal': 8316, 'stagecoach': 8317, 'ferrytoll': 8318, 'and…': 8319, 'squashed': 8320, 'rumors': 8321, 'virtually': 8322, 'institute': 8323, 'lacked': 8324, 'nuance': 8325, 'maligned': 8326, 'toyota': 8327, 'prius': 8328, 'swanky': 8329, 'makeover': 8330, 'unsure': 8331, 'shift': 8332, 'affordable': 8333, 'attractive': 8334, 'awkward': 8335, 'laughter': 8336, 'themwhen': 8337, 'migrations': 8338, 'premiered': 8339, 'karachi': 8340, 'immediately': 8341, 'unagi': 8342, 'eel': 8343, 'rice': 8344, 'bowl': 8345, 'koichi': 8346, 'tani': 8347, 'mandatory': 8348, 'regimes': 8349, 'vary': 8350, 'visibility': 8351, 'regarding': 8352, 'scope': 8353, 'intensi…': 8354, 'rafael': 8355, 'chinchilla': 8356, 'simpsonville': 8357, 'penalties': 8358, 'renting': 8359, 'hauls': 8360, 'tires': 8361, 'mutants': 8362, 'apologized': 8363, 'adjust': 8364, 'settings': 8365, 'aprilthe': 8366, 'causing': 8367, 'capable': 8368, 'loud': 8369, 'siren': 8370, 'ags': 8371, 'urging': 8372, 'rampant': 8373, 'sharing': 8374, 'agriculture': 8375, 'hackers': 8376, 'chester': 8377, 'mossop': 8378, 'yearthe': 8379, 'drowning': 8380, 'chairs': 8381, 'restart': 8382, 'unresolved': 8383, 'pioneers': 8384, 'exit': 8385, 'geoffrey': 8386, 'hinton': 8387, 'nicknamed': 8388, 'godfather': 8389, 'tellsthe': 8390, 'resigned': 8391, 'vp': 8392, 'engineering': 8393, 'freely': 8394, 'warn': 8395, 'fearsthe': 8396, 'cancelled': 8397, 'rishi': 8398, 'acknowledged': 8399, 'aide': 8400, 'stunt': 8401, 'columbus': 8402, 'halo': 8403, 'amazon’s': 8404, 'ongoing': 8405, 'foray': 8406, 'wellness': 8407, 'sensing': 8408, 'calculate': 8409, 'slept': 8410, 'google’s': 8411, 'ne…': 8412, 'pregnancy': 8413, 'weeksthe': 8414, 'pill': 8415, 'is\\xa0florida\\xa0really': 8416, 'r21': 8417, '‘hopefully': 8418, 'made’': 8419, '\\u200bjohnson': 8420, '\\u200band': 8421, '\\u200bvallas\\u200b': 8422, 'runoff\\u200b': 8423, \"chicago's\": 8424, 'lightfoot': 8425, 'coalition’s': 8426, 'steering': 8427, 'dashcam': 8428, 'wired': 8429, 'trains': 8430, 'driverless': 8431, 'stopping': 8432, 'delaying': 8433, \"starship's\": 8434, 'launchpad': 8435, 'faa': 8436, 'prized': 8437, 'problems': 8438, 'promotion': 8439, 'product': 8440, 'prescription': 8441, 'medicinenine': 8442, 'advertising': 8443, 'botox': 8444, 'sparking': 8445, 'booming': 8446, '£3': 8447, 'cosmetic': 8448, 'remarkable': 8449, 'royals': 8450, 'disrupt': 8451, 'illicit': 8452, 'attraction': 8453, 'euthanised': 8454, 'disasters': 8455, 'sourcein': 8456, 'janica': 8457, 'jammes': 8458, 'microgreens': 8459, 'basement': 8460, 'lake': 8461, 'salads': 8462, 'contain': 8463, 'lettuce': 8464, 'contaminated': 8465, 'listeria': 8466, 'bacteria': 8467, \"agriculture's\": 8468, 'inspection': 8469, 'fsis': 8470, 'tennis': 8471, 'instituted': 8472, 'peng': 8473, 'shuai': 8474, 'fumble': 8475, 'squabbles': 8476, 'resort': 8477, 'jogger': 8478, 'reintroduction': 8479, 'fraught': 8480, 'steps': 8481, 'commerce': 8482, 'comment': 8483, 'recommendations': 8484, 'audit': 8485, 'studying': 8486, 'cheaply': 8487, 'midwest': 8488, 'niche': 8489, 'freak': 8490, 'mainstream': 8491, 'edinburgh': 8492, 'announc…': 8493, 'contributors': 8494, 'inafter': 8495, 'debacle': 8496, 'establish': 8497, 'credibility': 8498, 'aren…': 8499, 'automated': 8500, 'essential': 8501, 'musk’s': 8502, 'flailing': 8503, 'rid': 8504, 'bots': 8505, 'squeeze': 8506, 'application': 8507, 'programming': 8508, 'interface': 8509, 'api': 8510, 'ethicist': 8511, 'lamda': 8512, 'llm': 8513, 'sentient': 8514, 'futurism': 8515, 'blake': 8516, 'lemoine': 8517, \"humankind's\": 8518, 'relationship': 8519, 'understan…': 8520, 'breed': 8521, 'square': 8522, 'cto': 8523, 'stabbed': 8524, 'smashed': 8525, 'cairns': 8526, \"australia's\": 8527, 'shooting\\xa0\\xa0ctv': 8528, 'investigate': 8529, 'bus\\xa0\\xa0global': 8530, 'leaves': 8531, 'downtown…': 8532, '£12': 8533, 'breaches': 8534, 'handled': 8535, \"commissioner's\": 8536, 'ico': 8537, '20…': 8538, 'overlooking': 8539, 'unionemployers': 8540, 'unpunished': 8541, 'nursing': 8542, 'riskone': 8543, 'england’s': 8544, 'exemptions': 8545, 'nurses': 8546, 'tupperware': 8547, 'household': 8548, 'stash': 8549, 'containers': 8550, 'vintag…': 8551, 'deterioration': 8552, '‘threat': 8553, 'safety’four': 8554, 'emptied': 8555, 'inspections': 8556, 'collapse': 8557, 'pers…': 8558, 'britons': 8559, 'phoneguardian': 8560, '“there’s': 8561, 'underway': 8562, 'airborne': 8563, 'hungary': 8564, 'maximise': 8565}\n"
     ]
    }
   ],
   "source": [
    "MyTokenizer = Tokenizer(num_words=20000)\n",
    "MyTokenizer.fit_on_texts(sentences)\n",
    "\n",
    "print(MyTokenizer.word_index)"
   ]
  },
  {
   "cell_type": "code",
   "execution_count": 18,
   "id": "f01ae074",
   "metadata": {
    "scrolled": true
   },
   "outputs": [
    {
     "name": "stdout",
     "output_type": "stream",
     "text": [
      "8566\n"
     ]
    }
   ],
   "source": [
    "AllData= MyTokenizer.texts_to_sequences(sentences)\n",
    "vocab_size = len(MyTokenizer.word_index) + 1  \n",
    "print(vocab_size)"
   ]
  },
  {
   "cell_type": "code",
   "execution_count": 19,
   "id": "8eb43af4",
   "metadata": {},
   "outputs": [],
   "source": [
    "y = Y.values"
   ]
  },
  {
   "cell_type": "code",
   "execution_count": 20,
   "id": "c0bea407",
   "metadata": {},
   "outputs": [],
   "source": [
    "from keras_preprocessing.sequence import pad_sequences\n"
   ]
  },
  {
   "cell_type": "code",
   "execution_count": 21,
   "id": "7281a994",
   "metadata": {},
   "outputs": [
    {
     "name": "stdout",
     "output_type": "stream",
     "text": [
      "[681 376 864 682  15  19 183   5   6   7   0   0   0   0   0   0   0   0\n",
      "   0   0   0   0   0   0   0   0   0   0   0   0   0   0   0   0   0   0\n",
      "   0   0   0   0   0   0   0   0   0   0   0   0   0   0   0   0   0   0\n",
      "   0   0   0   0   0   0   0   0   0   0   0   0   0   0   0   0   0   0\n",
      "   0   0   0   0   0   0   0   0   0   0   0   0   0   0   0   0   0   0\n",
      "   0   0   0   0   0   0   0   0   0   0   0   0   0   0   0   0   0   0\n",
      "   0   0   0   0   0   0   0   0   0   0   0   0   0   0   0   0   0   0\n",
      "   0   0   0   0   0   0   0   0   0   0   0   0   0   0   0   0   0   0\n",
      "   0   0   0   0   0   0   0   0   0   0   0   0   0   0   0   0   0   0\n",
      "   0   0   0   0   0   0   0   0   0   0   0   0   0   0   0   0   0   0\n",
      "   0   0   0   0   0   0   0   0   0   0   0   0   0   0   0   0   0   0\n",
      "   0   0   0   0   0   0   0   0   0   0   0   0   0   0   0   0   0   0\n",
      "   0   0   0   0   0   0   0   0   0   0   0   0   0   0   0   0   0   0\n",
      "   0   0   0   0   0   0   0   0   0   0   0   0   0   0   0   0   0   0\n",
      "   0   0   0   0   0   0   0   0   0   0   0   0   0   0   0   0   0   0\n",
      "   0   0   0   0   0   0   0   0   0   0   0   0   0   0   0   0   0   0\n",
      "   0   0   0   0   0   0   0   0   0   0   0   0   0   0   0   0   0   0\n",
      "   0   0   0   0   0   0   0   0   0   0   0   0   0   0   0   0   0   0\n",
      "   0   0   0   0   0   0   0   0   0   0   0   0   0   0   0   0   0   0\n",
      "   0   0   0   0   0   0   0   0   0   0   0   0   0   0   0   0   0   0\n",
      "   0   0   0   0   0   0   0   0   0   0   0   0   0   0   0   0   0   0\n",
      "   0   0   0   0   0   0   0   0   0   0   0   0   0   0   0   0   0   0\n",
      "   0   0   0   0   0   0   0   0   0   0   0   0   0   0   0   0   0   0\n",
      "   0   0   0   0   0   0   0   0   0   0   0   0   0   0   0   0   0   0\n",
      "   0   0   0   0   0   0   0   0   0   0   0   0   0   0   0   0   0   0\n",
      "   0   0   0   0   0   0   0   0   0   0   0   0   0   0   0   0   0   0\n",
      "   0   0   0   0   0   0   0   0   0   0   0   0   0   0   0   0   0   0\n",
      "   0   0   0   0   0   0   0   0   0   0   0   0   0   0   0   0   0   0\n",
      "   0   0   0   0   0   0   0   0   0   0   0   0   0   0   0   0   0   0\n",
      "   0   0   0   0   0   0   0   0   0   0   0   0   0   0   0   0   0   0\n",
      "   0   0   0   0   0   0   0   0   0   0   0   0   0   0   0   0   0   0\n",
      "   0   0   0   0   0   0   0   0   0   0   0   0   0   0   0   0   0   0\n",
      "   0   0   0   0   0   0   0   0   0   0   0   0   0   0   0   0   0   0\n",
      "   0   0   0   0   0   0]\n",
      "[[681 376 864 ...   0   0   0]\n",
      " [278  27 278 ...   0   0   0]\n",
      " [866 867 868 ...   0   0   0]\n",
      " ...\n",
      " [363   1 820 ...   0   0   0]\n",
      " [504 233  39 ...   0   0   0]\n",
      " [ 21 788  15 ...   0   0   0]]\n",
      "<class 'numpy.ndarray'>\n",
      "1\n"
     ]
    }
   ],
   "source": [
    "maxlen = 600\n",
    "\n",
    "AllData = pad_sequences(AllData, padding='post', maxlen=maxlen)\n",
    "print(AllData[0, :]) ## Row 0 and all columns\n",
    "print(AllData)\n",
    "print(type(y))\n",
    "print(y[0])"
   ]
  },
  {
   "cell_type": "code",
   "execution_count": 22,
   "id": "cf3482fb",
   "metadata": {},
   "outputs": [
    {
     "name": "stdout",
     "output_type": "stream",
     "text": [
      "(3865, 600)\n"
     ]
    }
   ],
   "source": [
    "print(AllData.shape)"
   ]
  },
  {
   "cell_type": "code",
   "execution_count": 23,
   "id": "b695092e",
   "metadata": {},
   "outputs": [
    {
     "name": "stdout",
     "output_type": "stream",
     "text": [
      "[1430 2834 2747 ... 2534   25  126]\n"
     ]
    }
   ],
   "source": [
    "MySample=np.random.choice(3865, size=1200, replace=False, p=None)\n",
    "print(MySample)\n",
    "\n",
    "TestingData=[]\n",
    "TrainingData=[]\n",
    "TrainingLabels=[]\n",
    "TestingLabels=[]\n",
    "\n",
    "for i in range(0,3865):\n",
    "    #print(i)\n",
    "    if i in MySample:\n",
    "        TestingData.append(AllData[i])\n",
    "        TestingLabels.append(y[i])\n",
    "    else:\n",
    "        TrainingData.append(AllData[i])\n",
    "        TrainingLabels.append(y[i])\n",
    " "
   ]
  },
  {
   "cell_type": "code",
   "execution_count": 24,
   "id": "e7f7bf84",
   "metadata": {},
   "outputs": [
    {
     "name": "stdout",
     "output_type": "stream",
     "text": [
      "[[   2 2750  775 ...    0    0    0]\n",
      " [4075 2182 4076 ...    0    0    0]\n",
      " [ 154  109  162 ...    0    0    0]\n",
      " ...\n",
      " [1011 1012  522 ...    0    0    0]\n",
      " [ 363    1  820 ...    0    0    0]\n",
      " [  21  788   15 ...    0    0    0]]\n",
      "1200\n",
      "[1, 1, 1, 1, 1, 1, 1, 1, 1, 1, 1, 1, 1, 1, 1, 1, 1, 1, 1, 1, 1, 1, 1, 1, 1, 1, 1, 1, 1, 1, 1, 1, 1, 1, 1, 1, 1, 1, 1, 1, 1, 1, 1, 1, 1, 1, 1, 1, 1, 1, 1, 1, 1, 1, 1, 1, 1, 1, 1, 1, 1, 1, 1, 1, 1, 1, 1, 1, 1, 1, 1, 1, 1, 1, 1, 1, 1, 1, 1, 1, 1, 1, 1, 1, 1, 1, 1, 1, 1, 1, 1, 1, 1, 1, 1, 1, 1, 1, 1, 1, 1, 1, 1, 1, 1, 1, 1, 1, 1, 1, 1, 1, 1, 1, 1, 1, 1, 1, 1, 1, 1, 1, 1, 1, 1, 1, 1, 1, 1, 1, 1, 1, 1, 1, 1, 1, 1, 1, 1, 1, 1, 1, 1, 1, 1, 1, 1, 1, 1, 1, 1, 1, 1, 1, 1, 1, 1, 1, 1, 1, 1, 1, 1, 1, 1, 1, 1, 1, 1, 1, 1, 1, 1, 1, 1, 1, 1, 1, 1, 1, 1, 1, 1, 1, 1, 1, 1, 1, 1, 1, 1, 1, 1, 1, 1, 1, 1, 1, 1, 1, 1, 1, 1, 1, 1, 1, 1, 1, 1, 1, 1, 1, 1, 1, 1, 1, 1, 1, 1, 1, 1, 1, 1, 1, 1, 1, 1, 1, 1, 1, 1, 1, 1, 1, 1, 1, 1, 1, 1, 1, 1, 1, 1, 1, 1, 1, 1, 1, 1, 1, 1, 1, 1, 1, 1, 1, 1, 1, 1, 1, 1, 1, 1, 1, 1, 1, 1, 1, 1, 1, 1, 1, 1, 1, 1, 1, 0, 0, 0, 0, 0, 0, 0, 0, 0, 0, 0, 0, 0, 0, 0, 0, 0, 0, 0, 0, 0, 0, 0, 0, 0, 0, 0, 0, 0, 0, 0, 0, 0, 0, 0, 0, 0, 0, 0, 0, 0, 0, 0, 0, 0, 0, 0, 0, 0, 0, 0, 0, 0, 0, 0, 0, 0, 0, 0, 0, 0, 0, 0, 0, 0, 0, 0, 0, 0, 0, 0, 0, 0, 0, 0, 0, 0, 0, 0, 0, 0, 0, 0, 0, 0, 0, 0, 0, 0, 0, 0, 0, 0, 0, 0, 0, 0, 0, 0, 0, 0, 0, 0, 0, 0, 0, 0, 0, 0, 0, 0, 0, 0, 0, 0, 0, 0, 0, 0, 0, 0, 0, 0, 0, 0, 0, 0, 0, 0, 0, 0, 0, 0, 0, 0, 0, 0, 0, 0, 0, 0, 0, 0, 0, 0, 0, 0, 0, 0, 0, 0, 0, 0, 0, 0, 0, 0, 0, 0, 0, 0, 0, 0, 0, 0, 0, 0, 0, 0, 0, 0, 0, 1, 1, 1, 1, 1, 1, 1, 1, 1, 1, 1, 1, 1, 1, 1, 1, 1, 1, 1, 1, 1, 1, 1, 1, 1, 1, 1, 1, 1, 1, 1, 1, 1, 1, 1, 1, 1, 1, 1, 1, 1, 1, 1, 1, 1, 1, 1, 1, 1, 1, 1, 1, 1, 1, 1, 1, 1, 1, 1, 1, 1, 1, 1, 1, 1, 1, 1, 1, 1, 1, 1, 1, 1, 1, 1, 1, 1, 0, 0, 0, 0, 0, 0, 0, 0, 0, 0, 0, 0, 0, 0, 0, 0, 0, 0, 0, 0, 0, 0, 0, 0, 0, 0, 0, 0, 0, 0, 0, 0, 0, 0, 0, 0, 0, 0, 0, 0, 0, 0, 0, 0, 0, 0, 0, 0, 0, 0, 0, 0, 0, 0, 0, 0, 0, 0, 0, 0, 0, 0, 0, 0, 0, 0, 0, 0, 0, 0, 0, 0, 0, 0, 0, 0, 0, 0, 0, 0, 0, 0, 0, 0, 0, 0, 0, 0, 0, 0, 0, 0, 0, 0, 0, 0, 0, 1, 1, 1, 1, 1, 1, 1, 1, 1, 1, 1, 1, 1, 1, 1, 1, 1, 1, 1, 1, 1, 1, 1, 1, 1, 1, 1, 1, 1, 1, 1, 1, 1, 1, 1, 1, 1, 1, 1, 1, 1, 1, 1, 1, 1, 1, 1, 1, 1, 1, 1, 1, 1, 1, 1, 1, 1, 1, 1, 1, 1, 1, 1, 1, 1, 1, 1, 1, 1, 1, 1, 1, 1, 1, 1, 1, 1, 1, 1, 1, 1, 1, 1, 1, 1, 1, 1, 1, 1, 1, 1, 1, 1, 1, 1, 1, 1, 1, 1, 0, 0, 0, 0, 0, 0, 0, 0, 0, 0, 0, 0, 0, 0, 0, 0, 0, 0, 0, 0, 0, 0, 0, 0, 0, 0, 0, 0, 0, 0, 0, 0, 0, 0, 0, 0, 0, 0, 0, 0, 0, 0, 0, 0, 0, 0, 0, 0, 0, 0, 0, 0, 0, 0, 0, 0, 0, 0, 0, 0, 0, 0, 0, 0, 0, 0, 0, 0, 0, 0, 0, 0, 0, 0, 0, 0, 0, 0, 0, 0, 0, 0, 0, 0, 0, 0, 0, 0, 0, 0, 0, 0, 0, 0, 0, 0, 0, 0, 0, 0, 0, 0, 0, 0, 0, 0, 0, 0, 0, 0, 0, 0, 0, 0, 0, 0, 0, 0, 0, 0, 0, 0, 0, 0, 0, 0, 0, 0, 0, 0, 0, 0, 0, 0, 0, 0, 0, 0, 0, 0, 0, 0, 0, 0, 0, 0, 0, 0, 0, 0, 0, 0, 0, 0, 0, 0, 0, 0, 0, 0, 0, 0, 0, 0, 0, 0, 0, 0, 0, 0, 0, 0, 0, 0, 0, 0, 0, 0, 0, 0, 0, 0, 0, 0, 0, 0, 0, 0, 0, 0, 0, 0, 0, 0, 0, 0, 0, 0, 0, 0, 0, 0, 0, 0, 0, 0, 0, 0, 0, 0, 0, 0, 0, 0, 0, 0, 0, 0, 0, 0, 0, 0, 0, 0, 0, 0, 0, 0, 0, 0, 0, 0, 0, 0, 0, 0, 0, 0, 0, 0, 0, 0, 0, 0, 0, 0, 0, 0, 0, 0, 0, 0, 0, 0, 0, 0, 0, 0, 0, 0, 0, 0, 0, 0, 0, 0, 0, 0, 0, 0, 0, 0, 0, 0, 0, 0, 0, 0, 0, 0, 0, 1, 1, 1, 1, 1, 1, 1, 1, 1, 1, 1, 1, 1, 1, 1, 1, 1, 1, 1, 1, 1, 1, 1, 1, 1, 1, 1, 1, 1, 1, 1, 1, 1, 1, 1, 1, 1, 1, 1, 1, 1, 1, 1, 1, 1, 1, 1, 1, 1, 1, 1, 1, 1, 1, 1, 1, 1, 1, 1, 1, 1, 1, 1, 1, 1, 1, 1, 1, 1, 1, 1, 1, 1, 1, 1, 1, 1, 1, 1, 1, 1, 1, 1, 1, 1, 1, 1, 1, 1, 1, 1, 1, 1, 1, 1, 1, 1, 1, 1, 1, 1, 1, 1, 1, 1, 1, 1, 1, 0, 0, 0, 0, 0, 0, 0, 0, 0, 0, 0, 0, 0, 0, 0, 0, 0, 0, 0, 0, 0, 0, 0, 0, 0, 0, 0, 0, 0, 0, 0, 0, 0, 0, 0, 0, 0, 0, 0, 0, 0, 0, 0, 0, 0, 0, 0, 0, 0, 0, 0, 0, 0, 0, 0, 0, 0, 0, 0, 0, 0, 0, 0, 0, 0, 0, 0, 0, 0, 0, 0, 0, 0, 0, 0, 0, 0, 0, 0, 0, 0, 0, 0, 0, 0, 0, 0, 0, 0, 0]\n",
      "1200\n",
      "[[ 681  376  864 ...    0    0    0]\n",
      " [ 278   27  278 ...    0    0    0]\n",
      " [ 866  867  868 ...    0    0    0]\n",
      " ...\n",
      " [2638 2639   77 ...    0    0    0]\n",
      " [ 138  613  289 ...    0    0    0]\n",
      " [ 504  233   39 ...    0    0    0]]\n",
      "2665\n",
      "[1, 1, 1, 1, 1, 1, 1, 1, 1, 1, 1, 1, 1, 1, 1, 1, 1, 1, 1, 1, 1, 1, 1, 1, 1, 1, 1, 1, 1, 1, 1, 1, 1, 1, 1, 1, 1, 1, 1, 1, 1, 1, 1, 1, 1, 1, 1, 1, 1, 1, 1, 1, 1, 1, 1, 1, 1, 1, 1, 1, 1, 1, 1, 1, 1, 1, 1, 1, 1, 1, 1, 1, 1, 1, 1, 1, 1, 1, 1, 1, 1, 1, 1, 1, 1, 1, 1, 1, 1, 1, 1, 1, 1, 1, 1, 1, 1, 1, 1, 1, 1, 1, 1, 1, 1, 1, 1, 1, 1, 1, 1, 1, 1, 1, 1, 1, 1, 1, 1, 1, 1, 1, 1, 1, 1, 1, 1, 1, 1, 1, 1, 1, 1, 1, 1, 1, 1, 1, 1, 1, 1, 1, 1, 1, 1, 1, 1, 1, 1, 1, 1, 1, 1, 1, 1, 1, 1, 1, 1, 1, 1, 1, 1, 1, 1, 1, 1, 1, 1, 1, 1, 1, 1, 1, 1, 1, 1, 1, 1, 1, 1, 1, 1, 1, 1, 1, 1, 1, 1, 1, 1, 1, 1, 1, 1, 1, 1, 1, 1, 1, 1, 1, 1, 1, 1, 1, 1, 1, 1, 1, 1, 1, 1, 1, 1, 1, 1, 1, 1, 1, 1, 1, 1, 1, 1, 1, 1, 1, 1, 1, 1, 1, 1, 1, 1, 1, 1, 1, 1, 1, 1, 1, 1, 1, 1, 1, 1, 1, 1, 1, 1, 1, 1, 1, 1, 1, 1, 1, 1, 1, 1, 1, 1, 1, 1, 1, 1, 1, 1, 1, 1, 1, 1, 1, 1, 1, 1, 1, 1, 1, 1, 1, 1, 1, 1, 1, 1, 1, 1, 1, 1, 1, 1, 1, 1, 1, 1, 1, 1, 1, 1, 1, 1, 1, 1, 1, 1, 1, 1, 1, 1, 1, 1, 1, 1, 1, 1, 1, 1, 1, 1, 1, 1, 1, 1, 1, 1, 1, 1, 1, 1, 1, 1, 1, 1, 1, 1, 1, 1, 1, 1, 1, 1, 1, 1, 1, 1, 1, 1, 1, 1, 1, 1, 1, 1, 1, 1, 1, 1, 1, 1, 1, 1, 1, 1, 1, 1, 1, 1, 1, 1, 1, 1, 1, 1, 1, 1, 1, 1, 1, 1, 1, 1, 1, 1, 1, 1, 1, 1, 1, 1, 1, 1, 1, 1, 1, 1, 1, 1, 1, 1, 1, 1, 1, 1, 1, 1, 1, 1, 1, 1, 1, 1, 1, 1, 1, 1, 1, 1, 1, 1, 1, 1, 1, 1, 1, 1, 1, 1, 1, 1, 1, 1, 1, 1, 1, 1, 1, 1, 1, 1, 1, 1, 1, 1, 1, 1, 1, 1, 1, 1, 1, 1, 1, 1, 1, 1, 1, 1, 1, 1, 1, 1, 1, 1, 1, 1, 1, 1, 1, 1, 1, 1, 1, 1, 1, 1, 1, 1, 1, 1, 1, 1, 1, 1, 1, 1, 1, 1, 1, 1, 1, 1, 1, 1, 1, 1, 1, 1, 1, 1, 1, 1, 1, 1, 1, 1, 1, 1, 1, 1, 1, 1, 1, 1, 1, 1, 1, 1, 1, 1, 1, 1, 1, 1, 1, 1, 1, 1, 1, 1, 1, 1, 1, 1, 1, 1, 1, 1, 1, 1, 1, 1, 1, 1, 1, 1, 1, 1, 1, 1, 1, 1, 1, 1, 1, 1, 1, 1, 1, 1, 1, 1, 1, 1, 1, 1, 1, 1, 1, 1, 1, 1, 1, 1, 1, 1, 1, 1, 1, 1, 1, 1, 1, 1, 1, 1, 1, 1, 1, 1, 1, 1, 1, 1, 1, 1, 1, 1, 1, 1, 1, 1, 1, 1, 1, 1, 1, 1, 1, 1, 1, 1, 1, 1, 1, 1, 1, 1, 1, 1, 1, 1, 1, 0, 0, 0, 0, 0, 0, 0, 0, 0, 0, 0, 0, 0, 0, 0, 0, 0, 0, 0, 0, 0, 0, 0, 0, 0, 0, 0, 0, 0, 0, 0, 0, 0, 0, 0, 0, 0, 0, 0, 0, 0, 0, 0, 0, 0, 0, 0, 0, 0, 0, 0, 0, 0, 0, 0, 0, 0, 0, 0, 0, 0, 0, 0, 0, 0, 0, 0, 0, 0, 0, 0, 0, 0, 0, 0, 0, 0, 0, 0, 0, 0, 0, 0, 0, 0, 0, 0, 0, 0, 0, 0, 0, 0, 0, 0, 0, 0, 0, 0, 0, 0, 0, 0, 0, 0, 0, 0, 0, 0, 0, 0, 0, 0, 0, 0, 0, 0, 0, 0, 0, 0, 0, 0, 0, 0, 0, 0, 0, 0, 0, 0, 0, 0, 0, 0, 0, 0, 0, 0, 0, 0, 0, 0, 0, 0, 0, 0, 0, 0, 0, 0, 0, 0, 0, 0, 0, 0, 0, 0, 0, 0, 0, 0, 0, 0, 0, 0, 0, 0, 0, 0, 0, 0, 0, 0, 0, 0, 0, 0, 0, 0, 0, 0, 0, 0, 0, 0, 0, 0, 0, 0, 0, 0, 0, 0, 0, 0, 0, 0, 0, 0, 0, 0, 0, 0, 0, 0, 0, 0, 0, 0, 0, 0, 0, 0, 0, 0, 0, 0, 0, 0, 0, 0, 0, 0, 0, 0, 0, 0, 0, 0, 0, 0, 0, 0, 0, 0, 0, 0, 0, 0, 0, 0, 0, 0, 0, 0, 0, 0, 0, 0, 0, 0, 0, 0, 0, 0, 0, 0, 0, 0, 0, 0, 0, 0, 0, 0, 0, 0, 0, 0, 0, 0, 0, 0, 0, 0, 0, 0, 0, 0, 0, 0, 0, 0, 0, 0, 0, 0, 0, 0, 0, 0, 0, 0, 0, 0, 0, 0, 0, 0, 0, 0, 0, 0, 0, 0, 0, 0, 0, 0, 0, 0, 0, 0, 0, 0, 0, 0, 0, 0, 0, 0, 0, 0, 0, 0, 0, 0, 0, 0, 0, 0, 0, 0, 0, 0, 0, 0, 0, 0, 0, 0, 0, 0, 0, 0, 0, 0, 0, 0, 0, 0, 0, 0, 0, 0, 0, 0, 0, 0, 0, 0, 0, 0, 0, 0, 0, 0, 0, 0, 0, 0, 0, 0, 0, 0, 0, 0, 0, 0, 0, 0, 0, 0, 0, 0, 0, 0, 0, 0, 0, 0, 1, 1, 1, 1, 1, 1, 1, 1, 1, 1, 1, 1, 1, 1, 1, 1, 1, 1, 1, 1, 1, 1, 1, 1, 1, 1, 1, 1, 1, 1, 1, 1, 1, 1, 1, 1, 1, 1, 1, 1, 1, 1, 1, 1, 1, 1, 1, 1, 1, 1, 1, 1, 1, 1, 1, 1, 1, 1, 1, 1, 1, 1, 1, 1, 1, 1, 1, 1, 1, 1, 1, 1, 1, 1, 1, 1, 1, 1, 1, 1, 1, 1, 1, 1, 1, 1, 1, 1, 1, 1, 1, 1, 1, 1, 1, 1, 1, 1, 1, 1, 1, 1, 1, 1, 1, 1, 1, 1, 1, 1, 1, 1, 1, 1, 1, 1, 1, 1, 1, 1, 1, 1, 1, 1, 1, 1, 1, 1, 1, 1, 1, 1, 1, 1, 1, 1, 1, 1, 1, 1, 1, 1, 1, 1, 1, 1, 1, 1, 1, 1, 1, 1, 1, 1, 1, 1, 1, 1, 1, 1, 1, 1, 1, 1, 1, 1, 1, 1, 1, 1, 1, 1, 1, 1, 1, 1, 1, 1, 1, 1, 1, 1, 1, 1, 1, 1, 1, 1, 1, 1, 1, 1, 1, 1, 1, 1, 1, 1, 1, 1, 1, 1, 1, 1, 1, 1, 1, 1, 1, 1, 1, 1, 1, 1, 1, 1, 1, 1, 1, 1, 1, 1, 1, 0, 0, 0, 0, 0, 0, 0, 0, 0, 0, 0, 0, 0, 0, 0, 0, 0, 0, 0, 0, 0, 0, 0, 0, 0, 0, 0, 0, 0, 0, 0, 0, 0, 0, 0, 0, 0, 0, 0, 0, 0, 0, 0, 0, 0, 0, 0, 0, 0, 0, 0, 0, 0, 0, 0, 0, 0, 0, 0, 0, 0, 0, 0, 0, 0, 0, 0, 0, 0, 0, 0, 0, 0, 0, 0, 0, 0, 0, 0, 0, 0, 0, 0, 0, 0, 0, 0, 0, 0, 0, 0, 0, 0, 0, 0, 0, 0, 0, 0, 0, 0, 0, 0, 0, 0, 0, 0, 0, 0, 0, 0, 0, 0, 0, 0, 0, 0, 0, 0, 0, 0, 0, 0, 0, 0, 0, 0, 0, 0, 0, 0, 0, 0, 0, 0, 0, 0, 0, 0, 0, 0, 0, 0, 0, 0, 0, 0, 0, 0, 0, 0, 0, 0, 0, 0, 0, 0, 0, 0, 0, 0, 0, 0, 0, 0, 0, 0, 0, 0, 0, 0, 0, 0, 0, 0, 0, 0, 0, 0, 0, 0, 0, 0, 0, 0, 0, 0, 0, 0, 0, 0, 0, 0, 0, 0, 0, 0, 0, 0, 0, 0, 0, 0, 1, 1, 1, 1, 1, 1, 1, 1, 1, 1, 1, 1, 1, 1, 1, 1, 1, 1, 1, 1, 1, 1, 1, 1, 1, 1, 1, 1, 1, 1, 1, 1, 1, 1, 1, 1, 1, 1, 1, 1, 1, 1, 1, 1, 1, 1, 1, 1, 1, 1, 1, 1, 1, 1, 1, 1, 1, 1, 1, 1, 1, 1, 1, 1, 1, 1, 1, 1, 1, 1, 1, 1, 1, 1, 1, 1, 1, 1, 1, 1, 1, 1, 1, 1, 1, 1, 1, 1, 1, 1, 1, 1, 1, 1, 1, 1, 1, 1, 1, 1, 1, 1, 1, 1, 1, 1, 1, 1, 1, 1, 1, 1, 1, 1, 1, 1, 1, 1, 1, 1, 1, 1, 1, 1, 1, 1, 1, 1, 1, 1, 1, 1, 1, 1, 1, 1, 1, 1, 1, 1, 1, 1, 1, 1, 1, 1, 1, 1, 1, 1, 1, 1, 1, 1, 1, 1, 1, 1, 1, 1, 1, 1, 1, 1, 1, 1, 1, 1, 1, 1, 1, 1, 1, 1, 1, 1, 1, 1, 1, 1, 1, 1, 1, 1, 1, 1, 1, 1, 1, 1, 1, 1, 1, 1, 1, 1, 1, 1, 1, 1, 1, 0, 0, 0, 0, 0, 0, 0, 0, 0, 0, 0, 0, 0, 0, 0, 0, 0, 0, 0, 0, 0, 0, 0, 0, 0, 0, 0, 0, 0, 0, 0, 0, 0, 0, 0, 0, 0, 0, 0, 0, 0, 0, 0, 0, 0, 0, 0, 0, 0, 0, 0, 0, 0, 0, 0, 0, 0, 0, 0, 0, 0, 0, 0, 0, 0, 0, 0, 0, 0, 0, 0, 0, 0, 0, 0, 0, 0, 0, 0, 0, 0, 0, 0, 0, 0, 0, 0, 0, 0, 0, 0, 0, 0, 0, 0, 0, 0, 0, 0, 0, 0, 0, 0, 0, 0, 0, 0, 0, 0, 0, 0, 0, 0, 0, 0, 0, 0, 0, 0, 0, 0, 0, 0, 0, 0, 0, 0, 0, 0, 0, 0, 0, 0, 0, 0, 0, 0, 0, 0, 0, 0, 0, 0, 0, 0, 0, 0, 0, 0, 0, 0, 0, 0, 0, 0, 0, 0, 0, 0, 0, 0, 0, 0, 0, 0, 0, 0, 0, 0, 0, 0, 0, 0, 0, 0, 0, 0, 0, 0, 0, 0, 0, 0, 0, 0, 0, 0, 0, 0, 0, 0, 0, 0, 0, 0, 0, 0, 0, 0, 0, 0, 0, 0, 0, 0, 0, 0, 0, 0, 0, 0, 0, 0, 0, 0, 0, 0, 0, 0, 0, 0, 0, 0, 0, 0, 0, 0, 0, 0, 0, 0, 0, 0, 0, 0, 0, 0, 0, 0, 0, 0, 0, 0, 0, 0, 0, 0, 0, 0, 0, 0, 0, 0, 0, 0, 0, 0, 0, 0, 0, 0, 0, 0, 0, 0, 0, 0, 0, 0, 0, 0, 0, 0, 0, 0, 0, 0, 0, 0, 0, 0, 0, 0, 0, 0, 0, 0, 0, 0, 0, 0, 0, 0, 0, 0, 0, 0, 0, 0, 0, 0, 0, 0, 0, 0, 0, 0, 0, 0, 0, 0, 0, 0, 0, 0, 0, 0, 0, 0, 0, 0, 0, 0, 0, 0, 0, 0, 0, 0, 0, 0, 0, 0, 0, 0, 0, 0, 0, 0, 0, 0, 0, 0, 0, 0, 0, 0, 0, 0, 0, 0, 0, 0, 0, 0, 0, 0, 0, 0, 0, 0, 0, 0, 0, 0, 0, 0, 0, 0, 0, 0, 0, 0, 0, 0, 0, 0, 0, 0, 0, 0, 0, 0, 0, 0, 0, 0, 0, 0, 0, 0, 0, 0, 0, 0, 0, 0, 0, 0, 0, 0, 0, 0, 0, 0, 0, 0, 0, 0, 0, 0, 0, 0, 0, 0, 0, 0, 0, 0, 0, 0, 0, 0, 0, 0, 0, 0, 0, 0, 0, 0, 0, 0, 0, 0, 0, 0, 0, 0, 0, 0, 0, 0, 0, 0, 0, 0, 0, 0, 0, 0, 0, 0, 0, 0, 0, 0, 0, 0, 0, 0, 0, 0, 0, 0, 0, 0, 0, 0, 0, 0, 0, 0, 0, 0, 0, 0, 0, 0, 0, 0, 0, 0, 0, 0, 0, 0, 0, 0, 0, 0, 0, 0, 0, 0, 0, 0, 0, 0, 0, 0, 0, 0, 0, 0, 0, 0, 0, 0, 0, 0, 0, 0, 0, 0, 0, 0, 0, 0, 0, 0, 0, 0, 0, 0, 0, 0, 0, 0, 0, 0, 0, 0, 0, 0, 0, 0, 0, 0, 0, 0, 0, 0, 0, 0, 0, 0, 0, 0, 0, 0, 0, 0, 0, 0, 0, 0, 0, 0, 0, 0, 0, 0, 0, 0, 0, 0, 0, 0, 0, 0, 0, 0, 0, 0, 0, 0, 0, 0, 0, 0, 0, 0, 0, 0, 0, 0, 0, 0, 0, 0, 0, 0, 0, 0, 0, 0, 0, 0, 0, 0, 0, 0, 0, 0, 0, 0, 0, 0, 0, 0, 0, 0, 0, 0, 0, 0, 0, 0, 1, 1, 1, 1, 1, 1, 1, 1, 1, 1, 1, 1, 1, 1, 1, 1, 1, 1, 1, 1, 1, 1, 1, 1, 1, 1, 1, 1, 1, 1, 1, 1, 1, 1, 1, 1, 1, 1, 1, 1, 1, 1, 1, 1, 1, 1, 1, 1, 1, 1, 1, 1, 1, 1, 1, 1, 1, 1, 1, 1, 1, 1, 1, 1, 1, 1, 1, 1, 1, 1, 1, 1, 1, 1, 1, 1, 1, 1, 1, 1, 1, 1, 1, 1, 1, 1, 1, 1, 1, 1, 1, 1, 1, 1, 1, 1, 1, 1, 1, 1, 1, 1, 1, 1, 1, 1, 1, 1, 1, 1, 1, 1, 1, 1, 1, 1, 1, 1, 1, 1, 1, 1, 1, 1, 1, 1, 1, 1, 1, 1, 1, 1, 1, 1, 1, 1, 1, 1, 1, 1, 1, 1, 1, 1, 1, 1, 1, 1, 1, 1, 1, 1, 1, 1, 1, 1, 1, 1, 1, 1, 1, 1, 1, 1, 1, 1, 1, 1, 1, 1, 1, 1, 1, 1, 1, 1, 1, 1, 1, 1, 1, 1, 1, 1, 1, 1, 1, 1, 1, 1, 1, 1, 0, 0, 0, 0, 0, 0, 0, 0, 0, 0, 0, 0, 0, 0, 0, 0, 0, 0, 0, 0, 0, 0, 0, 0, 0, 0, 0, 0, 0, 0, 0, 0, 0, 0, 0, 0, 0, 0, 0, 0, 0, 0, 0, 0, 0, 0, 0, 0, 0, 0, 0, 0, 0, 0, 0, 0, 0, 0, 0, 0, 0, 0, 0, 0, 0, 0, 0, 0, 0, 0, 0, 0, 0, 0, 0, 0, 0, 0, 0, 0, 0, 0, 0, 0, 0, 0, 0, 0, 0, 0, 0, 0, 0, 0, 0, 0, 0, 0, 0, 0, 0, 0, 0, 0, 0, 0, 0, 0, 0, 0, 0, 0, 0, 0, 0, 0, 0, 0, 0, 0, 0, 0, 0, 0, 0, 0, 0, 0, 0, 0, 0, 0, 0, 0, 0, 0, 0, 0, 0, 0, 0, 0, 0, 0, 0, 0, 0, 0, 0, 0, 0, 0, 0, 0, 0, 0, 0, 0, 0, 0, 0, 0, 0, 0, 0, 0, 0, 0, 0, 0, 0, 0, 0, 0, 0, 0, 0, 0, 0, 0, 0, 0, 0, 0, 0, 0, 0, 0, 0, 0, 0, 0, 0, 0, 0, 0, 0, 0, 0, 0, 0, 0, 0, 0, 0, 0, 0, 0, 0, 0]\n",
      "2665\n"
     ]
    }
   ],
   "source": [
    "TestingData=np.array(TestingData)\n",
    "print(TestingData)\n",
    "print(len(TestingData))\n",
    "print(TestingLabels)\n",
    "print(len(TestingLabels))\n",
    "\n",
    "TrainingData=np.array(TrainingData)\n",
    "print(TrainingData)\n",
    "print(len(TrainingData))\n",
    "print(TrainingLabels)\n",
    "print(len(TrainingLabels))"
   ]
  },
  {
   "cell_type": "code",
   "execution_count": 25,
   "id": "2a377771",
   "metadata": {},
   "outputs": [],
   "source": [
    "def create_embedding_matrix(filepath, word_index, embedding_dim):\n",
    "    vocab_size = len(word_index) + 1  # Adding again 1 because of reserved 0 index\n",
    "    embedding_matrix = np.zeros((vocab_size, embedding_dim))\n",
    "    #print(embedding_matrix.shape)\n",
    "\n",
    "    with open(filepath, encoding='UTF-8') as f: ## You MUST specify the encoding!\n",
    "        for line in f:\n",
    "            word, *vector = line.split()\n",
    "            if word in word_index:\n",
    "                #print(word)\n",
    "                idx = word_index[word] \n",
    "                embedding_matrix[idx] = np.array(\n",
    "                    vector, dtype=np.float32)[:embedding_dim]\n",
    "\n",
    "    return embedding_matrix\n"
   ]
  },
  {
   "cell_type": "code",
   "execution_count": 27,
   "id": "702065a5",
   "metadata": {},
   "outputs": [],
   "source": [
    "GlovePath=\"/home/akhil/CUB/Spring 2023/TM/TM_project/part3/glove.6B/glove.6B.300d.txt\""
   ]
  },
  {
   "cell_type": "code",
   "execution_count": 28,
   "id": "daf91184",
   "metadata": {},
   "outputs": [
    {
     "name": "stdout",
     "output_type": "stream",
     "text": [
      "<class 'numpy.ndarray'>\n",
      "[0. 0. 0. 0. 0. 0. 0. 0. 0. 0. 0. 0. 0. 0. 0. 0. 0. 0. 0. 0. 0. 0. 0. 0.\n",
      " 0. 0. 0. 0. 0. 0. 0. 0. 0. 0. 0. 0. 0. 0. 0. 0. 0. 0. 0. 0. 0. 0. 0. 0.\n",
      " 0. 0. 0. 0. 0. 0. 0. 0. 0. 0. 0. 0. 0. 0. 0. 0. 0. 0. 0. 0. 0. 0. 0. 0.\n",
      " 0. 0. 0. 0. 0. 0. 0. 0. 0. 0. 0. 0. 0. 0. 0. 0. 0. 0. 0. 0. 0. 0. 0. 0.\n",
      " 0. 0. 0. 0. 0. 0. 0. 0. 0. 0. 0. 0. 0. 0. 0. 0. 0. 0. 0. 0. 0. 0. 0. 0.\n",
      " 0. 0. 0. 0. 0. 0. 0. 0. 0. 0. 0. 0. 0. 0. 0. 0. 0. 0. 0. 0. 0. 0. 0. 0.\n",
      " 0. 0. 0. 0. 0. 0. 0. 0. 0. 0. 0. 0. 0. 0. 0. 0. 0. 0. 0. 0. 0. 0. 0. 0.\n",
      " 0. 0. 0. 0. 0. 0. 0. 0. 0. 0. 0. 0. 0. 0. 0. 0. 0. 0. 0. 0. 0. 0. 0. 0.\n",
      " 0. 0. 0. 0. 0. 0. 0. 0. 0. 0. 0. 0. 0. 0. 0. 0. 0. 0. 0. 0. 0. 0. 0. 0.\n",
      " 0. 0. 0. 0. 0. 0. 0. 0. 0. 0. 0. 0. 0. 0. 0. 0. 0. 0. 0. 0. 0. 0. 0. 0.\n",
      " 0. 0. 0. 0. 0. 0. 0. 0. 0. 0. 0. 0. 0. 0. 0. 0. 0. 0. 0. 0. 0. 0. 0. 0.\n",
      " 0. 0. 0. 0. 0. 0. 0. 0. 0. 0. 0. 0. 0. 0. 0. 0. 0. 0. 0. 0. 0. 0. 0. 0.\n",
      " 0. 0. 0. 0. 0. 0. 0. 0. 0. 0. 0. 0.]\n"
     ]
    }
   ],
   "source": [
    "embedding_dim = 300 ## Because we are using glove.6B.300d.txt\n",
    "embedding_matrix = create_embedding_matrix(GlovePath, MyTokenizer.word_index, embedding_dim)\n",
    "print(type(embedding_matrix))\n",
    "print(embedding_matrix[0])"
   ]
  },
  {
   "cell_type": "code",
   "execution_count": 29,
   "id": "53ff1886",
   "metadata": {},
   "outputs": [
    {
     "name": "stdout",
     "output_type": "stream",
     "text": [
      "the\n",
      "Word:  the \n",
      "Embedding:  [ 4.65600006e-02  2.13180006e-01 -7.43639981e-03 -4.58539993e-01\n",
      " -3.56389992e-02  2.36430004e-01 -2.88360000e-01  2.15210006e-01\n",
      " -1.34859994e-01 -1.64129996e+00 -2.60910004e-01  3.24340016e-02\n",
      "  5.66210002e-02 -4.32960019e-02 -2.16719992e-02  2.24759996e-01\n",
      " -7.51290023e-02 -6.70180023e-02 -1.42470002e-01  3.88250016e-02\n",
      " -1.89510003e-01  2.99769998e-01  3.93049985e-01  1.78870007e-01\n",
      " -1.73429996e-01 -2.11779997e-01  2.36169994e-01 -6.36809990e-02\n",
      " -4.23180014e-01 -1.16609998e-01  9.37540010e-02  1.72959998e-01\n",
      " -3.30729991e-01  4.91120011e-01 -6.89949989e-01 -9.24620032e-02\n",
      "  2.47419998e-01 -1.79910004e-01  9.79079977e-02  8.31179991e-02\n",
      "  1.52989998e-01 -2.72760004e-01 -3.89339998e-02  5.44529974e-01\n",
      "  5.37370026e-01  2.91049987e-01 -7.35139987e-03  4.78800014e-02\n",
      " -4.07599986e-01 -2.67590005e-02  1.79189995e-01  1.09770000e-02\n",
      " -1.09630004e-01 -2.63949990e-01  7.39900023e-02  2.62360007e-01\n",
      " -1.50800005e-01  3.46230000e-01  2.57580012e-01  1.19709998e-01\n",
      " -3.71350013e-02 -7.15930015e-02  4.38980013e-01 -4.07640003e-02\n",
      "  1.64250005e-02 -4.46399987e-01  1.71969995e-01  4.62459996e-02\n",
      "  5.86390011e-02  4.14990000e-02  5.39479971e-01  5.24950027e-01\n",
      "  1.13609999e-01 -4.83149998e-02 -3.63849998e-01  1.87040001e-01\n",
      "  9.27610025e-02 -1.11290000e-01 -4.20850009e-01  1.39919996e-01\n",
      " -3.93379986e-01 -6.79450035e-02  1.21880002e-01  1.67070001e-01\n",
      "  7.51689970e-02 -1.55290002e-02 -1.94989994e-01  1.96380004e-01\n",
      "  5.31940013e-02  2.51700014e-01 -3.48450005e-01 -1.06380001e-01\n",
      " -3.46920013e-01 -1.90239996e-01 -2.00399995e-01  1.21540003e-01\n",
      " -2.92079985e-01  2.33529992e-02 -1.16180003e-01 -3.57679993e-01\n",
      "  6.23040013e-02  3.58839989e-01  2.90600006e-02  7.30049983e-03\n",
      "  4.94820019e-03 -1.50480002e-01 -1.23130001e-01  1.93370000e-01\n",
      "  1.21730000e-01  4.45030004e-01  2.51470000e-01  1.07809998e-01\n",
      " -1.77159995e-01  3.86909992e-02  8.15299973e-02  1.46669999e-01\n",
      "  6.36660010e-02  6.13319986e-02 -7.55689964e-02 -3.77240002e-01\n",
      "  1.58500001e-02 -3.03420007e-01  2.83740014e-01 -4.20130007e-02\n",
      " -4.07150015e-02 -1.52689993e-01  7.49799982e-02  1.55770004e-01\n",
      "  1.04330003e-01  3.13930005e-01  1.93090007e-01  1.94289997e-01\n",
      "  1.51850000e-01 -1.01920001e-01 -1.87849998e-02  2.07910001e-01\n",
      "  1.33660004e-01  1.90380007e-01 -2.55580008e-01  3.03999990e-01\n",
      " -1.89599991e-02  2.01470003e-01 -4.21099991e-01 -7.51559995e-03\n",
      " -2.79769987e-01 -1.93140000e-01  4.62040007e-02  1.99709997e-01\n",
      " -3.02069992e-01  2.57349998e-01  6.81070030e-01 -1.94089994e-01\n",
      "  2.39840001e-01  2.24930003e-01  6.52239978e-01 -1.35609999e-01\n",
      " -1.73830003e-01 -4.82090004e-02 -1.18600003e-01  2.15879991e-03\n",
      " -1.95250008e-02  1.19479999e-01  1.93460003e-01 -4.08199996e-01\n",
      " -8.29659998e-02  1.66260004e-01 -1.06009997e-01  3.58610004e-01\n",
      "  1.69220001e-01  7.25900009e-02 -2.48030007e-01 -1.00240000e-01\n",
      " -5.24909973e-01 -1.77450001e-01 -3.66470009e-01  2.61799991e-01\n",
      " -1.20770000e-02  8.31900015e-02 -2.15279996e-01  4.10450011e-01\n",
      "  2.91359991e-01  3.08690012e-01  7.88640007e-02  3.22070003e-01\n",
      " -4.10230011e-02 -1.09700002e-01 -9.20410007e-02 -1.23389997e-01\n",
      " -1.64159998e-01  3.53819996e-01 -8.27739984e-02  3.31710011e-01\n",
      " -2.47380003e-01 -4.89280000e-02  1.57460004e-01  1.89879999e-01\n",
      " -2.66420003e-02  6.33149967e-02 -1.06729995e-02  3.40889990e-01\n",
      "  1.41059995e+00  1.34169996e-01  2.81910002e-01 -2.59400010e-01\n",
      "  5.52669987e-02 -5.24250008e-02 -2.57889986e-01  1.91270001e-02\n",
      " -2.20839996e-02  3.21130008e-01  6.88180029e-02  5.12070000e-01\n",
      "  1.64780006e-01 -2.01940000e-01  2.92320013e-01  9.85750034e-02\n",
      "  1.31449997e-02 -1.06519997e-01  1.35100007e-01 -4.53319997e-02\n",
      "  2.06970006e-01 -4.84250009e-01 -4.47059989e-01  3.33050010e-03\n",
      "  2.92639993e-03 -1.09750003e-01 -2.33250007e-01  2.24419996e-01\n",
      " -1.05030000e-01  1.23389997e-01  1.09779999e-01  4.89940010e-02\n",
      " -2.51569986e-01  4.03189987e-01  3.53179991e-01  1.86509997e-01\n",
      " -2.36220006e-02 -1.27340004e-01  1.14749998e-01  2.73589998e-01\n",
      " -2.18659997e-01  1.57939997e-02  8.17539990e-01 -2.37920005e-02\n",
      " -8.54690015e-01 -1.62029997e-01  1.80759996e-01  2.80140005e-02\n",
      " -1.43399999e-01  1.31389999e-03 -9.17349979e-02 -8.97039995e-02\n",
      "  1.11050002e-01 -1.67030007e-01  6.83770031e-02 -8.73880014e-02\n",
      " -3.97889987e-02  1.41840000e-02  2.11870000e-01  2.85789996e-01\n",
      " -2.87970006e-01 -5.89959994e-02 -3.24359983e-02 -4.70090006e-03\n",
      " -1.70519993e-01 -3.47409993e-02 -1.14890002e-01  7.50930011e-02\n",
      "  9.95260030e-02  4.81830016e-02 -7.37750009e-02 -4.18170005e-01\n",
      "  4.12680022e-03  4.44139987e-01 -1.60620004e-01  1.42940000e-01\n",
      " -2.26279998e+00 -2.73470003e-02  8.13109994e-01  7.74169981e-01\n",
      " -2.56390005e-01 -1.15759999e-01 -1.19819999e-01 -2.13630006e-01\n",
      "  2.84289997e-02  2.72610009e-01  3.10260002e-02  9.67819989e-02\n",
      "  6.77690003e-03  1.40819997e-01 -1.30639998e-02 -2.96860009e-01\n",
      " -7.99129978e-02  1.94999993e-01  3.15489992e-02  2.85059988e-01\n",
      " -8.74610022e-02  9.06109996e-03 -2.09889993e-01  5.39130010e-02]\n",
      "Word:  man \n",
      "Embedding:  [-0.29784    -0.13255    -0.14505    -0.22752    -0.027429    0.11005\n",
      " -0.039245   -0.0089607  -0.18866    -1.12129998  0.34793001 -0.30056\n",
      " -0.50103003 -0.031383   -0.032185    0.018318   -0.090429   -0.14427\n",
      " -0.14306    -0.057477   -0.020931    0.56276    -0.018557    0.15167999\n",
      " -0.25586    -0.081564    0.28029999 -0.10585    -0.16777     0.21814001\n",
      " -0.11845     0.56475002 -0.12645    -0.062461   -0.68043     0.10507\n",
      "  0.24793001 -0.20249    -0.30726001  0.42815     0.38378    -0.19371\n",
      " -0.075951   -0.058287   -0.067195    0.2192      0.56116003 -0.28156\n",
      " -0.13705     0.45754001 -0.14670999 -0.18561999 -0.074146    0.60737002\n",
      "  0.07952     0.41023001  0.18377    -0.08532     0.43794999 -0.34727001\n",
      "  0.2077      0.50454003  0.40244001  0.1095     -0.48078001 -0.22372\n",
      " -0.54619002 -0.20782     0.13751    -0.16205999 -0.24834999  0.17124\n",
      "  0.037355    0.14546999 -0.056205    0.26440001 -0.38029     0.0029947\n",
      "  0.051608    0.21807    -0.071087    0.31542999  0.24593     0.34444001\n",
      " -0.36353999 -0.12137    -0.013511    0.049564    0.031386    0.10316\n",
      " -0.44301     0.11663    -0.055576   -0.091434   -0.070799   -0.017031\n",
      "  0.046024    0.096063    0.10148    -0.33467001 -0.043516    0.38271001\n",
      "  0.018411    0.0049479   0.35587001  0.40432     0.48230001  0.12416\n",
      " -0.051926   -0.081769   -0.21541999  0.71766001 -0.0052553  -0.55427998\n",
      "  0.68032998  0.20254999 -0.19927    -0.11563     0.0030103  -0.74399\n",
      " -0.21086     0.069584   -0.20315    -0.17027    -0.11292    -0.044594\n",
      " -0.2145      0.26097     0.36969    -0.65154999  0.048649    0.044304\n",
      " -0.26604     0.23976    -0.38281    -0.02353    -0.020519   -0.52201998\n",
      " -0.30594999  0.088525    0.28395     0.15056001  0.23202001  0.30537999\n",
      " -0.53674001  0.21362001  0.10999     0.46849999 -0.60017002 -0.13141\n",
      "  0.18707     0.11636     0.24703     0.17168     0.40658    -0.19039001\n",
      "  0.033278   -0.26374     0.28722     0.27658999  0.30153    -0.12622\n",
      "  0.52249998  0.13887    -0.15012001 -0.0038264  -0.074287    0.46348\n",
      "  0.26214999 -0.62671     0.21841    -0.26530999 -0.75294    -0.36826\n",
      "  0.072989   -0.071807    0.10612    -0.087064   -0.053871    0.22379\n",
      "  0.38538     0.053972    0.21208     0.39662001 -0.38609001 -0.52999997\n",
      " -0.34169     0.067624    0.11835     0.60372001  0.21743999 -0.12806\n",
      "  0.13801999  0.22463    -0.21566001 -0.25167    -0.44859001 -0.39111\n",
      " -0.52590001  0.21266     1.97290003  0.13851     0.32966     0.047626\n",
      " -0.37786999 -0.31769001 -0.1283      0.34395999 -0.11061    -0.23345999\n",
      " -0.45133999  0.1605     -0.32800999  0.033373    0.42570999  0.42282999\n",
      " -0.16932     0.14068     0.14087     0.20856    -0.24912     0.38337001\n",
      "  0.43722001 -0.090575    0.021208   -0.22334    -0.42596    -0.47251999\n",
      " -0.19949999  0.32459     0.39765    -0.091573   -0.073528   -0.20073999\n",
      "  0.22082999  0.011314    0.11977    -0.14888    -0.27151999  0.28907999\n",
      "  0.20407     0.098377   -0.1424     -0.059699    0.032529   -0.1877\n",
      "  0.24642999 -0.1128      0.14666     0.076001    0.31108999 -0.22119001\n",
      "  0.033051    0.066731    1.54489994 -0.11096     0.26438001  0.17910001\n",
      "  0.039628   -0.46496999  0.40052    -0.057004    0.11391     0.42397001\n",
      " -0.57410997  0.17205     0.44400999 -0.030134   -0.22060999  0.47222\n",
      " -0.12734    -0.12288     0.33831999  0.41698     0.18355     0.093473\n",
      " -1.93729997  0.053236   -0.10361     0.056681   -0.12726    -0.11681\n",
      "  0.55039001  0.33644     0.27706     0.71183997 -0.1304      0.26108\n",
      " -0.2481      0.0032735  -0.16505     0.11827    -0.26322001 -0.10169\n",
      "  0.24275     0.16926999 -0.15809     0.27612999 -0.2832      0.50554001]\n"
     ]
    }
   ],
   "source": [
    "TheWord=list(filter(lambda x: MyTokenizer.word_index[x] == 1, MyTokenizer.word_index))[0]\n",
    "print(TheWord)\n",
    "print(\"Word: \",TheWord, \"\\nEmbedding: \", embedding_matrix[1])\n",
    "\n",
    "TheWord=list(filter(lambda x: MyTokenizer.word_index[x] == 25, MyTokenizer.word_index))[0]\n",
    "print(\"Word: \",TheWord, \"\\nEmbedding: \", embedding_matrix[25])"
   ]
  },
  {
   "cell_type": "code",
   "execution_count": 30,
   "id": "0e712b25",
   "metadata": {},
   "outputs": [
    {
     "data": {
      "text/plain": [
       "0.8342283446182582"
      ]
     },
     "execution_count": 30,
     "metadata": {},
     "output_type": "execute_result"
    }
   ],
   "source": [
    "nonzero_Emb_Vectors = np.count_nonzero(np.count_nonzero(embedding_matrix, axis=1))\n",
    "nonzero_Emb_Vectors / vocab_size  \n"
   ]
  },
  {
   "cell_type": "code",
   "execution_count": 32,
   "id": "fc1f771c",
   "metadata": {},
   "outputs": [],
   "source": [
    "from tensorflow.keras.models import Sequential\n",
    "from tensorflow.keras import layers"
   ]
  },
  {
   "cell_type": "code",
   "execution_count": 33,
   "id": "1062251d",
   "metadata": {
    "scrolled": true
   },
   "outputs": [
    {
     "name": "stdout",
     "output_type": "stream",
     "text": [
      "Model: \"sequential\"\n",
      "_________________________________________________________________\n",
      " Layer (type)                Output Shape              Param #   \n",
      "=================================================================\n",
      " embedding (Embedding)       (None, 600, 300)          2569800   \n",
      "                                                                 \n",
      " global_max_pooling1d (Globa  (None, 300)              0         \n",
      " lMaxPooling1D)                                                  \n",
      "                                                                 \n",
      " dense (Dense)               (None, 10)                3010      \n",
      "                                                                 \n",
      " dense_1 (Dense)             (None, 1)                 11        \n",
      "                                                                 \n",
      "=================================================================\n",
      "Total params: 2,572,821\n",
      "Trainable params: 3,021\n",
      "Non-trainable params: 2,569,800\n",
      "_________________________________________________________________\n"
     ]
    },
    {
     "name": "stderr",
     "output_type": "stream",
     "text": [
      "2023-05-02 11:58:23.410296: W tensorflow/stream_executor/platform/default/dso_loader.cc:64] Could not load dynamic library 'libcuda.so.1'; dlerror: libcuda.so.1: cannot open shared object file: No such file or directory\n",
      "2023-05-02 11:58:23.410332: W tensorflow/stream_executor/cuda/cuda_driver.cc:269] failed call to cuInit: UNKNOWN ERROR (303)\n",
      "2023-05-02 11:58:23.410359: I tensorflow/stream_executor/cuda/cuda_diagnostics.cc:156] kernel driver does not appear to be running on this host (cookie): /proc/driver/nvidia/version does not exist\n",
      "2023-05-02 11:58:23.410645: I tensorflow/core/platform/cpu_feature_guard.cc:193] This TensorFlow binary is optimized with oneAPI Deep Neural Network Library (oneDNN) to use the following CPU instructions in performance-critical operations:  AVX2 FMA\n",
      "To enable them in other operations, rebuild TensorFlow with the appropriate compiler flags.\n"
     ]
    }
   ],
   "source": [
    "model = Sequential()\n",
    "model.add(layers.Embedding(vocab_size, embedding_dim, \n",
    "                           weights=[embedding_matrix], ## Our Glove Embeddings\n",
    "                           input_length=600, \n",
    "                           trainable=False))  ## You can put True here as well to train the \n",
    "                                              ## embeddings.  \n",
    "model.add(layers.GlobalMaxPool1D())\n",
    "model.add(layers.Dense(10, activation='relu'))\n",
    "model.add(layers.Dense(1, activation='sigmoid'))\n",
    "model.compile(optimizer='adam',\n",
    "              loss='binary_crossentropy',\n",
    "              metrics=['accuracy'])\n",
    "model.summary()\n"
   ]
  },
  {
   "cell_type": "code",
   "execution_count": 34,
   "id": "8377a0cb",
   "metadata": {},
   "outputs": [
    {
     "name": "stdout",
     "output_type": "stream",
     "text": [
      "<class 'numpy.ndarray'>\n",
      "<class 'list'>\n",
      "<class 'numpy.ndarray'>\n",
      "<class 'numpy.ndarray'>\n",
      "<class 'list'>\n",
      "<class 'numpy.ndarray'>\n"
     ]
    }
   ],
   "source": [
    "print(type(TrainingData))\n",
    "print(type(TrainingLabels))\n",
    "## !! The labels need to be an array!\n",
    "TrainingLabels=np.array(TrainingLabels)\n",
    "print(type(TrainingLabels))\n",
    "\n",
    "print(type(TestingData))\n",
    "print(type(TestingLabels))\n",
    "TestingLabels=np.array(TestingLabels)\n",
    "print(type(TestingLabels))\n"
   ]
  },
  {
   "cell_type": "code",
   "execution_count": 35,
   "id": "bf4159ce",
   "metadata": {
    "scrolled": true
   },
   "outputs": [
    {
     "data": {
      "text/plain": [
       "array([1, 1, 1, ..., 0, 0, 0])"
      ]
     },
     "execution_count": 35,
     "metadata": {},
     "output_type": "execute_result"
    }
   ],
   "source": [
    "TrainingLabels"
   ]
  },
  {
   "cell_type": "code",
   "execution_count": null,
   "id": "b240e73f",
   "metadata": {
    "scrolled": true
   },
   "outputs": [
    {
     "name": "stdout",
     "output_type": "stream",
     "text": [
      "Epoch 1/50\n",
      "267/267 [==============================] - 1s 4ms/step - loss: 0.7112 - accuracy: 0.5021 - val_loss: 0.7123 - val_accuracy: 0.4742\n",
      "Epoch 2/50\n",
      "267/267 [==============================] - 1s 4ms/step - loss: 0.7035 - accuracy: 0.5197 - val_loss: 0.6940 - val_accuracy: 0.5458\n",
      "Epoch 3/50\n",
      "267/267 [==============================] - 1s 4ms/step - loss: 0.6862 - accuracy: 0.5591 - val_loss: 0.7478 - val_accuracy: 0.5342\n",
      "Epoch 4/50\n",
      "267/267 [==============================] - 1s 4ms/step - loss: 0.6852 - accuracy: 0.5437 - val_loss: 0.6956 - val_accuracy: 0.5483\n",
      "Epoch 5/50\n",
      "267/267 [==============================] - 1s 4ms/step - loss: 0.6833 - accuracy: 0.5557 - val_loss: 0.6870 - val_accuracy: 0.5550\n",
      "Epoch 6/50\n",
      "267/267 [==============================] - 1s 4ms/step - loss: 0.6831 - accuracy: 0.5655 - val_loss: 0.6861 - val_accuracy: 0.5400\n",
      "Epoch 7/50\n",
      "267/267 [==============================] - 1s 4ms/step - loss: 0.6749 - accuracy: 0.5677 - val_loss: 0.6856 - val_accuracy: 0.5508\n",
      "Epoch 8/50\n",
      "267/267 [==============================] - 1s 4ms/step - loss: 0.6741 - accuracy: 0.5711 - val_loss: 0.6877 - val_accuracy: 0.5408\n",
      "Epoch 9/50\n",
      "267/267 [==============================] - 1s 4ms/step - loss: 0.6775 - accuracy: 0.5636 - val_loss: 0.6936 - val_accuracy: 0.5083\n",
      "Epoch 10/50\n",
      "267/267 [==============================] - 1s 4ms/step - loss: 0.6717 - accuracy: 0.5782 - val_loss: 0.7006 - val_accuracy: 0.5058\n",
      "Epoch 11/50\n",
      "267/267 [==============================] - 1s 4ms/step - loss: 0.6698 - accuracy: 0.5786 - val_loss: 0.6866 - val_accuracy: 0.5525\n",
      "Epoch 12/50\n",
      "267/267 [==============================] - 1s 4ms/step - loss: 0.6708 - accuracy: 0.5719 - val_loss: 0.6842 - val_accuracy: 0.5433\n",
      "Epoch 13/50\n",
      "267/267 [==============================] - 1s 4ms/step - loss: 0.6655 - accuracy: 0.5790 - val_loss: 0.6854 - val_accuracy: 0.5308\n",
      "Epoch 14/50\n",
      "267/267 [==============================] - 1s 4ms/step - loss: 0.6672 - accuracy: 0.5805 - val_loss: 0.6883 - val_accuracy: 0.5517\n",
      "Epoch 15/50\n",
      "267/267 [==============================] - 1s 4ms/step - loss: 0.6658 - accuracy: 0.5801 - val_loss: 0.6858 - val_accuracy: 0.5475\n",
      "Epoch 16/50\n",
      "267/267 [==============================] - 1s 4ms/step - loss: 0.6637 - accuracy: 0.5816 - val_loss: 0.6989 - val_accuracy: 0.5125\n",
      "Epoch 17/50\n",
      "267/267 [==============================] - 1s 4ms/step - loss: 0.6598 - accuracy: 0.5917 - val_loss: 0.7050 - val_accuracy: 0.5125\n",
      "Epoch 18/50\n",
      "267/267 [==============================] - 1s 4ms/step - loss: 0.6625 - accuracy: 0.5835 - val_loss: 0.6880 - val_accuracy: 0.5500\n",
      "Epoch 19/50\n",
      "267/267 [==============================] - 1s 4ms/step - loss: 0.6622 - accuracy: 0.5940 - val_loss: 0.6882 - val_accuracy: 0.5233\n",
      "Epoch 20/50\n",
      "267/267 [==============================] - 1s 4ms/step - loss: 0.6538 - accuracy: 0.6034 - val_loss: 0.6953 - val_accuracy: 0.5583\n",
      "Epoch 21/50\n",
      "267/267 [==============================] - 1s 4ms/step - loss: 0.6542 - accuracy: 0.5925 - val_loss: 0.6911 - val_accuracy: 0.5175\n",
      "Epoch 22/50\n",
      "267/267 [==============================] - 1s 4ms/step - loss: 0.6511 - accuracy: 0.6015 - val_loss: 0.6872 - val_accuracy: 0.5275\n",
      "Epoch 23/50\n",
      "267/267 [==============================] - 1s 4ms/step - loss: 0.6540 - accuracy: 0.5951 - val_loss: 0.6877 - val_accuracy: 0.5408\n",
      "Epoch 24/50\n",
      "267/267 [==============================] - 1s 4ms/step - loss: 0.6519 - accuracy: 0.5989 - val_loss: 0.6865 - val_accuracy: 0.5292\n",
      "Epoch 25/50\n",
      "267/267 [==============================] - 1s 4ms/step - loss: 0.6495 - accuracy: 0.6049 - val_loss: 0.6895 - val_accuracy: 0.5300\n",
      "Epoch 26/50\n",
      "267/267 [==============================] - 1s 4ms/step - loss: 0.6528 - accuracy: 0.5951 - val_loss: 0.6888 - val_accuracy: 0.5292\n",
      "Epoch 27/50\n",
      "267/267 [==============================] - 1s 4ms/step - loss: 0.6460 - accuracy: 0.6128 - val_loss: 0.6898 - val_accuracy: 0.5367\n",
      "Epoch 28/50\n",
      "267/267 [==============================] - 1s 4ms/step - loss: 0.6448 - accuracy: 0.6116 - val_loss: 0.7247 - val_accuracy: 0.5525\n",
      "Epoch 29/50\n",
      "267/267 [==============================] - 1s 4ms/step - loss: 0.6474 - accuracy: 0.6113 - val_loss: 0.6907 - val_accuracy: 0.5433\n",
      "Epoch 30/50\n",
      "267/267 [==============================] - 1s 4ms/step - loss: 0.6445 - accuracy: 0.6060 - val_loss: 0.7047 - val_accuracy: 0.4858\n",
      "Epoch 31/50\n",
      "267/267 [==============================] - 1s 4ms/step - loss: 0.6515 - accuracy: 0.5989 - val_loss: 0.6925 - val_accuracy: 0.5225\n",
      "Epoch 32/50\n",
      "267/267 [==============================] - 1s 4ms/step - loss: 0.6395 - accuracy: 0.6173 - val_loss: 0.6980 - val_accuracy: 0.5333\n",
      "Epoch 33/50\n",
      "267/267 [==============================] - 1s 4ms/step - loss: 0.6424 - accuracy: 0.6086 - val_loss: 0.6895 - val_accuracy: 0.5333\n",
      "Epoch 34/50\n",
      "267/267 [==============================] - 1s 4ms/step - loss: 0.6445 - accuracy: 0.6068 - val_loss: 0.6919 - val_accuracy: 0.5142\n",
      "Epoch 35/50\n",
      "267/267 [==============================] - 1s 4ms/step - loss: 0.6398 - accuracy: 0.6060 - val_loss: 0.6958 - val_accuracy: 0.5483\n",
      "Epoch 36/50\n",
      "267/267 [==============================] - 1s 4ms/step - loss: 0.6366 - accuracy: 0.6154 - val_loss: 0.6933 - val_accuracy: 0.5275\n",
      "Epoch 37/50\n",
      "267/267 [==============================] - 1s 4ms/step - loss: 0.6354 - accuracy: 0.6188 - val_loss: 0.6950 - val_accuracy: 0.5258\n",
      "Epoch 38/50\n",
      "267/267 [==============================] - 1s 4ms/step - loss: 0.6381 - accuracy: 0.6041 - val_loss: 0.6942 - val_accuracy: 0.5125\n",
      "Epoch 39/50\n",
      "267/267 [==============================] - 1s 4ms/step - loss: 0.6341 - accuracy: 0.6068 - val_loss: 0.6959 - val_accuracy: 0.5242\n",
      "Epoch 40/50\n",
      "267/267 [==============================] - 1s 4ms/step - loss: 0.6323 - accuracy: 0.6229 - val_loss: 0.6931 - val_accuracy: 0.5292\n",
      "Epoch 41/50\n",
      "267/267 [==============================] - 1s 4ms/step - loss: 0.6321 - accuracy: 0.6244 - val_loss: 0.6959 - val_accuracy: 0.5167\n",
      "Epoch 42/50\n",
      "267/267 [==============================] - 1s 4ms/step - loss: 0.6377 - accuracy: 0.6251 - val_loss: 0.6940 - val_accuracy: 0.5208\n",
      "Epoch 43/50\n",
      "267/267 [==============================] - 1s 4ms/step - loss: 0.6374 - accuracy: 0.6064 - val_loss: 0.6955 - val_accuracy: 0.5117\n",
      "Epoch 44/50\n",
      "267/267 [==============================] - 1s 4ms/step - loss: 0.6286 - accuracy: 0.6259 - val_loss: 0.6951 - val_accuracy: 0.5183\n",
      "Epoch 45/50\n",
      "267/267 [==============================] - 1s 4ms/step - loss: 0.6326 - accuracy: 0.6188 - val_loss: 0.7051 - val_accuracy: 0.4867\n",
      "Epoch 46/50\n",
      "267/267 [==============================] - 1s 4ms/step - loss: 0.6261 - accuracy: 0.6195 - val_loss: 0.7355 - val_accuracy: 0.5283\n",
      "Epoch 47/50\n",
      "267/267 [==============================] - 1s 4ms/step - loss: 0.6304 - accuracy: 0.6281 - val_loss: 0.6964 - val_accuracy: 0.5192\n",
      "Epoch 48/50\n",
      "267/267 [==============================] - 1s 4ms/step - loss: 0.6323 - accuracy: 0.6199 - val_loss: 0.7042 - val_accuracy: 0.4925\n",
      "Epoch 49/50\n",
      "267/267 [==============================] - 1s 4ms/step - loss: 0.6282 - accuracy: 0.6206 - val_loss: 0.7217 - val_accuracy: 0.5050\n",
      "Epoch 50/50\n",
      "267/267 [==============================] - 1s 4ms/step - loss: 0.6270 - accuracy: 0.6203 - val_loss: 0.6971 - val_accuracy: 0.5267\n"
     ]
    }
   ],
   "source": [
    "history = model.fit(TrainingData, TrainingLabels,\n",
    "                    epochs=50,\n",
    "                    verbose=True,\n",
    "                    validation_data=(TestingData, TestingLabels),\n",
    "                    batch_size=10)"
   ]
  },
  {
   "cell_type": "code",
   "execution_count": null,
   "id": "564740c1",
   "metadata": {},
   "outputs": [],
   "source": [
    "plt.style.use('ggplot')\n",
    "\n",
    "def plot_history(history):\n",
    "    acc = history.history['accuracy']\n",
    "    val_acc = history.history['val_accuracy']\n",
    "    loss = history.history['loss']\n",
    "    val_loss = history.history['val_loss']\n",
    "    x = range(1, len(acc) + 1)\n",
    "\n",
    "    plt.figure(figsize=(12, 5))\n",
    "    plt.subplot(1, 2, 1)\n",
    "    plt.plot(x, acc, 'b', label='Training acc')\n",
    "    plt.plot(x, val_acc, 'r', label='Validation acc')\n",
    "    plt.title('Training and validation accuracy')\n",
    "    plt.legend()\n",
    "    plt.subplot(1, 2, 2)\n",
    "    plt.plot(x, loss, 'b', label='Training loss')\n",
    "    plt.plot(x, val_loss, 'r', label='Validation loss')\n",
    "    plt.title('Training and validation loss')\n",
    "    plt.legend()"
   ]
  },
  {
   "cell_type": "code",
   "execution_count": null,
   "id": "ca38ac55",
   "metadata": {
    "scrolled": true
   },
   "outputs": [],
   "source": [
    "loss, accuracy = model.evaluate(TrainingData, TrainingLabels, verbose=False)\n",
    "print(\"Training Accuracy: {:.4f}\".format(accuracy))\n",
    "loss, accuracy = model.evaluate(TestingData, TestingLabels, verbose=False)\n",
    "print(\"Testing Accuracy:  {:.4f}\".format(accuracy))\n",
    "plot_history(history)"
   ]
  },
  {
   "cell_type": "code",
   "execution_count": null,
   "id": "e44f3f1a",
   "metadata": {},
   "outputs": [],
   "source": []
  },
  {
   "cell_type": "code",
   "execution_count": null,
   "id": "77daef7e",
   "metadata": {},
   "outputs": [],
   "source": []
  },
  {
   "cell_type": "code",
   "execution_count": null,
   "id": "b6f27331",
   "metadata": {},
   "outputs": [],
   "source": []
  },
  {
   "cell_type": "code",
   "execution_count": null,
   "id": "cfc10b6b",
   "metadata": {},
   "outputs": [],
   "source": []
  },
  {
   "cell_type": "code",
   "execution_count": null,
   "id": "5fb2a86b",
   "metadata": {},
   "outputs": [],
   "source": []
  },
  {
   "cell_type": "code",
   "execution_count": null,
   "id": "acae20eb",
   "metadata": {},
   "outputs": [],
   "source": []
  },
  {
   "cell_type": "code",
   "execution_count": null,
   "id": "69a42966",
   "metadata": {},
   "outputs": [],
   "source": []
  },
  {
   "cell_type": "code",
   "execution_count": null,
   "id": "833b155b",
   "metadata": {},
   "outputs": [],
   "source": []
  },
  {
   "cell_type": "code",
   "execution_count": null,
   "id": "02950b23",
   "metadata": {},
   "outputs": [],
   "source": []
  },
  {
   "cell_type": "code",
   "execution_count": null,
   "id": "77e43f8f",
   "metadata": {},
   "outputs": [],
   "source": []
  },
  {
   "cell_type": "code",
   "execution_count": null,
   "id": "0baddafd",
   "metadata": {},
   "outputs": [],
   "source": []
  },
  {
   "cell_type": "code",
   "execution_count": null,
   "id": "83b10664",
   "metadata": {},
   "outputs": [],
   "source": []
  }
 ],
 "metadata": {
  "kernelspec": {
   "display_name": "Python 3 (ipykernel)",
   "language": "python",
   "name": "python3"
  },
  "language_info": {
   "codemirror_mode": {
    "name": "ipython",
    "version": 3
   },
   "file_extension": ".py",
   "mimetype": "text/x-python",
   "name": "python",
   "nbconvert_exporter": "python",
   "pygments_lexer": "ipython3",
   "version": "3.10.6"
  }
 },
 "nbformat": 4,
 "nbformat_minor": 5
}
